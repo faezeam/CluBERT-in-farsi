{
  "nbformat": 4,
  "nbformat_minor": 0,
  "metadata": {
    "colab": {
      "name": "M3-Learning Sense Distributions.ipynb",
      "provenance": [],
      "collapsed_sections": []
    },
    "kernelspec": {
      "name": "python3",
      "display_name": "Python 3"
    },
    "widgets": {
      "application/vnd.jupyter.widget-state+json": {
        "97c0ef14ca26465489035e276feb9ef4": {
          "model_module": "@jupyter-widgets/controls",
          "model_name": "HBoxModel",
          "state": {
            "_view_name": "HBoxView",
            "_dom_classes": [],
            "_model_name": "HBoxModel",
            "_view_module": "@jupyter-widgets/controls",
            "_model_module_version": "1.5.0",
            "_view_count": null,
            "_view_module_version": "1.5.0",
            "box_style": "",
            "layout": "IPY_MODEL_832a04d6b3684373aa7bc77cce6ef8ec",
            "_model_module": "@jupyter-widgets/controls",
            "children": [
              "IPY_MODEL_e9ca1c2b7b914691a3af6a44d12ea727",
              "IPY_MODEL_f9619d033e3b479f80fc9cdb84bc1ee2"
            ]
          },
          "model_module_version": "1.5.0"
        },
        "832a04d6b3684373aa7bc77cce6ef8ec": {
          "model_module": "@jupyter-widgets/base",
          "model_name": "LayoutModel",
          "state": {
            "_view_name": "LayoutView",
            "grid_template_rows": null,
            "right": null,
            "justify_content": null,
            "_view_module": "@jupyter-widgets/base",
            "overflow": null,
            "_model_module_version": "1.2.0",
            "_view_count": null,
            "flex_flow": null,
            "width": null,
            "min_width": null,
            "border": null,
            "align_items": null,
            "bottom": null,
            "_model_module": "@jupyter-widgets/base",
            "top": null,
            "grid_column": null,
            "overflow_y": null,
            "overflow_x": null,
            "grid_auto_flow": null,
            "grid_area": null,
            "grid_template_columns": null,
            "flex": null,
            "_model_name": "LayoutModel",
            "justify_items": null,
            "grid_row": null,
            "max_height": null,
            "align_content": null,
            "visibility": null,
            "align_self": null,
            "height": null,
            "min_height": null,
            "padding": null,
            "grid_auto_rows": null,
            "grid_gap": null,
            "max_width": null,
            "order": null,
            "_view_module_version": "1.2.0",
            "grid_template_areas": null,
            "object_position": null,
            "object_fit": null,
            "grid_auto_columns": null,
            "margin": null,
            "display": null,
            "left": null
          },
          "model_module_version": "1.2.0"
        },
        "e9ca1c2b7b914691a3af6a44d12ea727": {
          "model_module": "@jupyter-widgets/controls",
          "model_name": "FloatProgressModel",
          "state": {
            "_view_name": "ProgressView",
            "style": "IPY_MODEL_7b1a70b482bf458899c86f4230b17cb8",
            "_dom_classes": [],
            "description": "Downloading: 100%",
            "_model_name": "FloatProgressModel",
            "bar_style": "success",
            "max": 440,
            "_view_module": "@jupyter-widgets/controls",
            "_model_module_version": "1.5.0",
            "value": 440,
            "_view_count": null,
            "_view_module_version": "1.5.0",
            "orientation": "horizontal",
            "min": 0,
            "description_tooltip": null,
            "_model_module": "@jupyter-widgets/controls",
            "layout": "IPY_MODEL_1d833482c5064dde9b212ab017ea2bab"
          },
          "model_module_version": "1.5.0"
        },
        "f9619d033e3b479f80fc9cdb84bc1ee2": {
          "model_module": "@jupyter-widgets/controls",
          "model_name": "HTMLModel",
          "state": {
            "_view_name": "HTMLView",
            "style": "IPY_MODEL_c69f729a7e164a8085aceac692850703",
            "_dom_classes": [],
            "description": "",
            "_model_name": "HTMLModel",
            "placeholder": "​",
            "_view_module": "@jupyter-widgets/controls",
            "_model_module_version": "1.5.0",
            "value": " 440/440 [00:00&lt;00:00, 743B/s]",
            "_view_count": null,
            "_view_module_version": "1.5.0",
            "description_tooltip": null,
            "_model_module": "@jupyter-widgets/controls",
            "layout": "IPY_MODEL_36f1bfb91c83483e8909a855d2f4db4e"
          },
          "model_module_version": "1.5.0"
        },
        "7b1a70b482bf458899c86f4230b17cb8": {
          "model_module": "@jupyter-widgets/controls",
          "model_name": "ProgressStyleModel",
          "state": {
            "_view_name": "StyleView",
            "_model_name": "ProgressStyleModel",
            "description_width": "initial",
            "_view_module": "@jupyter-widgets/base",
            "_model_module_version": "1.5.0",
            "_view_count": null,
            "_view_module_version": "1.2.0",
            "bar_color": null,
            "_model_module": "@jupyter-widgets/controls"
          },
          "model_module_version": "1.5.0"
        },
        "1d833482c5064dde9b212ab017ea2bab": {
          "model_module": "@jupyter-widgets/base",
          "model_name": "LayoutModel",
          "state": {
            "_view_name": "LayoutView",
            "grid_template_rows": null,
            "right": null,
            "justify_content": null,
            "_view_module": "@jupyter-widgets/base",
            "overflow": null,
            "_model_module_version": "1.2.0",
            "_view_count": null,
            "flex_flow": null,
            "width": null,
            "min_width": null,
            "border": null,
            "align_items": null,
            "bottom": null,
            "_model_module": "@jupyter-widgets/base",
            "top": null,
            "grid_column": null,
            "overflow_y": null,
            "overflow_x": null,
            "grid_auto_flow": null,
            "grid_area": null,
            "grid_template_columns": null,
            "flex": null,
            "_model_name": "LayoutModel",
            "justify_items": null,
            "grid_row": null,
            "max_height": null,
            "align_content": null,
            "visibility": null,
            "align_self": null,
            "height": null,
            "min_height": null,
            "padding": null,
            "grid_auto_rows": null,
            "grid_gap": null,
            "max_width": null,
            "order": null,
            "_view_module_version": "1.2.0",
            "grid_template_areas": null,
            "object_position": null,
            "object_fit": null,
            "grid_auto_columns": null,
            "margin": null,
            "display": null,
            "left": null
          },
          "model_module_version": "1.2.0"
        },
        "c69f729a7e164a8085aceac692850703": {
          "model_module": "@jupyter-widgets/controls",
          "model_name": "DescriptionStyleModel",
          "state": {
            "_view_name": "StyleView",
            "_model_name": "DescriptionStyleModel",
            "description_width": "",
            "_view_module": "@jupyter-widgets/base",
            "_model_module_version": "1.5.0",
            "_view_count": null,
            "_view_module_version": "1.2.0",
            "_model_module": "@jupyter-widgets/controls"
          },
          "model_module_version": "1.5.0"
        },
        "36f1bfb91c83483e8909a855d2f4db4e": {
          "model_module": "@jupyter-widgets/base",
          "model_name": "LayoutModel",
          "state": {
            "_view_name": "LayoutView",
            "grid_template_rows": null,
            "right": null,
            "justify_content": null,
            "_view_module": "@jupyter-widgets/base",
            "overflow": null,
            "_model_module_version": "1.2.0",
            "_view_count": null,
            "flex_flow": null,
            "width": null,
            "min_width": null,
            "border": null,
            "align_items": null,
            "bottom": null,
            "_model_module": "@jupyter-widgets/base",
            "top": null,
            "grid_column": null,
            "overflow_y": null,
            "overflow_x": null,
            "grid_auto_flow": null,
            "grid_area": null,
            "grid_template_columns": null,
            "flex": null,
            "_model_name": "LayoutModel",
            "justify_items": null,
            "grid_row": null,
            "max_height": null,
            "align_content": null,
            "visibility": null,
            "align_self": null,
            "height": null,
            "min_height": null,
            "padding": null,
            "grid_auto_rows": null,
            "grid_gap": null,
            "max_width": null,
            "order": null,
            "_view_module_version": "1.2.0",
            "grid_template_areas": null,
            "object_position": null,
            "object_fit": null,
            "grid_auto_columns": null,
            "margin": null,
            "display": null,
            "left": null
          },
          "model_module_version": "1.2.0"
        },
        "4e444f8d66774611a3ee42e381d883cf": {
          "model_module": "@jupyter-widgets/controls",
          "model_name": "HBoxModel",
          "state": {
            "_view_name": "HBoxView",
            "_dom_classes": [],
            "_model_name": "HBoxModel",
            "_view_module": "@jupyter-widgets/controls",
            "_model_module_version": "1.5.0",
            "_view_count": null,
            "_view_module_version": "1.5.0",
            "box_style": "",
            "layout": "IPY_MODEL_b460c5be9abc4577a2b66b58484f27c2",
            "_model_module": "@jupyter-widgets/controls",
            "children": [
              "IPY_MODEL_6cce928594df4d609b4a3acee3484598",
              "IPY_MODEL_2d79ee0b331f4f278e479512d24049bc"
            ]
          },
          "model_module_version": "1.5.0"
        },
        "b460c5be9abc4577a2b66b58484f27c2": {
          "model_module": "@jupyter-widgets/base",
          "model_name": "LayoutModel",
          "state": {
            "_view_name": "LayoutView",
            "grid_template_rows": null,
            "right": null,
            "justify_content": null,
            "_view_module": "@jupyter-widgets/base",
            "overflow": null,
            "_model_module_version": "1.2.0",
            "_view_count": null,
            "flex_flow": null,
            "width": null,
            "min_width": null,
            "border": null,
            "align_items": null,
            "bottom": null,
            "_model_module": "@jupyter-widgets/base",
            "top": null,
            "grid_column": null,
            "overflow_y": null,
            "overflow_x": null,
            "grid_auto_flow": null,
            "grid_area": null,
            "grid_template_columns": null,
            "flex": null,
            "_model_name": "LayoutModel",
            "justify_items": null,
            "grid_row": null,
            "max_height": null,
            "align_content": null,
            "visibility": null,
            "align_self": null,
            "height": null,
            "min_height": null,
            "padding": null,
            "grid_auto_rows": null,
            "grid_gap": null,
            "max_width": null,
            "order": null,
            "_view_module_version": "1.2.0",
            "grid_template_areas": null,
            "object_position": null,
            "object_fit": null,
            "grid_auto_columns": null,
            "margin": null,
            "display": null,
            "left": null
          },
          "model_module_version": "1.2.0"
        },
        "6cce928594df4d609b4a3acee3484598": {
          "model_module": "@jupyter-widgets/controls",
          "model_name": "FloatProgressModel",
          "state": {
            "_view_name": "ProgressView",
            "style": "IPY_MODEL_58515d48f50a456bbd4ed6edc4a8b299",
            "_dom_classes": [],
            "description": "Downloading: 100%",
            "_model_name": "FloatProgressModel",
            "bar_style": "success",
            "max": 1198122,
            "_view_module": "@jupyter-widgets/controls",
            "_model_module_version": "1.5.0",
            "value": 1198122,
            "_view_count": null,
            "_view_module_version": "1.5.0",
            "orientation": "horizontal",
            "min": 0,
            "description_tooltip": null,
            "_model_module": "@jupyter-widgets/controls",
            "layout": "IPY_MODEL_a26888b78ebb46539834679a70e2ad6a"
          },
          "model_module_version": "1.5.0"
        },
        "2d79ee0b331f4f278e479512d24049bc": {
          "model_module": "@jupyter-widgets/controls",
          "model_name": "HTMLModel",
          "state": {
            "_view_name": "HTMLView",
            "style": "IPY_MODEL_4937dcab9c68411d9ad9f72fece85f93",
            "_dom_classes": [],
            "description": "",
            "_model_name": "HTMLModel",
            "placeholder": "​",
            "_view_module": "@jupyter-widgets/controls",
            "_model_module_version": "1.5.0",
            "value": " 1.20M/1.20M [00:00&lt;00:00, 2.87MB/s]",
            "_view_count": null,
            "_view_module_version": "1.5.0",
            "description_tooltip": null,
            "_model_module": "@jupyter-widgets/controls",
            "layout": "IPY_MODEL_7634b0fed14b4e098db938a5142dd094"
          },
          "model_module_version": "1.5.0"
        },
        "58515d48f50a456bbd4ed6edc4a8b299": {
          "model_module": "@jupyter-widgets/controls",
          "model_name": "ProgressStyleModel",
          "state": {
            "_view_name": "StyleView",
            "_model_name": "ProgressStyleModel",
            "description_width": "initial",
            "_view_module": "@jupyter-widgets/base",
            "_model_module_version": "1.5.0",
            "_view_count": null,
            "_view_module_version": "1.2.0",
            "bar_color": null,
            "_model_module": "@jupyter-widgets/controls"
          },
          "model_module_version": "1.5.0"
        },
        "a26888b78ebb46539834679a70e2ad6a": {
          "model_module": "@jupyter-widgets/base",
          "model_name": "LayoutModel",
          "state": {
            "_view_name": "LayoutView",
            "grid_template_rows": null,
            "right": null,
            "justify_content": null,
            "_view_module": "@jupyter-widgets/base",
            "overflow": null,
            "_model_module_version": "1.2.0",
            "_view_count": null,
            "flex_flow": null,
            "width": null,
            "min_width": null,
            "border": null,
            "align_items": null,
            "bottom": null,
            "_model_module": "@jupyter-widgets/base",
            "top": null,
            "grid_column": null,
            "overflow_y": null,
            "overflow_x": null,
            "grid_auto_flow": null,
            "grid_area": null,
            "grid_template_columns": null,
            "flex": null,
            "_model_name": "LayoutModel",
            "justify_items": null,
            "grid_row": null,
            "max_height": null,
            "align_content": null,
            "visibility": null,
            "align_self": null,
            "height": null,
            "min_height": null,
            "padding": null,
            "grid_auto_rows": null,
            "grid_gap": null,
            "max_width": null,
            "order": null,
            "_view_module_version": "1.2.0",
            "grid_template_areas": null,
            "object_position": null,
            "object_fit": null,
            "grid_auto_columns": null,
            "margin": null,
            "display": null,
            "left": null
          },
          "model_module_version": "1.2.0"
        },
        "4937dcab9c68411d9ad9f72fece85f93": {
          "model_module": "@jupyter-widgets/controls",
          "model_name": "DescriptionStyleModel",
          "state": {
            "_view_name": "StyleView",
            "_model_name": "DescriptionStyleModel",
            "description_width": "",
            "_view_module": "@jupyter-widgets/base",
            "_model_module_version": "1.5.0",
            "_view_count": null,
            "_view_module_version": "1.2.0",
            "_model_module": "@jupyter-widgets/controls"
          },
          "model_module_version": "1.5.0"
        },
        "7634b0fed14b4e098db938a5142dd094": {
          "model_module": "@jupyter-widgets/base",
          "model_name": "LayoutModel",
          "state": {
            "_view_name": "LayoutView",
            "grid_template_rows": null,
            "right": null,
            "justify_content": null,
            "_view_module": "@jupyter-widgets/base",
            "overflow": null,
            "_model_module_version": "1.2.0",
            "_view_count": null,
            "flex_flow": null,
            "width": null,
            "min_width": null,
            "border": null,
            "align_items": null,
            "bottom": null,
            "_model_module": "@jupyter-widgets/base",
            "top": null,
            "grid_column": null,
            "overflow_y": null,
            "overflow_x": null,
            "grid_auto_flow": null,
            "grid_area": null,
            "grid_template_columns": null,
            "flex": null,
            "_model_name": "LayoutModel",
            "justify_items": null,
            "grid_row": null,
            "max_height": null,
            "align_content": null,
            "visibility": null,
            "align_self": null,
            "height": null,
            "min_height": null,
            "padding": null,
            "grid_auto_rows": null,
            "grid_gap": null,
            "max_width": null,
            "order": null,
            "_view_module_version": "1.2.0",
            "grid_template_areas": null,
            "object_position": null,
            "object_fit": null,
            "grid_auto_columns": null,
            "margin": null,
            "display": null,
            "left": null
          },
          "model_module_version": "1.2.0"
        },
        "cf13161eddb948fb8471cba16472801c": {
          "model_module": "@jupyter-widgets/controls",
          "model_name": "HBoxModel",
          "state": {
            "_view_name": "HBoxView",
            "_dom_classes": [],
            "_model_name": "HBoxModel",
            "_view_module": "@jupyter-widgets/controls",
            "_model_module_version": "1.5.0",
            "_view_count": null,
            "_view_module_version": "1.5.0",
            "box_style": "",
            "layout": "IPY_MODEL_110984b715fa4f788b5cc2f53501ca79",
            "_model_module": "@jupyter-widgets/controls",
            "children": [
              "IPY_MODEL_596b95ef17ef48158636050ed7fcfd97",
              "IPY_MODEL_bbd6009499a5447ab0b6c0987083e250"
            ]
          },
          "model_module_version": "1.5.0"
        },
        "110984b715fa4f788b5cc2f53501ca79": {
          "model_module": "@jupyter-widgets/base",
          "model_name": "LayoutModel",
          "state": {
            "_view_name": "LayoutView",
            "grid_template_rows": null,
            "right": null,
            "justify_content": null,
            "_view_module": "@jupyter-widgets/base",
            "overflow": null,
            "_model_module_version": "1.2.0",
            "_view_count": null,
            "flex_flow": null,
            "width": null,
            "min_width": null,
            "border": null,
            "align_items": null,
            "bottom": null,
            "_model_module": "@jupyter-widgets/base",
            "top": null,
            "grid_column": null,
            "overflow_y": null,
            "overflow_x": null,
            "grid_auto_flow": null,
            "grid_area": null,
            "grid_template_columns": null,
            "flex": null,
            "_model_name": "LayoutModel",
            "justify_items": null,
            "grid_row": null,
            "max_height": null,
            "align_content": null,
            "visibility": null,
            "align_self": null,
            "height": null,
            "min_height": null,
            "padding": null,
            "grid_auto_rows": null,
            "grid_gap": null,
            "max_width": null,
            "order": null,
            "_view_module_version": "1.2.0",
            "grid_template_areas": null,
            "object_position": null,
            "object_fit": null,
            "grid_auto_columns": null,
            "margin": null,
            "display": null,
            "left": null
          },
          "model_module_version": "1.2.0"
        },
        "596b95ef17ef48158636050ed7fcfd97": {
          "model_module": "@jupyter-widgets/controls",
          "model_name": "FloatProgressModel",
          "state": {
            "_view_name": "ProgressView",
            "style": "IPY_MODEL_ee7cb633ecfa408aa70e4d0b1060b603",
            "_dom_classes": [],
            "description": "Downloading: 100%",
            "_model_name": "FloatProgressModel",
            "bar_style": "success",
            "max": 654226731,
            "_view_module": "@jupyter-widgets/controls",
            "_model_module_version": "1.5.0",
            "value": 654226731,
            "_view_count": null,
            "_view_module_version": "1.5.0",
            "orientation": "horizontal",
            "min": 0,
            "description_tooltip": null,
            "_model_module": "@jupyter-widgets/controls",
            "layout": "IPY_MODEL_8f3dd4f8665f4245b83bc522662f0561"
          },
          "model_module_version": "1.5.0"
        },
        "bbd6009499a5447ab0b6c0987083e250": {
          "model_module": "@jupyter-widgets/controls",
          "model_name": "HTMLModel",
          "state": {
            "_view_name": "HTMLView",
            "style": "IPY_MODEL_9c660a5aba854aa7a52916d60b5dda40",
            "_dom_classes": [],
            "description": "",
            "_model_name": "HTMLModel",
            "placeholder": "​",
            "_view_module": "@jupyter-widgets/controls",
            "_model_module_version": "1.5.0",
            "value": " 654M/654M [00:12&lt;00:00, 51.8MB/s]",
            "_view_count": null,
            "_view_module_version": "1.5.0",
            "description_tooltip": null,
            "_model_module": "@jupyter-widgets/controls",
            "layout": "IPY_MODEL_cc50e55eb11b4d989510909935431269"
          },
          "model_module_version": "1.5.0"
        },
        "ee7cb633ecfa408aa70e4d0b1060b603": {
          "model_module": "@jupyter-widgets/controls",
          "model_name": "ProgressStyleModel",
          "state": {
            "_view_name": "StyleView",
            "_model_name": "ProgressStyleModel",
            "description_width": "initial",
            "_view_module": "@jupyter-widgets/base",
            "_model_module_version": "1.5.0",
            "_view_count": null,
            "_view_module_version": "1.2.0",
            "bar_color": null,
            "_model_module": "@jupyter-widgets/controls"
          },
          "model_module_version": "1.5.0"
        },
        "8f3dd4f8665f4245b83bc522662f0561": {
          "model_module": "@jupyter-widgets/base",
          "model_name": "LayoutModel",
          "state": {
            "_view_name": "LayoutView",
            "grid_template_rows": null,
            "right": null,
            "justify_content": null,
            "_view_module": "@jupyter-widgets/base",
            "overflow": null,
            "_model_module_version": "1.2.0",
            "_view_count": null,
            "flex_flow": null,
            "width": null,
            "min_width": null,
            "border": null,
            "align_items": null,
            "bottom": null,
            "_model_module": "@jupyter-widgets/base",
            "top": null,
            "grid_column": null,
            "overflow_y": null,
            "overflow_x": null,
            "grid_auto_flow": null,
            "grid_area": null,
            "grid_template_columns": null,
            "flex": null,
            "_model_name": "LayoutModel",
            "justify_items": null,
            "grid_row": null,
            "max_height": null,
            "align_content": null,
            "visibility": null,
            "align_self": null,
            "height": null,
            "min_height": null,
            "padding": null,
            "grid_auto_rows": null,
            "grid_gap": null,
            "max_width": null,
            "order": null,
            "_view_module_version": "1.2.0",
            "grid_template_areas": null,
            "object_position": null,
            "object_fit": null,
            "grid_auto_columns": null,
            "margin": null,
            "display": null,
            "left": null
          },
          "model_module_version": "1.2.0"
        },
        "9c660a5aba854aa7a52916d60b5dda40": {
          "model_module": "@jupyter-widgets/controls",
          "model_name": "DescriptionStyleModel",
          "state": {
            "_view_name": "StyleView",
            "_model_name": "DescriptionStyleModel",
            "description_width": "",
            "_view_module": "@jupyter-widgets/base",
            "_model_module_version": "1.5.0",
            "_view_count": null,
            "_view_module_version": "1.2.0",
            "_model_module": "@jupyter-widgets/controls"
          },
          "model_module_version": "1.5.0"
        },
        "cc50e55eb11b4d989510909935431269": {
          "model_module": "@jupyter-widgets/base",
          "model_name": "LayoutModel",
          "state": {
            "_view_name": "LayoutView",
            "grid_template_rows": null,
            "right": null,
            "justify_content": null,
            "_view_module": "@jupyter-widgets/base",
            "overflow": null,
            "_model_module_version": "1.2.0",
            "_view_count": null,
            "flex_flow": null,
            "width": null,
            "min_width": null,
            "border": null,
            "align_items": null,
            "bottom": null,
            "_model_module": "@jupyter-widgets/base",
            "top": null,
            "grid_column": null,
            "overflow_y": null,
            "overflow_x": null,
            "grid_auto_flow": null,
            "grid_area": null,
            "grid_template_columns": null,
            "flex": null,
            "_model_name": "LayoutModel",
            "justify_items": null,
            "grid_row": null,
            "max_height": null,
            "align_content": null,
            "visibility": null,
            "align_self": null,
            "height": null,
            "min_height": null,
            "padding": null,
            "grid_auto_rows": null,
            "grid_gap": null,
            "max_width": null,
            "order": null,
            "_view_module_version": "1.2.0",
            "grid_template_areas": null,
            "object_position": null,
            "object_fit": null,
            "grid_auto_columns": null,
            "margin": null,
            "display": null,
            "left": null
          },
          "model_module_version": "1.2.0"
        }
      }
    }
  },
  "cells": [
    {
      "cell_type": "code",
      "metadata": {
        "id": "YcwvnwHSAaLw"
      },
      "source": [
        "\n",
        "###### array modules ######\n",
        "import pandas as pd\n",
        "import numpy as np\n",
        "import bz2\n",
        "###### basic modules ######\n",
        "from collections import Counter\n",
        "import tqdm, os, gc, subprocess, zipfile, gdown, pickle\n",
        "#!pip install gdown\n",
        "from pathlib import Path\n",
        "from termcolor import colored\n",
        "\n"
      ],
      "execution_count": null,
      "outputs": []
    },
    {
      "cell_type": "code",
      "metadata": {
        "id": "eyQ_iOeSAggh"
      },
      "source": [
        "pip install preprocessing"
      ],
      "execution_count": null,
      "outputs": []
    },
    {
      "cell_type": "code",
      "metadata": {
        "id": "vDz7G3xmAk9u"
      },
      "source": [
        "pip install wiki-dump-reader"
      ],
      "execution_count": null,
      "outputs": []
    },
    {
      "cell_type": "code",
      "metadata": {
        "colab": {
          "base_uri": "https://localhost:8080/"
        },
        "id": "fihpfiCeAq-O",
        "outputId": "71bfde8e-b0dd-4b55-dbbc-d6c5d3673c4d"
      },
      "source": [
        "from google.colab import drive\n",
        "drive.mount('/content/mydrive')"
      ],
      "execution_count": null,
      "outputs": [
        {
          "output_type": "stream",
          "text": [
            "Mounted at /content/mydrive\n"
          ],
          "name": "stdout"
        }
      ]
    },
    {
      "cell_type": "markdown",
      "metadata": {
        "id": "Y7qcb5TBkmiv"
      },
      "source": [
        "install Flair embedding"
      ]
    },
    {
      "cell_type": "code",
      "metadata": {
        "id": "xHsuHxRijv-4"
      },
      "source": [
        "pip install flair\n"
      ],
      "execution_count": null,
      "outputs": []
    },
    {
      "cell_type": "markdown",
      "metadata": {
        "id": "OJco920RkuXz"
      },
      "source": [
        "# Using ParsBert for Farsi"
      ]
    },
    {
      "cell_type": "code",
      "metadata": {
        "colab": {
          "base_uri": "https://localhost:8080/",
          "height": 166,
          "referenced_widgets": [
            "97c0ef14ca26465489035e276feb9ef4",
            "832a04d6b3684373aa7bc77cce6ef8ec",
            "e9ca1c2b7b914691a3af6a44d12ea727",
            "f9619d033e3b479f80fc9cdb84bc1ee2",
            "7b1a70b482bf458899c86f4230b17cb8",
            "1d833482c5064dde9b212ab017ea2bab",
            "c69f729a7e164a8085aceac692850703",
            "36f1bfb91c83483e8909a855d2f4db4e",
            "4e444f8d66774611a3ee42e381d883cf",
            "b460c5be9abc4577a2b66b58484f27c2",
            "6cce928594df4d609b4a3acee3484598",
            "2d79ee0b331f4f278e479512d24049bc",
            "58515d48f50a456bbd4ed6edc4a8b299",
            "a26888b78ebb46539834679a70e2ad6a",
            "4937dcab9c68411d9ad9f72fece85f93",
            "7634b0fed14b4e098db938a5142dd094",
            "cf13161eddb948fb8471cba16472801c",
            "110984b715fa4f788b5cc2f53501ca79",
            "596b95ef17ef48158636050ed7fcfd97",
            "bbd6009499a5447ab0b6c0987083e250",
            "ee7cb633ecfa408aa70e4d0b1060b603",
            "8f3dd4f8665f4245b83bc522662f0561",
            "9c660a5aba854aa7a52916d60b5dda40",
            "cc50e55eb11b4d989510909935431269"
          ]
        },
        "id": "vFPACpTAj2qb",
        "outputId": "2c45e54c-8114-40b3-ae3d-cfad5445fa29"
      },
      "source": [
        "from flair.embeddings import FlairEmbeddings, TransformerWordEmbeddings\n",
        "bert_embedding = TransformerWordEmbeddings(\"HooshvareLab/bert-fa-base-uncased\")"
      ],
      "execution_count": null,
      "outputs": [
        {
          "output_type": "display_data",
          "data": {
            "application/vnd.jupyter.widget-view+json": {
              "model_id": "97c0ef14ca26465489035e276feb9ef4",
              "version_minor": 0,
              "version_major": 2
            },
            "text/plain": [
              "HBox(children=(FloatProgress(value=0.0, description='Downloading', max=440.0, style=ProgressStyle(description_…"
            ]
          },
          "metadata": {
            "tags": []
          }
        },
        {
          "output_type": "stream",
          "text": [
            "\n"
          ],
          "name": "stdout"
        },
        {
          "output_type": "display_data",
          "data": {
            "application/vnd.jupyter.widget-view+json": {
              "model_id": "4e444f8d66774611a3ee42e381d883cf",
              "version_minor": 0,
              "version_major": 2
            },
            "text/plain": [
              "HBox(children=(FloatProgress(value=0.0, description='Downloading', max=1198122.0, style=ProgressStyle(descript…"
            ]
          },
          "metadata": {
            "tags": []
          }
        },
        {
          "output_type": "stream",
          "text": [
            "\n"
          ],
          "name": "stdout"
        },
        {
          "output_type": "display_data",
          "data": {
            "application/vnd.jupyter.widget-view+json": {
              "model_id": "cf13161eddb948fb8471cba16472801c",
              "version_minor": 0,
              "version_major": 2
            },
            "text/plain": [
              "HBox(children=(FloatProgress(value=0.0, description='Downloading', max=654226731.0, style=ProgressStyle(descri…"
            ]
          },
          "metadata": {
            "tags": []
          }
        },
        {
          "output_type": "stream",
          "text": [
            "\n"
          ],
          "name": "stdout"
        }
      ]
    },
    {
      "cell_type": "code",
      "metadata": {
        "id": "WWR6TUMqj9k_"
      },
      "source": [
        "from flair.embeddings import StackedEmbeddings\n",
        "\n",
        "# now create the StackedEmbedding object that combines all embeddings\n",
        "stacked_embeddings = StackedEmbeddings(\n",
        "    embeddings=[bert_embedding])"
      ],
      "execution_count": null,
      "outputs": []
    },
    {
      "cell_type": "code",
      "metadata": {
        "id": "YatdQImLpZ3z"
      },
      "source": [
        "###### embedding creation modules ######\n",
        "!pip install gensim==3.8.3\n",
        "import gensim\n",
        "from gensim.models import FastText\n",
        "from gensim.models import Word2Vec"
      ],
      "execution_count": null,
      "outputs": []
    },
    {
      "cell_type": "code",
      "metadata": {
        "id": "1CQHh3GT2L-7"
      },
      "source": [
        "from wiki_dump_reader import Cleaner, iterate\n",
        "import  preprocessing as ps\n",
        "\n",
        "cleaner = Cleaner()\n",
        "file = open(\"/mydrive/My Drive/nlpproject/newwiki.txt\",'w')\n",
        "\n",
        "i=0\n",
        "starting_words = {}\n",
        "for title, text in iterate('/mydrive/My Drive/nlpproject/fawiki-20210101-pages-articles.xml'):\n",
        "        i+=1\n",
        "        print(i)\n",
        "        text = cleaner.clean_text(text)\n",
        "        cleaned_text, links = cleaner.build_links(text)\n",
        "        file.write(cleaned_text)\n",
        "        file.write(\"\\n\")"
      ],
      "execution_count": null,
      "outputs": []
    },
    {
      "cell_type": "markdown",
      "metadata": {
        "id": "NgASRguXk4-n"
      },
      "source": [
        "# Unzip of wiki dump"
      ]
    },
    {
      "cell_type": "code",
      "metadata": {
        "id": "MptcS_2lkBKr"
      },
      "source": [
        "f=open(\"/content/mydrive/My Drive/nlpproject/newwiki.txt\",'r')\n",
        "wikitext=f.readlines()"
      ],
      "execution_count": null,
      "outputs": []
    },
    {
      "cell_type": "code",
      "metadata": {
        "id": "zrcx6cEvkIgT"
      },
      "source": [
        "import numpy as np\n",
        "import matplotlib.pyplot as plt\n",
        "from sklearn.cluster import KMeans\n",
        "\n"
      ],
      "execution_count": null,
      "outputs": []
    },
    {
      "cell_type": "code",
      "metadata": {
        "id": "dKp1QZVwpwUw"
      },
      "source": [
        "!pip install hazm\n",
        "import spacy\n",
        "from hazm import *"
      ],
      "execution_count": null,
      "outputs": []
    },
    {
      "cell_type": "code",
      "metadata": {
        "id": "T5v-GpvgwtTP"
      },
      "source": [
        "!pip install parsivar\n",
        "from parsivar import Tokenizer as T\n",
        "my_tokenizer = T()\n",
        "from parsivar import POSTagger\n",
        "my_tagger = POSTagger(tagging_model=\"wapiti\")"
      ],
      "execution_count": null,
      "outputs": []
    },
    {
      "cell_type": "code",
      "metadata": {
        "id": "UpxmJLO7kJ-j"
      },
      "source": [
        "from flair.data import Sentence"
      ],
      "execution_count": null,
      "outputs": []
    },
    {
      "cell_type": "code",
      "metadata": {
        "id": "ynIeVHZtuZaV"
      },
      "source": [
        "def preprocessing_data(line, remove_stop_word=False,\n",
        "                     lemmatize=False,\n",
        "                     stem=False):\n",
        "    line = normalizer.normalize(line)\n",
        "    line = tokenizer.tokenize(line)\n",
        "    if remove_stop_word:\n",
        "        line = [word for word in line if word not in stop_w_list]\n",
        "    if stem:\n",
        "        line = [stemmer.stem(word) for word in line]\n",
        "    if lemmatize:\n",
        "        line = [lemmatizer.lemmatize(word) for word in line]\n",
        "        line\n",
        "    line = ' '.join(line)\n",
        "    return line\n",
        "\n",
        "\n",
        "stemmer = Stemmer()\n",
        "lemmatizer = Lemmatizer()\n",
        "sent_tokenizer = SentenceTokenizer()\n",
        "normalizer = Normalizer()\n",
        "tokenizer = WordTokenizer()\n",
        "stop_w_list = stopwords_list()"
      ],
      "execution_count": null,
      "outputs": []
    },
    {
      "cell_type": "markdown",
      "metadata": {
        "id": "fY4oD1cQ7l6I"
      },
      "source": [
        "### **UKB**"
      ]
    },
    {
      "cell_type": "code",
      "metadata": {
        "colab": {
          "base_uri": "https://localhost:8080/"
        },
        "id": "9c4EBDO_7uCp",
        "outputId": "d1656056-5159-44bd-b3d6-4e910f8df58c"
      },
      "source": [
        "def un_zip(path):\n",
        "    if not os.path.exists(path):\n",
        "      with zipfile.ZipFile(path+'.zip','r') as zip_ref:\n",
        "          zip_ref.extractall(path)\n",
        "\n",
        "\n",
        "save_path = \"/content/mydrive/My Drive/ex1deep/\"\n",
        "Path(save_path).mkdir(parents=True, exist_ok=True)\n",
        "\n",
        "\n",
        "url = 'https://drive.google.com/uc?id=1I3ifjvMdcwOTdw4vW0sZgpfh9E2h7NG-'\n",
        "output = save_path + 'ukb.zip'\n",
        "gdown.download(url, output, quiet=False)\n",
        "un_zip(save_path + 'ukb')"
      ],
      "execution_count": null,
      "outputs": [
        {
          "output_type": "stream",
          "text": [
            "Downloading...\n",
            "From: https://drive.google.com/uc?id=1I3ifjvMdcwOTdw4vW0sZgpfh9E2h7NG-\n",
            "To: /content/mydrive/My Drive/nlpproject/ukb.zip\n",
            "23.8MB [00:00, 79.4MB/s]\n"
          ],
          "name": "stderr"
        }
      ]
    },
    {
      "cell_type": "code",
      "metadata": {
        "colab": {
          "base_uri": "https://localhost:8080/"
        },
        "id": "y9F6BZRq9WRa",
        "outputId": "cc670346-8d7e-4127-8579-6b4f89378551"
      },
      "source": [
        "%tensorflow_version 2.x\n",
        "import tensorflow as tf\n",
        "device_name = tf.test.gpu_device_name()\n",
        "if device_name != '/device:GPU:0':\n",
        "  print('GPU device not found')\n",
        "print('Found GPU at: {}'.format(device_name))"
      ],
      "execution_count": null,
      "outputs": [
        {
          "output_type": "stream",
          "text": [
            "Found GPU at: /device:GPU:0\n"
          ],
          "name": "stdout"
        }
      ]
    },
    {
      "cell_type": "code",
      "metadata": {
        "colab": {
          "base_uri": "https://localhost:8080/"
        },
        "id": "nBKtxS58FUX3",
        "outputId": "7c93b7f1-8eb2-4748-8066-33eb97d5d382"
      },
      "source": [
        "!pwd"
      ],
      "execution_count": null,
      "outputs": [
        {
          "output_type": "stream",
          "text": [
            "/content/mydrive/My Drive/nlpproject/ukb/bin\n"
          ],
          "name": "stdout"
        }
      ]
    },
    {
      "cell_type": "code",
      "metadata": {
        "id": "01HowqLb-RTP"
      },
      "source": [
        "import os\n",
        "os.chdir('/content/mydrive/My Drive/nlpproject/ukb/bin')"
      ],
      "execution_count": null,
      "outputs": []
    },
    {
      "cell_type": "code",
      "metadata": {
        "id": "K5P98G6HuwH9"
      },
      "source": [
        "!unzip '/content/mydrive/My Drive/nlpproject/ukb.zip' -d '/content/mydrive/My Drive/nlpproject' "
      ],
      "execution_count": null,
      "outputs": []
    },
    {
      "cell_type": "code",
      "metadata": {
        "colab": {
          "base_uri": "https://localhost:8080/"
        },
        "id": "ILI3QSC6DPCu",
        "outputId": "2a7e3dfc-3718-4b49-c4c4-6b0d4c8ed5ae"
      },
      "source": [
        "! ./ukb_wsd --ppr_w2w --allranks  -K fn3.bin -D DICT_TEST.txt karshenas1.txt "
      ],
      "execution_count": null,
      "outputs": [
        {
          "output_type": "stream",
          "text": [
            "!! -v 2.2 ./ukb_wsd --ppr_w2w --allranks -K fn3.bin -D DICT_TEST.txt karshenas1.txt\n",
            "ctx_00 w1  13328-n/0.987518 11998-n/0.0124818 !! کارشناس\n"
          ],
          "name": "stdout"
        }
      ]
    },
    {
      "cell_type": "code",
      "metadata": {
        "colab": {
          "base_uri": "https://localhost:8080/"
        },
        "id": "-VJvh7xdJg02",
        "outputId": "79897089-f4f8-48b9-d0a2-679bfeffab71"
      },
      "source": [
        "! ./ukb_wsd --ppr_w2w --allranks  -K fn3.bin -D DICT_TEST.txt karshenas2.txt "
      ],
      "execution_count": null,
      "outputs": [
        {
          "output_type": "stream",
          "text": [
            "!! -v 2.2 ./ukb_wsd --ppr_w2w --allranks -K fn3.bin -D DICT_TEST.txt karshenas2.txt\n",
            "ctx_00 w2  13328-n/0.9759 11998-n/0.0241002 !! کارشناس\n"
          ],
          "name": "stdout"
        }
      ]
    },
    {
      "cell_type": "markdown",
      "metadata": {
        "id": "ZkXMsroclDyK"
      },
      "source": [
        "#  senteces for each word\n",
        "**کارشناس**"
      ]
    },
    {
      "cell_type": "code",
      "metadata": {
        "id": "S8Ayv_z-kQwv"
      },
      "source": [
        "#num1\n",
        "karshenas= []\n",
        "for i in wikitext:\n",
        "  if \" کارشناس \" in i:\n",
        "    if(len(i)<350):\n",
        "      i=i.replace(\"\\u200c\",\"\")\n",
        "      karshenas.append(i.rstrip(\"\\n\"))\n",
        "    \n",
        "#karshenas=karshenas[:200]\n"
      ],
      "execution_count": null,
      "outputs": []
    },
    {
      "cell_type": "markdown",
      "metadata": {
        "id": "clfUt9hUlL1J"
      },
      "source": [
        "# Embedding of 200 sentences"
      ]
    },
    {
      "cell_type": "code",
      "metadata": {
        "id": "Er-Esj87khNk"
      },
      "source": [
        "karshenas2=[]\n",
        "c=0\n",
        "sum=0\n",
        "for i in karshenas:\n",
        "    sentence = Sentence(i)\n",
        "    stacked_embeddings.embed(sentence)\n",
        "    for token in sentence:\n",
        "        sum+=token.embedding\n",
        "        c+=1\n",
        "    sum=sum / c\n",
        "    karshenas2.append(np.array(sum))"
      ],
      "execution_count": null,
      "outputs": []
    },
    {
      "cell_type": "markdown",
      "metadata": {
        "id": "IuEoghd-Pdul"
      },
      "source": [
        "# Clustering with K-Means"
      ]
    },
    {
      "cell_type": "code",
      "metadata": {
        "colab": {
          "base_uri": "https://localhost:8080/",
          "height": 264
        },
        "id": "18XlG1WYIQxs",
        "outputId": "54cc335b-fe32-4d24-c6c8-4c7043fe3363"
      },
      "source": [
        "karshenas2=np.array(karshenas2)\n",
        "kmeans = KMeans(n_clusters=2, random_state=0).fit(karshenas2)\n",
        "y_kmeans = kmeans.predict(karshenas2)\n",
        "labels=kmeans.labels_\n",
        "plt.scatter(karshenas2[:, 0], karshenas2[:, 1], c=y_kmeans, cmap='viridis')\n",
        "plt.show()"
      ],
      "execution_count": null,
      "outputs": [
        {
          "output_type": "display_data",
          "data": {
            "image/png": "[encoded data removed]",
            "text/plain": [
              "<Figure size 432x288 with 1 Axes>"
            ]
          },
          "metadata": {
            "tags": [],
            "needs_background": "light"
          }
        }
      ]
    },
    {
      "cell_type": "code",
      "metadata": {
        "colab": {
          "base_uri": "https://localhost:8080/",
          "height": 406
        },
        "id": "Z1b1l8IDIbTW",
        "outputId": "36a4f6dc-6dfa-40ed-d79b-f5c3bdd9263e"
      },
      "source": [
        "df = pd.DataFrame(columns=[\"معنی1\",\"معنی2\"])\n",
        "for i in range(len(karshenas)):\n",
        "  if labels[i]==0:\n",
        "    df=df.append({\"معنی1\":karshenas[i]}, ignore_index=True)\n",
        "  elif labels[i]==1:\n",
        "    df=df.append({\"معنی2\":karshenas[i]}, ignore_index=True)\n",
        "    \n",
        "\n",
        "#removing NaN\n",
        "df = df.apply(lambda x: pd.Series(x.dropna().values))\n",
        "df = df.fillna('')\n",
        "df"
      ],
      "execution_count": null,
      "outputs": [
        {
          "output_type": "execute_result",
          "data": {
            "text/html": [
              "<div>\n",
              "<style scoped>\n",
              "    .dataframe tbody tr th:only-of-type {\n",
              "        vertical-align: middle;\n",
              "    }\n",
              "\n",
              "    .dataframe tbody tr th {\n",
              "        vertical-align: top;\n",
              "    }\n",
              "\n",
              "    .dataframe thead th {\n",
              "        text-align: right;\n",
              "    }\n",
              "</style>\n",
              "<table border=\"1\" class=\"dataframe\">\n",
              "  <thead>\n",
              "    <tr style=\"text-align: right;\">\n",
              "      <th></th>\n",
              "      <th>معنی1</th>\n",
              "      <th>معنی2</th>\n",
              "    </tr>\n",
              "  </thead>\n",
              "  <tbody>\n",
              "    <tr>\n",
              "      <th>0</th>\n",
              "      <td>نوشتار: لهجه فارسی کاکری، غلام حیدر یگانه - کا...</td>\n",
              "      <td>وبگاه ماهنامه ورزش خانواده سید جلال عسگری، کا...</td>\n",
              "    </tr>\n",
              "    <tr>\n",
              "      <th>1</th>\n",
              "      <td>نوشتار: لهجه فارسی کاکری، غلام حیدر یگانه - کا...</td>\n",
              "      <td>نوشتار: لهجه فارسی کاکری، غلام حیدر یگانه - کا...</td>\n",
              "    </tr>\n",
              "    <tr>\n",
              "      <th>2</th>\n",
              "      <td>احمد شهید کارشناس آزادی مذهبی سازمان ملل در سف...</td>\n",
              "      <td></td>\n",
              "    </tr>\n",
              "    <tr>\n",
              "      <th>3</th>\n",
              "      <td>مهدی سیدی، پژوهشگر و کارشناس در زمینهٔ لهجه و ...</td>\n",
              "      <td></td>\n",
              "    </tr>\n",
              "    <tr>\n",
              "      <th>4</th>\n",
              "      <td>از معروفترین آثار او به پارسی، «اساس الاقتباس»...</td>\n",
              "      <td></td>\n",
              "    </tr>\n",
              "    <tr>\n",
              "      <th>...</th>\n",
              "      <td>...</td>\n",
              "      <td>...</td>\n",
              "    </tr>\n",
              "    <tr>\n",
              "      <th>930</th>\n",
              "      <td>۲. کارشناس رسمی قوه قضائیه /  رشته بورس و اورا...</td>\n",
              "      <td></td>\n",
              "    </tr>\n",
              "    <tr>\n",
              "      <th>931</th>\n",
              "      <td>۱۳. شرکت کارگزاری مفید / کارشناس و مسئول مرکز ...</td>\n",
              "      <td></td>\n",
              "    </tr>\n",
              "    <tr>\n",
              "      <th>932</th>\n",
              "      <td>دلاور نجفی، کارشناس ارشد منابع طبیعی محیط زیست...</td>\n",
              "      <td></td>\n",
              "    </tr>\n",
              "    <tr>\n",
              "      <th>933</th>\n",
              "      <td>تأیید و ثبت نام: مراحل بالا باید توسط یک کارشن...</td>\n",
              "      <td></td>\n",
              "    </tr>\n",
              "    <tr>\n",
              "      <th>934</th>\n",
              "      <td>=== کارشناس ارشد ( فیزیوتراپی ورزشی ) آسیب شنا...</td>\n",
              "      <td></td>\n",
              "    </tr>\n",
              "  </tbody>\n",
              "</table>\n",
              "<p>935 rows × 2 columns</p>\n",
              "</div>"
            ],
            "text/plain": [
              "                                                 معنی1                                              معنی2\n",
              "0    نوشتار: لهجه فارسی کاکری، غلام حیدر یگانه - کا...   وبگاه ماهنامه ورزش خانواده سید جلال عسگری، کا...\n",
              "1    نوشتار: لهجه فارسی کاکری، غلام حیدر یگانه - کا...  نوشتار: لهجه فارسی کاکری، غلام حیدر یگانه - کا...\n",
              "2    احمد شهید کارشناس آزادی مذهبی سازمان ملل در سف...                                                   \n",
              "3    مهدی سیدی، پژوهشگر و کارشناس در زمینهٔ لهجه و ...                                                   \n",
              "4    از معروفترین آثار او به پارسی، «اساس الاقتباس»...                                                   \n",
              "..                                                 ...                                                ...\n",
              "930  ۲. کارشناس رسمی قوه قضائیه /  رشته بورس و اورا...                                                   \n",
              "931  ۱۳. شرکت کارگزاری مفید / کارشناس و مسئول مرکز ...                                                   \n",
              "932  دلاور نجفی، کارشناس ارشد منابع طبیعی محیط زیست...                                                   \n",
              "933  تأیید و ثبت نام: مراحل بالا باید توسط یک کارشن...                                                   \n",
              "934  === کارشناس ارشد ( فیزیوتراپی ورزشی ) آسیب شنا...                                                   \n",
              "\n",
              "[935 rows x 2 columns]"
            ]
          },
          "metadata": {
            "tags": []
          },
          "execution_count": 26
        }
      ]
    },
    {
      "cell_type": "markdown",
      "metadata": {
        "id": "e_ZQhOR8D1gt"
      },
      "source": [
        "### **POS TAGGING**"
      ]
    },
    {
      "cell_type": "code",
      "metadata": {
        "colab": {
          "base_uri": "https://localhost:8080/"
        },
        "id": "AGgmPF9XwfGe",
        "outputId": "fbb28fb5-897b-4c24-e036-cfa41bfcd0d1"
      },
      "source": [
        "list1 = df['معنی1'].to_list()\n",
        "\n",
        "mani1karshenas=[]\n",
        "for s in range(len(list1)):\n",
        "  #sents = parsivar_tokenizer.tokenize_words(s)\n",
        "  text_tags = my_tagger.parse(my_tokenizer.tokenize_words(list1[s]))\n",
        "  for i in text_tags:\n",
        "    if i[0] not in stop_w_list:\n",
        "      mani1karshenas.append(i)\n",
        "\n",
        "\n",
        "from collections import Counter \n",
        "most_common_words= [word for word, word_count in Counter(mani1karshenas).most_common(6)]\n",
        "print(most_common_words)"
      ],
      "execution_count": null,
      "outputs": [
        {
          "output_type": "stream",
          "text": [
            "[('کارشناس', 'N_SING'), ('سال', 'N_SING'), ('ایران', 'N_SING'), ('عنوان', 'N_SING'), ('ارشد', 'ADJ'), ('دانشگاه', 'N_SING')]\n"
          ],
          "name": "stdout"
        }
      ]
    },
    {
      "cell_type": "code",
      "metadata": {
        "colab": {
          "base_uri": "https://localhost:8080/"
        },
        "id": "vR2elOUs5wWj",
        "outputId": "b6474a1e-b536-4f76-ed96-ba1f5cd22d92"
      },
      "source": [
        "list1 = df['معنی2'].to_list()\n",
        "mani2karshenas=[]\n",
        "\n",
        "for s in range(len(list1)):\n",
        "  #sents = parsivar_tokenizer.tokenize_words(s)\n",
        "  text_tags = my_tagger.parse(my_tokenizer.tokenize_words(list1[s]))\n",
        "  for i in text_tags:\n",
        "    if i[0] not in stop_w_list:\n",
        "      mani2karshenas.append(i)\n",
        "\n",
        "from collections import Counter \n",
        "most_common_words= [word for word, word_count in Counter(mani2karshenas).most_common(6)]\n",
        "print(most_common_words)\n"
      ],
      "execution_count": null,
      "outputs": [
        {
          "output_type": "stream",
          "text": [
            "[('ورزش', 'N_SING'), ('کارشناس', 'N_SING'), ('زبان', 'N_SING'), ('ادبیات', 'N_SING'), ('وبگاه', 'N_SING'), ('ماهنامه', 'N_SING')]\n"
          ],
          "name": "stdout"
        }
      ]
    },
    {
      "cell_type": "markdown",
      "metadata": {
        "id": "wXJn2aj6UgIH"
      },
      "source": [
        "935"
      ]
    },
    {
      "cell_type": "code",
      "metadata": {
        "colab": {
          "base_uri": "https://localhost:8080/"
        },
        "id": "wptMOHAnJmMX",
        "outputId": "0002fc32-2dd6-4347-fa5e-4e1717b76c5a"
      },
      "source": [
        "! ./ukb_wsd --ppr_w2w --allranks  -K fn3.bin -D DICT_TEST.txt karshenas1.txt "
      ],
      "execution_count": null,
      "outputs": [
        {
          "output_type": "stream",
          "text": [
            "!! -v 2.2 ./ukb_wsd --ppr_w2w --allranks -K fn3.bin -D DICT_TEST.txt karshenas1.txt\n",
            "ctx_00 w1  13328-n/0.919972 11998-n/0.0800277 !! کارشناس\n"
          ],
          "name": "stdout"
        }
      ]
    },
    {
      "cell_type": "markdown",
      "metadata": {
        "id": "PYqMYVh9UhWl"
      },
      "source": [
        "2"
      ]
    },
    {
      "cell_type": "code",
      "metadata": {
        "colab": {
          "base_uri": "https://localhost:8080/"
        },
        "id": "CdmreUaEJm1f",
        "outputId": "85ea4343-996d-4976-e4cd-41d4f5f89802"
      },
      "source": [
        "! ./ukb_wsd --ppr_w2w --allranks  -K fn3.bin -D DICT_TEST.txt karshenas2.txt "
      ],
      "execution_count": null,
      "outputs": [
        {
          "output_type": "stream",
          "text": [
            "!! -v 2.2 ./ukb_wsd --ppr_w2w --allranks -K fn3.bin -D DICT_TEST.txt karshenas2.txt\n",
            "ctx_00 w2  13328-n/0.9759 11998-n/0.0241002 !! کارشناس\n"
          ],
          "name": "stdout"
        }
      ]
    },
    {
      "cell_type": "markdown",
      "metadata": {
        "id": "6urgIvgHEhVj"
      },
      "source": [
        "# بازار"
      ]
    },
    {
      "cell_type": "code",
      "metadata": {
        "id": "UY5ch4rVlWXT"
      },
      "source": [
        "#word #2\n",
        "bazar= []\n",
        "counter=0\n",
        "for i in wikitext:\n",
        "  if \" بازار \" in i:\n",
        "    if(len(i)<350):\n",
        "      i=i.replace(\"\\u200c\",\"\")\n",
        "      bazar.append(i.rstrip(\"\\n\"))\n",
        "\n",
        "#bazar=bazar[:200]"
      ],
      "execution_count": null,
      "outputs": []
    },
    {
      "cell_type": "markdown",
      "metadata": {
        "id": "w57MsAfAdARR"
      },
      "source": [
        ""
      ]
    },
    {
      "cell_type": "code",
      "metadata": {
        "id": "1ET6wmvilojY"
      },
      "source": [
        "bazar2=[]\n",
        "c=0\n",
        "sum=0\n",
        "for i in bazar:\n",
        "    sentence = Sentence(i)\n",
        "    stacked_embeddings.embed(sentence)\n",
        "    for token in sentence:\n",
        "        sum+=token.embedding\n",
        "        c+=1\n",
        "    sum=sum / c\n",
        "    bazar2.append(np.array(sum)) #matrix of arrays"
      ],
      "execution_count": null,
      "outputs": []
    },
    {
      "cell_type": "code",
      "metadata": {
        "colab": {
          "base_uri": "https://localhost:8080/",
          "height": 264
        },
        "id": "tpbi4THvHdKy",
        "outputId": "5ab9a59f-942e-432a-e0ec-c70d01de8c0b"
      },
      "source": [
        "bazar2=np.array(bazar2)\n",
        "kmeans = KMeans(n_clusters=8, random_state=0).fit(bazar2)\n",
        "y_kmeans = kmeans.predict(bazar2)\n",
        "labels=kmeans.labels_\n",
        "plt.scatter(bazar2[:, 0], bazar2[:, 1], c=y_kmeans, cmap='viridis')\n",
        "plt.show()"
      ],
      "execution_count": null,
      "outputs": [
        {
          "output_type": "display_data",
          "data": {
            "image/png": "[encoded data removed]",
            "text/plain": [
              "<Figure size 432x288 with 1 Axes>"
            ]
          },
          "metadata": {
            "tags": [],
            "needs_background": "light"
          }
        }
      ]
    },
    {
      "cell_type": "code",
      "metadata": {
        "colab": {
          "base_uri": "https://localhost:8080/",
          "height": 556
        },
        "id": "FjOE5jNHH1Ps",
        "outputId": "96215daa-9f91-4117-96da-c566bcaf78fd"
      },
      "source": [
        "df = pd.DataFrame(columns=[\"معنی1\",\"معنی2\",\"معنی3\",\"معنی4\",\"معنی5\",\"معنی6\",\"معنی7\",\"معنی8\"])\n",
        "mani3=0\n",
        "mani7=0\n",
        "for i in range(200):\n",
        "  if labels[i]==0:\n",
        "    df=df.append({\"معنی1\":bazar[i]}, ignore_index=True)\n",
        "  elif labels[i]==1:\n",
        "    df=df.append({\"معنی2\":bazar[i]}, ignore_index=True)\n",
        "  elif labels[i]==2:\n",
        "    df=df.append({\"معنی3\":bazar[i]}, ignore_index=True)\n",
        "    mani3+=1\n",
        "  elif labels[i]==3:\n",
        "    df=df.append({\"معنی4\":bazar[i]}, ignore_index=True)\n",
        "  elif labels[i]==4:\n",
        "    df=df.append({\"معنی5\":bazar[i]}, ignore_index=True)\n",
        "\n",
        "  elif labels[i]==5:\n",
        "    df=df.append({\"معنی6\":bazar[i]}, ignore_index=True)\n",
        "  elif labels[i]==6:\n",
        "    df=df.append({\"معنی7\":bazar[i]}, ignore_index=True)\n",
        "    mani7+=1\n",
        "  elif labels[i]==7:\n",
        "    df=df.append({\"معنی8\":bazar[i]}, ignore_index=True)\n",
        "\n",
        "\n",
        "df = df.apply(lambda x: pd.Series(x.dropna().values))\n",
        "df = df.fillna('')\n",
        "df"
      ],
      "execution_count": null,
      "outputs": [
        {
          "output_type": "execute_result",
          "data": {
            "text/html": [
              "<div>\n",
              "<style scoped>\n",
              "    .dataframe tbody tr th:only-of-type {\n",
              "        vertical-align: middle;\n",
              "    }\n",
              "\n",
              "    .dataframe tbody tr th {\n",
              "        vertical-align: top;\n",
              "    }\n",
              "\n",
              "    .dataframe thead th {\n",
              "        text-align: right;\n",
              "    }\n",
              "</style>\n",
              "<table border=\"1\" class=\"dataframe\">\n",
              "  <thead>\n",
              "    <tr style=\"text-align: right;\">\n",
              "      <th></th>\n",
              "      <th>معنی1</th>\n",
              "      <th>معنی2</th>\n",
              "      <th>معنی3</th>\n",
              "      <th>معنی4</th>\n",
              "      <th>معنی5</th>\n",
              "      <th>معنی6</th>\n",
              "      <th>معنی7</th>\n",
              "      <th>معنی8</th>\n",
              "    </tr>\n",
              "  </thead>\n",
              "  <tbody>\n",
              "    <tr>\n",
              "      <th>0</th>\n",
              "      <td>=== تأثیر بر صنعت و بازار کار ===</td>\n",
              "      <td>از مهمترین گروههایی که اریک در دهه ۶۰ با آنها ...</td>\n",
              "      <td>برخی از محلههای تهران نیز دارای پیشینهای تاریخ...</td>\n",
              "      <td>او در اواخر دهه ۶۰ و اوایل دهه ۷۰ میلادی اولین...</td>\n",
              "      <td>با وجود مراکز خرید نوین در شهر، بازار تهران به...</td>\n",
              "      <td>در سال ۲۰۰۴، آلبوم Sessions For Robert.J روانه...</td>\n",
              "      <td>فناوری نوآورد (cutting-edge) به فناوریای گفته ...</td>\n",
              "      <td>بزرگترین تولیدکنندگان سنگ کروم در سال ۲۰۱۹ آفر...</td>\n",
              "    </tr>\n",
              "    <tr>\n",
              "      <th>1</th>\n",
              "      <td>راسته بازار بناب</td>\n",
              "      <td></td>\n",
              "      <td>شهر اراک: مسجد و مدرسه سپهداری، روستای تاریخی ...</td>\n",
              "      <td></td>\n",
              "      <td></td>\n",
              "      <td></td>\n",
              "      <td>خیابان تربیت نیز به عنوان بخشی از جاده تاریخی ...</td>\n",
              "      <td></td>\n",
              "    </tr>\n",
              "    <tr>\n",
              "      <th>2</th>\n",
              "      <td>میدپوینت و کارنسی فر بازار مبادله پول خارجی P2...</td>\n",
              "      <td></td>\n",
              "      <td>از جمله گردشگاههای خمین میتوان به تیمچه بازار ...</td>\n",
              "      <td></td>\n",
              "      <td></td>\n",
              "      <td></td>\n",
              "      <td>آبرسان از جمله مناطقی است که دارای مراکز تجاری...</td>\n",
              "      <td></td>\n",
              "    </tr>\n",
              "    <tr>\n",
              "      <th>3</th>\n",
              "      <td>مسجد بازار ساوه - قدمت تاریخی دوره زندیه</td>\n",
              "      <td></td>\n",
              "      <td>نوعی رایانه خانگی است. این رایانه خانگی ۸ بیتی...</td>\n",
              "      <td></td>\n",
              "      <td></td>\n",
              "      <td></td>\n",
              "      <td>EC اتحادیه اروپا، که اتحادیه اقتصادی (EMU) در ...</td>\n",
              "      <td></td>\n",
              "    </tr>\n",
              "    <tr>\n",
              "      <th>4</th>\n",
              "      <td>|محدودهٔ بازار سنتی پیشوا</td>\n",
              "      <td></td>\n",
              "      <td>یک رایانهٔ شخصی است که در سال ۱۹۷۶ توسط شرکت ا...</td>\n",
              "      <td></td>\n",
              "      <td></td>\n",
              "      <td></td>\n",
              "      <td>اولین هواپیمای تجاری جت نیز در سال ۱۹۵۲ به نام...</td>\n",
              "      <td></td>\n",
              "    </tr>\n",
              "    <tr>\n",
              "      <th>...</th>\n",
              "      <td>...</td>\n",
              "      <td>...</td>\n",
              "      <td>...</td>\n",
              "      <td>...</td>\n",
              "      <td>...</td>\n",
              "      <td>...</td>\n",
              "      <td>...</td>\n",
              "      <td>...</td>\n",
              "    </tr>\n",
              "    <tr>\n",
              "      <th>151</th>\n",
              "      <td>سراهای معروف بازار تبریز عبارتند از سرای گرجیل...</td>\n",
              "      <td></td>\n",
              "      <td></td>\n",
              "      <td></td>\n",
              "      <td></td>\n",
              "      <td></td>\n",
              "      <td></td>\n",
              "      <td></td>\n",
              "    </tr>\n",
              "    <tr>\n",
              "      <th>152</th>\n",
              "      <td>هر کدام از این سراها و تیمچهها و کاروانسراها ب...</td>\n",
              "      <td></td>\n",
              "      <td></td>\n",
              "      <td></td>\n",
              "      <td></td>\n",
              "      <td></td>\n",
              "      <td></td>\n",
              "      <td></td>\n",
              "    </tr>\n",
              "    <tr>\n",
              "      <th>153</th>\n",
              "      <td>گرمابههای قدیمی و حمامهای تاریخی در محدودهٔ با...</td>\n",
              "      <td></td>\n",
              "      <td></td>\n",
              "      <td></td>\n",
              "      <td></td>\n",
              "      <td></td>\n",
              "      <td></td>\n",
              "      <td></td>\n",
              "    </tr>\n",
              "    <tr>\n",
              "      <th>154</th>\n",
              "      <td>=== بازار امیر ===</td>\n",
              "      <td></td>\n",
              "      <td></td>\n",
              "      <td></td>\n",
              "      <td></td>\n",
              "      <td></td>\n",
              "      <td></td>\n",
              "      <td></td>\n",
              "    </tr>\n",
              "    <tr>\n",
              "      <th>155</th>\n",
              "      <td>بازار امیر یکی از مهمترین و پررونقترین بازارها...</td>\n",
              "      <td></td>\n",
              "      <td></td>\n",
              "      <td></td>\n",
              "      <td></td>\n",
              "      <td></td>\n",
              "      <td></td>\n",
              "      <td></td>\n",
              "    </tr>\n",
              "  </tbody>\n",
              "</table>\n",
              "<p>156 rows × 8 columns</p>\n",
              "</div>"
            ],
            "text/plain": [
              "                                                 معنی1  ...                                              معنی8\n",
              "0                    === تأثیر بر صنعت و بازار کار ===  ...  بزرگترین تولیدکنندگان سنگ کروم در سال ۲۰۱۹ آفر...\n",
              "1                                     راسته بازار بناب  ...                                                   \n",
              "2    میدپوینت و کارنسی فر بازار مبادله پول خارجی P2...  ...                                                   \n",
              "3             مسجد بازار ساوه - قدمت تاریخی دوره زندیه  ...                                                   \n",
              "4                            |محدودهٔ بازار سنتی پیشوا  ...                                                   \n",
              "..                                                 ...  ...                                                ...\n",
              "151  سراهای معروف بازار تبریز عبارتند از سرای گرجیل...  ...                                                   \n",
              "152  هر کدام از این سراها و تیمچهها و کاروانسراها ب...  ...                                                   \n",
              "153  گرمابههای قدیمی و حمامهای تاریخی در محدودهٔ با...  ...                                                   \n",
              "154                                 === بازار امیر ===  ...                                                   \n",
              "155  بازار امیر یکی از مهمترین و پررونقترین بازارها...  ...                                                   \n",
              "\n",
              "[156 rows x 8 columns]"
            ]
          },
          "metadata": {
            "tags": []
          },
          "execution_count": 151
        }
      ]
    },
    {
      "cell_type": "code",
      "metadata": {
        "colab": {
          "base_uri": "https://localhost:8080/"
        },
        "id": "C9LjGQyvAybN",
        "outputId": "43fb2199-8593-4b22-d6d4-dc53ccaac3d8"
      },
      "source": [
        "list1 = df['معنی1'].to_list()\n",
        "new=[]\n",
        "for s in range(len(list1)):\n",
        "  #sents = parsivar_tokenizer.tokenize_words(s)\n",
        "  text_tags = my_tagger.parse(my_tokenizer.tokenize_words(list1[s]))\n",
        "  for i in text_tags:\n",
        "    if i[0] not in stop_w_list:\n",
        "      new.append(i)\n",
        "\n",
        "\n",
        "from collections import Counter \n",
        "most_common_words= [word for word, word_count in Counter(new).most_common(6)]\n",
        "print(most_common_words)"
      ],
      "execution_count": null,
      "outputs": [
        {
          "output_type": "stream",
          "text": [
            "[('بازار', 'N_SING'), ('شهر', 'N_SING'), ('سال', 'N_SING'), ('اقتصادی', 'ADJ'), ('کشور', 'N_SING'), ('است.', '.')]\n"
          ],
          "name": "stdout"
        }
      ]
    },
    {
      "cell_type": "code",
      "metadata": {
        "colab": {
          "base_uri": "https://localhost:8080/"
        },
        "id": "NCbvWFwDGTqv",
        "outputId": "5069f5d9-bbbf-4647-cfd6-1fe825ad2a67"
      },
      "source": [
        "list1 = df['معنی2'].to_list()\n",
        "new=[]\n",
        "for s in range(len(list1)):\n",
        "  #sents = parsivar_tokenizer.tokenize_words(s)\n",
        "  text_tags = my_tagger.parse(my_tokenizer.tokenize_words(list1[s]))\n",
        "  for i in text_tags:\n",
        "    if i[0] not in stop_w_list:\n",
        "      new.append(i)\n",
        "\n",
        "\n",
        "from collections import Counter \n",
        "most_common_words= [word for word, word_count in Counter(new).most_common(6)]\n",
        "print(most_common_words)"
      ],
      "execution_count": null,
      "outputs": [
        {
          "output_type": "stream",
          "text": [
            "[('اریک', 'N_SING'), ('۶۰', 'NUM'), ('گروه', 'N_SING'), ('موسیقی', 'N_SING'), ('مهمترین', 'ADJ_SUP'), ('گروههایی', 'N_PL')]\n"
          ],
          "name": "stdout"
        }
      ]
    },
    {
      "cell_type": "code",
      "metadata": {
        "colab": {
          "base_uri": "https://localhost:8080/"
        },
        "id": "8qeIiXaYGVwp",
        "outputId": "dd339ece-c9ef-4c4c-dfe0-5084229a02ca"
      },
      "source": [
        "list1 = df['معنی3'].to_list()\n",
        "new=[]\n",
        "for s in range(len(list1)):\n",
        "  #sents = parsivar_tokenizer.tokenize_words(s)\n",
        "  text_tags = my_tagger.parse(my_tokenizer.tokenize_words(list1[s]))\n",
        "  for i in text_tags:\n",
        "    if i[0] not in stop_w_list:\n",
        "      new.append(i)\n",
        "\n",
        "\n",
        "from collections import Counter \n",
        "most_common_words= [word for word, word_count in Counter(new).most_common(6)]\n",
        "print(most_common_words)"
      ],
      "execution_count": null,
      "outputs": [
        {
          "output_type": "stream",
          "text": [
            "[('بازار', 'N_SING'), ('اپل', 'N_SING'), ('سال', 'N_SING'), ('رایانه', 'N_SING'), ('شرکت', 'N_SING'), ('تاریخی', 'ADJ')]\n"
          ],
          "name": "stdout"
        }
      ]
    },
    {
      "cell_type": "code",
      "metadata": {
        "colab": {
          "base_uri": "https://localhost:8080/"
        },
        "id": "R3oQZQPRGXJZ",
        "outputId": "086bd1d6-bffc-4e40-b28e-9749d652c6e1"
      },
      "source": [
        "list1 = df['معنی4'].to_list()\n",
        "new=[]\n",
        "for s in range(len(list1)):\n",
        "  #sents = parsivar_tokenizer.tokenize_words(s)\n",
        "  text_tags = my_tagger.parse(my_tokenizer.tokenize_words(list1[s]))\n",
        "  for i in text_tags:\n",
        "    if i[0] not in stop_w_list:\n",
        "      new.append(i)\n",
        "\n",
        "\n",
        "from collections import Counter \n",
        "most_common_words= [word for word, word_count in Counter(new).most_common(7)]\n",
        "print(most_common_words)"
      ],
      "execution_count": null,
      "outputs": [
        {
          "output_type": "stream",
          "text": [
            "[('Top', 'FW'), ('اواخر', 'N_PL'), ('۶۰', 'NUM'), ('اوایل', 'N_PL'), ('۷۰', 'NUM'), ('میلادی', 'ADJ'), ('آلبوم', 'N_SING')]\n"
          ],
          "name": "stdout"
        }
      ]
    },
    {
      "cell_type": "code",
      "metadata": {
        "colab": {
          "base_uri": "https://localhost:8080/"
        },
        "id": "S9Bl6oTiGYc6",
        "outputId": "58a668ef-729c-42e3-ab32-15a46a397e4e"
      },
      "source": [
        "list1 = df['معنی5'].to_list()\n",
        "new=[]\n",
        "for s in range(len(list1)):\n",
        "  #sents = parsivar_tokenizer.tokenize_words(s)\n",
        "  text_tags = my_tagger.parse(my_tokenizer.tokenize_words(list1[s]))\n",
        "  for i in text_tags:\n",
        "    if i[0] not in stop_w_list:\n",
        "      new.append(i)\n",
        "\n",
        "\n",
        "from collections import Counter \n",
        "most_common_words= [word for word, word_count in Counter(new).most_common(6)]\n",
        "print(most_common_words)"
      ],
      "execution_count": null,
      "outputs": [
        {
          "output_type": "stream",
          "text": [
            "[('تهران', 'N_SING'), ('مراکز', 'N_PL'), ('خرید', 'N_SING'), ('نوین', 'ADJ'), ('شهر،', 'N_SING'), ('بازار', 'N_SING')]\n"
          ],
          "name": "stdout"
        }
      ]
    },
    {
      "cell_type": "code",
      "metadata": {
        "colab": {
          "base_uri": "https://localhost:8080/"
        },
        "id": "ADfZBH_ZGZxS",
        "outputId": "806d49f5-50ea-424c-b4ed-6ba55fa258bb"
      },
      "source": [
        "list1 = df['معنی6'].to_list()\n",
        "new=[]\n",
        "for s in range(len(list1)):\n",
        "  #sents = parsivar_tokenizer.tokenize_words(s)\n",
        "  text_tags = my_tagger.parse(my_tokenizer.tokenize_words(list1[s]))\n",
        "  for i in text_tags:\n",
        "    if i[0] not in stop_w_list:\n",
        "      new.append(i)\n",
        "\n",
        "\n",
        "from collections import Counter \n",
        "most_common_words= [word for word, word_count in Counter(new).most_common(10)]\n",
        "print(most_common_words)"
      ],
      "execution_count": null,
      "outputs": [
        {
          "output_type": "stream",
          "text": [
            "[('سال', 'N_SING'), ('۲۰۰۴،', 'NUM'), ('آلبوم', 'N_SING'), ('Sessions', 'FW'), ('For', 'FW'), ('Robert.J', 'N_SING'), ('روانه', 'ADJ'), ('بازار', 'N_SING'), ('شد؛', 'V_PA'), ('آن،', 'PRO')]\n"
          ],
          "name": "stdout"
        }
      ]
    },
    {
      "cell_type": "code",
      "metadata": {
        "colab": {
          "base_uri": "https://localhost:8080/"
        },
        "id": "fa6V3AP5GbXY",
        "outputId": "7c3656b9-d506-47c6-dc94-a668986c4d40"
      },
      "source": [
        "list1 = df['معنی7'].to_list()\n",
        "new=[]\n",
        "for s in range(len(list1)):\n",
        "  #sents = parsivar_tokenizer.tokenize_words(s)\n",
        "  text_tags = my_tagger.parse(my_tokenizer.tokenize_words(list1[s]))\n",
        "  for i in text_tags:\n",
        "    if i[0] not in stop_w_list:\n",
        "      new.append(i)\n",
        "\n",
        "\n",
        "from collections import Counter \n",
        "most_common_words= [word for word, word_count in Counter(new).most_common(6)]\n",
        "print(most_common_words)"
      ],
      "execution_count": null,
      "outputs": [
        {
          "output_type": "stream",
          "text": [
            "[('بازار', 'N_SING'), ('اقتصاد', 'N_SING'), ('دولت', 'N_SING'), ('بازاریابی', 'N_SING'), ('آلبوم', 'N_SING'), ('کنسرت', 'N_SING')]\n"
          ],
          "name": "stdout"
        }
      ]
    },
    {
      "cell_type": "code",
      "metadata": {
        "colab": {
          "base_uri": "https://localhost:8080/"
        },
        "id": "iG8IP1xtGg3j",
        "outputId": "5bdd0f70-f1e4-4f21-8db3-2c4d09ed4bc4"
      },
      "source": [
        "list1 = df['معنی8'].to_list()\n",
        "new=[]\n",
        "for s in range(len(list1)):\n",
        "  #sents = parsivar_tokenizer.tokenize_words(s)\n",
        "  text_tags = my_tagger.parse(my_tokenizer.tokenize_words(list1[s]))\n",
        "  for i in text_tags:\n",
        "    if i[0] not in stop_w_list:\n",
        "      new.append(i)\n",
        "\n",
        "\n",
        "from collections import Counter \n",
        "most_common_words= [word for word, word_count in Counter(new).most_common(6)]\n",
        "print(most_common_words)"
      ],
      "execution_count": null,
      "outputs": [
        {
          "output_type": "stream",
          "text": [
            "[('سال', 'N_SING'), ('کروم', 'N_SING'), ('میلیارد', 'NUM'), ('دلار', 'N_SING'), ('بزرگترین', 'ADJ_SUP'), ('تولیدکنندگان', 'N_PL')]\n"
          ],
          "name": "stdout"
        }
      ]
    },
    {
      "cell_type": "markdown",
      "metadata": {
        "id": "niv40AICS75Y"
      },
      "source": [
        "155"
      ]
    },
    {
      "cell_type": "code",
      "metadata": {
        "colab": {
          "base_uri": "https://localhost:8080/"
        },
        "id": "jR8PfwRwRCHr",
        "outputId": "88e5550b-2582-4979-b387-0c0678777f45"
      },
      "source": [
        "! ./ukb_wsd --ppr_w2w --allranks  -K fn3.bin -D DICT_TEST.txt bazar1.txt "
      ],
      "execution_count": null,
      "outputs": [
        {
          "output_type": "stream",
          "text": [
            "!! -v 2.2 ./ukb_wsd --ppr_w2w --allranks -K fn3.bin -D DICT_TEST.txt bazar1.txt\n",
            "ctx_00 w1  10713-n/0.31012 11807-n/0.288292 10714-n/0.145487 10274-n/0.0760892 14042-n/0.0707901 32822-n/0.0411642 27659-n/0.0387032 49460-n/0.0293544 !! بازار\n"
          ],
          "name": "stdout"
        }
      ]
    },
    {
      "cell_type": "markdown",
      "metadata": {
        "id": "VNZkdo7-TAaW"
      },
      "source": [
        "1"
      ]
    },
    {
      "cell_type": "code",
      "metadata": {
        "colab": {
          "base_uri": "https://localhost:8080/"
        },
        "id": "ZRWjFgDKROOf",
        "outputId": "7bc26c81-96f8-4a4f-d44c-221173acc140"
      },
      "source": [
        "! ./ukb_wsd --ppr_w2w --allranks  -K fn3.bin -D DICT_TEST.txt bazar2.txt "
      ],
      "execution_count": null,
      "outputs": [
        {
          "output_type": "stream",
          "text": [
            "!! -v 2.2 ./ukb_wsd --ppr_w2w --allranks -K fn3.bin -D DICT_TEST.txt bazar2.txt\n",
            "ctx_00 w6  11807-n/0.327244 10713-n/0.147474 10274-n/0.12409 32822-n/0.115931 14042-n/0.112309 10714-n/0.0871031 27659-n/0.0724668 49460-n/0.0133832 !! بازار\n"
          ],
          "name": "stdout"
        }
      ]
    },
    {
      "cell_type": "markdown",
      "metadata": {
        "id": "NAuPcxPfTBqh"
      },
      "source": [
        "7"
      ]
    },
    {
      "cell_type": "code",
      "metadata": {
        "colab": {
          "base_uri": "https://localhost:8080/"
        },
        "id": "1jk8PxMERPtY",
        "outputId": "34bdc24d-ba89-4daa-b6d9-966c7c2e14b5"
      },
      "source": [
        "! ./ukb_wsd --ppr_w2w --allranks  -K fn3.bin -D DICT_TEST.txt bazar3.txt "
      ],
      "execution_count": null,
      "outputs": [
        {
          "output_type": "stream",
          "text": [
            "!! -v 2.2 ./ukb_wsd --ppr_w2w --allranks -K fn3.bin -D DICT_TEST.txt bazar3.txt\n",
            "ctx_00 w1  11807-n/0.231339 14042-n/0.21264 10713-n/0.186105 10714-n/0.12719 10274-n/0.0859847 27659-n/0.0797871 32822-n/0.0595664 49460-n/0.0173861 !! بازار\n"
          ],
          "name": "stdout"
        }
      ]
    },
    {
      "cell_type": "markdown",
      "metadata": {
        "id": "YdmnEBI3TOuo"
      },
      "source": [
        "1"
      ]
    },
    {
      "cell_type": "code",
      "metadata": {
        "colab": {
          "base_uri": "https://localhost:8080/"
        },
        "id": "gibZEfj7RQb2",
        "outputId": "0ef51e45-2684-4844-93c8-1df4cd6a1bd9"
      },
      "source": [
        "! ./ukb_wsd --ppr_w2w --allranks  -K fn3.bin -D DICT_TEST.txt bazar4.txt "
      ],
      "execution_count": null,
      "outputs": [
        {
          "output_type": "stream",
          "text": [
            "!! -v 2.2 ./ukb_wsd --ppr_w2w --allranks -K fn3.bin -D DICT_TEST.txt bazar4.txt\n",
            "ctx_00 w6  10714-n/0.276789 10713-n/0.16787 10274-n/0.132124 14042-n/0.123523 27659-n/0.101891 11807-n/0.0999232 32822-n/0.0839667 49460-n/0.0139115 !! بازار\n"
          ],
          "name": "stdout"
        }
      ]
    },
    {
      "cell_type": "markdown",
      "metadata": {
        "id": "as5qtUruTTrG"
      },
      "source": [
        "1"
      ]
    },
    {
      "cell_type": "code",
      "metadata": {
        "colab": {
          "base_uri": "https://localhost:8080/"
        },
        "id": "IJyeQVpkRRM1",
        "outputId": "804a4469-1430-432e-da36-275fd65a0f36"
      },
      "source": [
        "! ./ukb_wsd --ppr_w2w --allranks  -K fn3.bin -D DICT_TEST.txt bazar5.txt "
      ],
      "execution_count": null,
      "outputs": [
        {
          "output_type": "stream",
          "text": [
            "!! -v 2.2 ./ukb_wsd --ppr_w2w --allranks -K fn3.bin -D DICT_TEST.txt bazar5.txt\n",
            "ctx_00 w6  27659-n/0.345933 11807-n/0.279545 10713-n/0.142961 14042-n/0.113432 10714-n/0.0518457 49460-n/0.0263881 10274-n/0.0248138 32822-n/0.0150809 !! بازار\n"
          ],
          "name": "stdout"
        }
      ]
    },
    {
      "cell_type": "markdown",
      "metadata": {
        "id": "JM0uOnbITU9B"
      },
      "source": [
        "1"
      ]
    },
    {
      "cell_type": "code",
      "metadata": {
        "colab": {
          "base_uri": "https://localhost:8080/"
        },
        "id": "nQ4ul7wuRRyc",
        "outputId": "3a8967f6-058c-4188-893a-7f0a6089c113"
      },
      "source": [
        "! ./ukb_wsd --ppr_w2w --allranks  -K fn3.bin -D DICT_TEST.txt bazar6.txt "
      ],
      "execution_count": null,
      "outputs": [
        {
          "output_type": "stream",
          "text": [
            "!! -v 2.2 ./ukb_wsd --ppr_w2w --allranks -K fn3.bin -D DICT_TEST.txt bazar6.txt\n",
            "ctx_00 w5  32822-n/0.202534 14042-n/0.189103 10713-n/0.15153 10274-n/0.12352 10714-n/0.106688 11807-n/0.103772 27659-n/0.0906494 49460-n/0.0322037 !! بازار\n"
          ],
          "name": "stdout"
        }
      ]
    },
    {
      "cell_type": "markdown",
      "metadata": {
        "id": "oQTK9DaSTV3B"
      },
      "source": [
        "32"
      ]
    },
    {
      "cell_type": "code",
      "metadata": {
        "colab": {
          "base_uri": "https://localhost:8080/"
        },
        "id": "MDM6CikhRTjt",
        "outputId": "f9f78377-c0ce-4ef5-c8eb-c940ea5322d4"
      },
      "source": [
        "! ./ukb_wsd --ppr_w2w --allranks  -K fn3.bin -D DICT_TEST.txt bazar7.txt "
      ],
      "execution_count": null,
      "outputs": [
        {
          "output_type": "stream",
          "text": [
            "!! -v 2.2 ./ukb_wsd --ppr_w2w --allranks -K fn3.bin -D DICT_TEST.txt bazar7.txt\n",
            "ctx_00 w1  10713-n/0.258808 10714-n/0.229448 11807-n/0.148008 14042-n/0.147606 27659-n/0.0879093 10274-n/0.0647934 32822-n/0.0595014 49460-n/0.00392625 !! بازار\n"
          ],
          "name": "stdout"
        }
      ]
    },
    {
      "cell_type": "markdown",
      "metadata": {
        "id": "4yh9wLfGTW32"
      },
      "source": [
        "1"
      ]
    },
    {
      "cell_type": "code",
      "metadata": {
        "colab": {
          "base_uri": "https://localhost:8080/"
        },
        "id": "BL3V6gwlRUSN",
        "outputId": "76317ecd-eb64-47ff-a033-7cab41c8b871"
      },
      "source": [
        "! ./ukb_wsd --ppr_w2w --allranks  -K fn3.bin -D DICT_TEST.txt bazar8.txt "
      ],
      "execution_count": null,
      "outputs": [
        {
          "output_type": "stream",
          "text": [
            "!! -v 2.2 ./ukb_wsd --ppr_w2w --allranks -K fn3.bin -D DICT_TEST.txt bazar8.txt\n",
            "ctx_00 w6  14042-n/0.415432 10713-n/0.15396 11807-n/0.115581 27659-n/0.103535 10714-n/0.0913782 10274-n/0.0803037 32822-n/0.035347 49460-n/0.00446302 !! بازار\n"
          ],
          "name": "stdout"
        }
      ]
    },
    {
      "cell_type": "markdown",
      "metadata": {
        "id": "5uG2xTkXEapg"
      },
      "source": [
        "# چهره"
      ]
    },
    {
      "cell_type": "code",
      "metadata": {
        "id": "a4k079Gvlufz"
      },
      "source": [
        "#num3\n",
        "chehre= []\n",
        "for i in wikitext:\n",
        "  if \" چهره \" in i:\n",
        "    if(len(i)<350):\n",
        "      i=i.replace(\"\\u200c\",\"\")\n",
        "      chehre.append(i.rstrip(\"\\n\"))\n",
        "    \n",
        "\n",
        "#chehre=chehre[:200]\n"
      ],
      "execution_count": null,
      "outputs": []
    },
    {
      "cell_type": "code",
      "metadata": {
        "id": "Bi7AI_cblveU"
      },
      "source": [
        "chehre2=[]\n",
        "c=0\n",
        "sum=0\n",
        "for i in chehre:\n",
        "    sentence = Sentence(i)\n",
        "    stacked_embeddings.embed(sentence)\n",
        "    for token in sentence:\n",
        "        sum+=token.embedding\n",
        "        c+=1\n",
        "    sum=sum / c\n",
        "    chehre2.append(np.array(sum))"
      ],
      "execution_count": null,
      "outputs": []
    },
    {
      "cell_type": "code",
      "metadata": {
        "colab": {
          "base_uri": "https://localhost:8080/",
          "height": 264
        },
        "id": "NB_L3Yk8Gk_R",
        "outputId": "78ee316f-948c-45ba-bba5-44169e71b0e0"
      },
      "source": [
        "chehre2=np.array(chehre2)\n",
        "kmeans = KMeans(n_clusters=6, random_state=0).fit(chehre2)\n",
        "y_kmeans = kmeans.predict(chehre2)\n",
        "labels=kmeans.labels_\n",
        "plt.scatter(chehre2[:, 0], chehre2[:, 1], c=y_kmeans, cmap='viridis')\n",
        "plt.show()"
      ],
      "execution_count": null,
      "outputs": [
        {
          "output_type": "display_data",
          "data": {
            "image/png": "[encoded data removed]",
            "text/plain": [
              "<Figure size 432x288 with 1 Axes>"
            ]
          },
          "metadata": {
            "tags": [],
            "needs_background": "light"
          }
        }
      ]
    },
    {
      "cell_type": "code",
      "metadata": {
        "colab": {
          "base_uri": "https://localhost:8080/",
          "height": 540
        },
        "id": "XjzJP4COG6s_",
        "outputId": "61097947-32d1-46d0-d97e-f44d787de5a7"
      },
      "source": [
        "df = pd.DataFrame(columns=[\"معنی1\",\"معنی2\",\"معنی3\",\"معنی4\",\"معنی5\",\"معنی6\"])\n",
        "counter=0\n",
        "for i in range(200):\n",
        "  if labels[i]==0:\n",
        "    df=df.append({\"معنی1\":chehre[i]}, ignore_index=True)\n",
        "  elif labels[i]==1:\n",
        "    df=df.append({\"معنی2\":chehre[i]}, ignore_index=True)\n",
        "  elif labels[i]==2:\n",
        "    df=df.append({\"معنی3\":chehre[i]}, ignore_index=True)\n",
        "  elif labels[i]==3:\n",
        "    df=df.append({\"معنی4\":chehre[i]}, ignore_index=True)\n",
        "  elif labels[i]==4:\n",
        "    df=df.append({\"معنی5\":chehre[i]}, ignore_index=True)\n",
        "  elif labels[i]==5:\n",
        "    df=df.append({\"معنی6\":chehre[i]}, ignore_index=True)\n",
        "    counter+=1\n",
        "\n",
        "df = df.apply(lambda x: pd.Series(x.dropna().values))\n",
        "df = df.fillna('')\n",
        "df"
      ],
      "execution_count": null,
      "outputs": [
        {
          "output_type": "execute_result",
          "data": {
            "text/html": [
              "<div>\n",
              "<style scoped>\n",
              "    .dataframe tbody tr th:only-of-type {\n",
              "        vertical-align: middle;\n",
              "    }\n",
              "\n",
              "    .dataframe tbody tr th {\n",
              "        vertical-align: top;\n",
              "    }\n",
              "\n",
              "    .dataframe thead th {\n",
              "        text-align: right;\n",
              "    }\n",
              "</style>\n",
              "<table border=\"1\" class=\"dataframe\">\n",
              "  <thead>\n",
              "    <tr style=\"text-align: right;\">\n",
              "      <th></th>\n",
              "      <th>معنی1</th>\n",
              "      <th>معنی2</th>\n",
              "      <th>معنی3</th>\n",
              "      <th>معنی4</th>\n",
              "      <th>معنی5</th>\n",
              "      <th>معنی6</th>\n",
              "    </tr>\n",
              "  </thead>\n",
              "  <tbody>\n",
              "    <tr>\n",
              "      <th>0</th>\n",
              "      <td>چهره به چهره (۱۳۷۷)</td>\n",
              "      <td>«مقام فرخی در غزلسرایی [را باید] دریابند. نه ت...</td>\n",
              "      <td>حالت چهره و لحن صدا (facial expression and ton...</td>\n",
              "      <td>البته صلح با اسرائیل هم ضربه مهلکی بر چهره پان...</td>\n",
              "      <td>صدام حسین با برجستهسازی چهره عربی اسلام، مثل ت...</td>\n",
              "      <td>-رنگ لباس و چهره از قراردادهای مهم اجرای نمایش...</td>\n",
              "    </tr>\n",
              "    <tr>\n",
              "      <th>1</th>\n",
              "      <td>== چهره های شاخص ==</td>\n",
              "      <td></td>\n",
              "      <td>از طریق کتیبههای اختصاصی معلوم شدهاست که نام ا...</td>\n",
              "      <td></td>\n",
              "      <td></td>\n",
              "      <td>ارتباطات غیر کلامی فرایند رساندن معنا را در صو...</td>\n",
              "    </tr>\n",
              "    <tr>\n",
              "      <th>2</th>\n",
              "      <td>پرچم تگزاس تاکنون ۶ بار تغییر چهره دادهاست: پر...</td>\n",
              "      <td></td>\n",
              "      <td></td>\n",
              "      <td></td>\n",
              "      <td></td>\n",
              "      <td>انواع دیگر است. در ارتباطات چهره به چهره زبان ...</td>\n",
              "    </tr>\n",
              "    <tr>\n",
              "      <th>3</th>\n",
              "      <td>امپراتوری شکل گرفته بود. با ظهور چهره قدرتمندی...</td>\n",
              "      <td></td>\n",
              "      <td></td>\n",
              "      <td></td>\n",
              "      <td></td>\n",
              "      <td>در سده هجدهم سایاتنووا ادبیات عاشقی ارمنی را د...</td>\n",
              "    </tr>\n",
              "    <tr>\n",
              "      <th>4</th>\n",
              "      <td>در سالهای اخیر، تصمیمهای بیفکرانه رونالدینیو و...</td>\n",
              "      <td></td>\n",
              "      <td></td>\n",
              "      <td></td>\n",
              "      <td></td>\n",
              "      <td>۱۳۵۶ - اجرای زندهٔ آلبوم چهره به چهره در حافظی...</td>\n",
              "    </tr>\n",
              "    <tr>\n",
              "      <th>...</th>\n",
              "      <td>...</td>\n",
              "      <td>...</td>\n",
              "      <td>...</td>\n",
              "      <td>...</td>\n",
              "      <td>...</td>\n",
              "      <td>...</td>\n",
              "    </tr>\n",
              "    <tr>\n",
              "      <th>171</th>\n",
              "      <td>۱۷ و چون روزه میگیرید چون ریاکاران کشیدهرو نبا...</td>\n",
              "      <td></td>\n",
              "      <td></td>\n",
              "      <td></td>\n",
              "      <td></td>\n",
              "      <td></td>\n",
              "    </tr>\n",
              "    <tr>\n",
              "      <th>172</th>\n",
              "      <td>۱۹۹۵: غمی در چهره (Blue in the Face)</td>\n",
              "      <td></td>\n",
              "      <td></td>\n",
              "      <td></td>\n",
              "      <td></td>\n",
              "      <td></td>\n",
              "    </tr>\n",
              "    <tr>\n",
              "      <th>173</th>\n",
              "      <td>۲۵ دی ۱۳۵۵ - ماه چهره خلیلی بازیگر</td>\n",
              "      <td></td>\n",
              "      <td></td>\n",
              "      <td></td>\n",
              "      <td></td>\n",
              "      <td></td>\n",
              "    </tr>\n",
              "    <tr>\n",
              "      <th>174</th>\n",
              "      <td>== چهره و عصای او ==</td>\n",
              "      <td></td>\n",
              "      <td></td>\n",
              "      <td></td>\n",
              "      <td></td>\n",
              "      <td></td>\n",
              "    </tr>\n",
              "    <tr>\n",
              "      <th>175</th>\n",
              "      <td>۱۹۶۲ - پائولا عبدل، رقصنده، خواننده و چهره ی ت...</td>\n",
              "      <td></td>\n",
              "      <td></td>\n",
              "      <td></td>\n",
              "      <td></td>\n",
              "      <td></td>\n",
              "    </tr>\n",
              "  </tbody>\n",
              "</table>\n",
              "<p>176 rows × 6 columns</p>\n",
              "</div>"
            ],
            "text/plain": [
              "                                                 معنی1  ...                                              معنی6\n",
              "0                                  چهره به چهره (۱۳۷۷)  ...  -رنگ لباس و چهره از قراردادهای مهم اجرای نمایش...\n",
              "1                                  == چهره های شاخص ==  ...  ارتباطات غیر کلامی فرایند رساندن معنا را در صو...\n",
              "2    پرچم تگزاس تاکنون ۶ بار تغییر چهره دادهاست: پر...  ...  انواع دیگر است. در ارتباطات چهره به چهره زبان ...\n",
              "3    امپراتوری شکل گرفته بود. با ظهور چهره قدرتمندی...  ...  در سده هجدهم سایاتنووا ادبیات عاشقی ارمنی را د...\n",
              "4    در سالهای اخیر، تصمیمهای بیفکرانه رونالدینیو و...  ...  ۱۳۵۶ - اجرای زندهٔ آلبوم چهره به چهره در حافظی...\n",
              "..                                                 ...  ...                                                ...\n",
              "171  ۱۷ و چون روزه میگیرید چون ریاکاران کشیدهرو نبا...  ...                                                   \n",
              "172               ۱۹۹۵: غمی در چهره (Blue in the Face)  ...                                                   \n",
              "173                 ۲۵ دی ۱۳۵۵ - ماه چهره خلیلی بازیگر  ...                                                   \n",
              "174                               == چهره و عصای او ==  ...                                                   \n",
              "175  ۱۹۶۲ - پائولا عبدل، رقصنده، خواننده و چهره ی ت...  ...                                                   \n",
              "\n",
              "[176 rows x 6 columns]"
            ]
          },
          "metadata": {
            "tags": []
          },
          "execution_count": 181
        }
      ]
    },
    {
      "cell_type": "code",
      "metadata": {
        "colab": {
          "base_uri": "https://localhost:8080/"
        },
        "id": "7BqyNvHcXF9n",
        "outputId": "fbc733ea-f4fe-4d11-8a4d-504365a343ec"
      },
      "source": [
        "counter"
      ],
      "execution_count": null,
      "outputs": [
        {
          "output_type": "execute_result",
          "data": {
            "text/plain": [
              "19"
            ]
          },
          "metadata": {
            "tags": []
          },
          "execution_count": 182
        }
      ]
    },
    {
      "cell_type": "code",
      "metadata": {
        "colab": {
          "base_uri": "https://localhost:8080/"
        },
        "id": "w-Q5sjDxPoZh",
        "outputId": "51c7188f-0287-4359-b106-2d7059565f48"
      },
      "source": [
        "list1 = df['معنی1'].to_list()\n",
        "new=[]\n",
        "for s in range(len(list1)):\n",
        "  #sents = parsivar_tokenizer.tokenize_words(s)\n",
        "  text_tags = my_tagger.parse(my_tokenizer.tokenize_words(list1[s]))\n",
        "  for i in text_tags:\n",
        "    if i[0] not in stop_w_list:\n",
        "      new.append(i)\n",
        "\n",
        "\n",
        "from collections import Counter \n",
        "most_common_words= [word for word, word_count in Counter(new).most_common(6)]\n",
        "print(most_common_words)"
      ],
      "execution_count": null,
      "outputs": [
        {
          "output_type": "stream",
          "text": [
            "[('چهره', 'N_SING'), ('سال', 'N_SING'), ('ماندگار', 'ADJ'), ('عنوان', 'N_SING'), ('ایران', 'N_SING'), ('دانشگاه', 'N_SING')]\n"
          ],
          "name": "stdout"
        }
      ]
    },
    {
      "cell_type": "code",
      "metadata": {
        "colab": {
          "base_uri": "https://localhost:8080/"
        },
        "id": "fnqbYNpdVvMV",
        "outputId": "9825226d-b2c0-4f25-afbd-ef67940e357f"
      },
      "source": [
        "list1 = df['معنی2'].to_list()\n",
        "new=[]\n",
        "for s in range(len(list1)):\n",
        "  #sents = parsivar_tokenizer.tokenize_words(s)\n",
        "  text_tags = my_tagger.parse(my_tokenizer.tokenize_words(list1[s]))\n",
        "  for i in text_tags:\n",
        "    if i[0] not in stop_w_list:\n",
        "      new.append(i)\n",
        "\n",
        "\n",
        "from collections import Counter \n",
        "most_common_words= [word for word, word_count in Counter(new).most_common(7)]\n",
        "print(most_common_words)"
      ],
      "execution_count": null,
      "outputs": [
        {
          "output_type": "stream",
          "text": [
            "[('«مقام', 'N_SING'), ('فرخی', 'N_SING'), ('غزلسرایی', 'N_SING'), ('[را', 'ADJ'), ('باید]', 'V_SUB'), ('دریابند.', 'DELM'), ('مرگ', 'N_SING')]\n"
          ],
          "name": "stdout"
        }
      ]
    },
    {
      "cell_type": "code",
      "metadata": {
        "colab": {
          "base_uri": "https://localhost:8080/"
        },
        "id": "c5czvCPLVv-p",
        "outputId": "36065907-424d-404e-8885-0b06ad042306"
      },
      "source": [
        "list1 = df['معنی3'].to_list()\n",
        "new=[]\n",
        "for s in range(len(list1)):\n",
        "  #sents = parsivar_tokenizer.tokenize_words(s)\n",
        "  text_tags = my_tagger.parse(my_tokenizer.tokenize_words(list1[s]))\n",
        "  for i in text_tags:\n",
        "    if i[0] not in stop_w_list:\n",
        "      new.append(i)\n",
        "\n",
        "\n",
        "from collections import Counter \n",
        "most_common_words= [word for word, word_count in Counter(new).most_common(20)]\n",
        "print(most_common_words)"
      ],
      "execution_count": null,
      "outputs": [
        {
          "output_type": "stream",
          "text": [
            "[('CIMRM', 'FW'), ('چهره', 'N_SING'), ('معلوم', 'ADJ'), ('حالت', 'N_SING'), ('لحن', 'N_SING'), ('صدا', 'N_SING'), ('(facial', 'DELM'), ('expression', 'FW'), ('and', 'FW'), ('tone', 'FW'), ('of', 'FW'), ('voice)', '.'), ('طریق', 'N_SING'), ('کتیبههای', 'N_PL'), ('اختصاصی', 'ADJ'), ('شدهاست', 'V_PA'), ('نام', 'N_SING'), ('پیکره', 'N_SING'), ('Arimanius،', 'N_SING'), ('شکل', 'N_SING')]\n"
          ],
          "name": "stdout"
        }
      ]
    },
    {
      "cell_type": "code",
      "metadata": {
        "colab": {
          "base_uri": "https://localhost:8080/"
        },
        "id": "rbow08L_Vw1R",
        "outputId": "55681f03-08a9-4bf5-e8d6-8d8d492251b4"
      },
      "source": [
        "list1 = df['معنی4'].to_list()\n",
        "new=[]\n",
        "for s in range(len(list1)):\n",
        "  #sents = parsivar_tokenizer.tokenize_words(s)\n",
        "  text_tags = my_tagger.parse(my_tokenizer.tokenize_words(list1[s]))\n",
        "  for i in text_tags:\n",
        "    if i[0] not in stop_w_list:\n",
        "      new.append(i)\n",
        "\n",
        "\n",
        "from collections import Counter \n",
        "most_common_words= [word for word, word_count in Counter(new).most_common(8)]\n",
        "print(most_common_words)"
      ],
      "execution_count": null,
      "outputs": [
        {
          "output_type": "stream",
          "text": [
            "[('صلح', 'N_SING'), ('اسرائیل', 'N_SING'), ('ضربه', 'N_SING'), ('مهلکی', 'ADJ'), ('چهره', 'N_SING'), ('پان', 'N_SING'), ('عربیستها', 'N_PL'), ('انظار', 'N_SING')]\n"
          ],
          "name": "stdout"
        }
      ]
    },
    {
      "cell_type": "code",
      "metadata": {
        "colab": {
          "base_uri": "https://localhost:8080/"
        },
        "id": "6MUACcFuVxg7",
        "outputId": "13c05d2c-ff29-4c90-c967-23ced79314ff"
      },
      "source": [
        "list1 = df['معنی5'].to_list()\n",
        "new=[]\n",
        "for s in range(len(list1)):\n",
        "  #sents = parsivar_tokenizer.tokenize_words(s)\n",
        "  text_tags = my_tagger.parse(my_tokenizer.tokenize_words(list1[s]))\n",
        "  for i in text_tags:\n",
        "    if i[0] not in stop_w_list:\n",
        "      new.append(i)\n",
        "\n",
        "\n",
        "from collections import Counter \n",
        "most_common_words= [word for word, word_count in Counter(new).most_common(6)]\n",
        "print(most_common_words)"
      ],
      "execution_count": null,
      "outputs": [
        {
          "output_type": "stream",
          "text": [
            "[('عربی', 'ADJ'), ('تأکید', 'N_SING'), ('ایران', 'N_SING'), ('جنگ', 'N_SING'), ('صدام', 'N_SING'), ('حسین', 'N_SING')]\n"
          ],
          "name": "stdout"
        }
      ]
    },
    {
      "cell_type": "code",
      "metadata": {
        "colab": {
          "base_uri": "https://localhost:8080/"
        },
        "id": "gt--tq3YWK6U",
        "outputId": "ff336307-56e8-4717-ac6d-444443c9342b"
      },
      "source": [
        "list1 = df['معنی6'].to_list()\n",
        "new=[]\n",
        "for s in range(len(list1)):\n",
        "  #sents = parsivar_tokenizer.tokenize_words(s)\n",
        "  text_tags = my_tagger.parse(my_tokenizer.tokenize_words(list1[s]))\n",
        "  for i in text_tags:\n",
        "    if i[0] not in stop_w_list:\n",
        "      new.append(i)\n",
        "\n",
        "\n",
        "from collections import Counter \n",
        "most_common_words= [word for word, word_count in Counter(new).most_common(7)]\n",
        "print(most_common_words)"
      ],
      "execution_count": null,
      "outputs": [
        {
          "output_type": "stream",
          "text": [
            "[('چهره', 'N_SING'), ('زنان', 'N_PL'), ('بدن', 'N_SING'), ('نام', 'N_SING'), ('است.', '.'), ('است.', 'N_SING'), ('سال', 'N_SING')]\n"
          ],
          "name": "stdout"
        }
      ]
    },
    {
      "cell_type": "markdown",
      "metadata": {
        "id": "F18LnyJeZ1hn"
      },
      "source": [
        "176"
      ]
    },
    {
      "cell_type": "code",
      "metadata": {
        "colab": {
          "base_uri": "https://localhost:8080/"
        },
        "id": "JcJjV6qTZtOv",
        "outputId": "9bd926d4-fa28-4946-b3a3-fbd495226ab1"
      },
      "source": [
        "! ./ukb_wsd --ppr_w2w --allranks  -K fn3.bin -D DICT_TEST.txt chehre1.txt "
      ],
      "execution_count": null,
      "outputs": [
        {
          "output_type": "stream",
          "text": [
            "!! -v 2.2 ./ukb_wsd --ppr_w2w --allranks -K fn3.bin -D DICT_TEST.txt chehre1.txt\n",
            "ctx_00 w1  12016-n/0.640261 14291-n/0.291114 11310-n/0.0412843 12908-n/0.0176834 11175-n/0.00647241 11174-n/0.00318451 !! چهره\n"
          ],
          "name": "stdout"
        }
      ]
    },
    {
      "cell_type": "markdown",
      "metadata": {
        "id": "dLhsJQDiZ6cl"
      },
      "source": [
        "1"
      ]
    },
    {
      "cell_type": "code",
      "metadata": {
        "colab": {
          "base_uri": "https://localhost:8080/"
        },
        "id": "xH9wUbcXZ2cY",
        "outputId": "f47d6bd7-4a66-4714-8cb8-9020660e5470"
      },
      "source": [
        "! ./ukb_wsd --ppr_w2w --allranks  -K fn3.bin -D DICT_TEST.txt chehre2.txt "
      ],
      "execution_count": null,
      "outputs": [
        {
          "output_type": "stream",
          "text": [
            "!! -v 2.2 ./ukb_wsd --ppr_w2w --allranks -K fn3.bin -D DICT_TEST.txt chehre2.txt\n",
            "ctx_00 w6  14291-n/0.644102 12016-n/0.270632 11310-n/0.0474058 12908-n/0.0249737 11175-n/0.00848868 11174-n/0.00439841 !! چهره\n"
          ],
          "name": "stdout"
        }
      ]
    },
    {
      "cell_type": "markdown",
      "metadata": {
        "id": "BGwdzYJ7Z73u"
      },
      "source": [
        "2"
      ]
    },
    {
      "cell_type": "code",
      "metadata": {
        "colab": {
          "base_uri": "https://localhost:8080/"
        },
        "id": "Q7kf_G-lZ8kh",
        "outputId": "1922388d-6c59-4d85-fbda-233a23773099"
      },
      "source": [
        "! ./ukb_wsd --ppr_w2w --allranks  -K fn3.bin -D DICT_TEST.txt chehre3.txt "
      ],
      "execution_count": null,
      "outputs": [
        {
          "output_type": "stream",
          "text": [
            "!! -v 2.2 ./ukb_wsd --ppr_w2w --allranks -K fn3.bin -D DICT_TEST.txt chehre3.txt\n",
            "ctx_00 w1  11310-n/0.346917 12016-n/0.298667 12908-n/0.153386 14291-n/0.137747 11175-n/0.0474471 11174-n/0.015835 !! چهره\n"
          ],
          "name": "stdout"
        }
      ]
    },
    {
      "cell_type": "markdown",
      "metadata": {
        "id": "QL25ZpWFZ-9V"
      },
      "source": [
        "1"
      ]
    },
    {
      "cell_type": "code",
      "metadata": {
        "colab": {
          "base_uri": "https://localhost:8080/"
        },
        "id": "HFa9UpyPaAAG",
        "outputId": "6100da43-323f-436d-faf4-380ae59011cf"
      },
      "source": [
        "! ./ukb_wsd --ppr_w2w --allranks  -K fn3.bin -D DICT_TEST.txt chehre4.txt "
      ],
      "execution_count": null,
      "outputs": [
        {
          "output_type": "stream",
          "text": [
            "!! -v 2.2 ./ukb_wsd --ppr_w2w --allranks -K fn3.bin -D DICT_TEST.txt chehre4.txt\n",
            "ctx_00 w5  11310-n/0.761589 12016-n/0.0733299 12908-n/0.0538969 14291-n/0.042084 11175-n/0.0372182 11174-n/0.0318814 !! چهره\n"
          ],
          "name": "stdout"
        }
      ]
    },
    {
      "cell_type": "markdown",
      "metadata": {
        "id": "NRTEeUTGaCmP"
      },
      "source": [
        "1"
      ]
    },
    {
      "cell_type": "code",
      "metadata": {
        "colab": {
          "base_uri": "https://localhost:8080/"
        },
        "id": "to7F3nHnaDSZ",
        "outputId": "ed5392f9-6391-4e85-b36a-2107aafaf48f"
      },
      "source": [
        "! ./ukb_wsd --ppr_w2w --allranks  -K fn3.bin -D DICT_TEST.txt chehre5.txt "
      ],
      "execution_count": null,
      "outputs": [
        {
          "output_type": "stream",
          "text": [
            "!! -v 2.2 ./ukb_wsd --ppr_w2w --allranks -K fn3.bin -D DICT_TEST.txt chehre5.txt\n",
            "ctx_00 w6  12016-n/0.809212 11310-n/0.0912399 14291-n/0.0453876 11174-n/0.028936 12908-n/0.0155519 11175-n/0.00967269 !! چهره\n"
          ],
          "name": "stdout"
        }
      ]
    },
    {
      "cell_type": "markdown",
      "metadata": {
        "id": "1ikXsQN2aF3D"
      },
      "source": [
        "19"
      ]
    },
    {
      "cell_type": "code",
      "metadata": {
        "colab": {
          "base_uri": "https://localhost:8080/"
        },
        "id": "vYIUlNRXaG5q",
        "outputId": "e1470d33-04e7-4d07-f3a3-d3802b6edbe3"
      },
      "source": [
        "! ./ukb_wsd --ppr_w2w --allranks  -K fn3.bin -D DICT_TEST.txt chehre6.txt "
      ],
      "execution_count": null,
      "outputs": [
        {
          "output_type": "stream",
          "text": [
            "!! -v 2.2 ./ukb_wsd --ppr_w2w --allranks -K fn3.bin -D DICT_TEST.txt chehre6.txt\n",
            "ctx_00 w1  12016-n/0.662967 14291-n/0.253209 11310-n/0.0680118 12908-n/0.0095243 11175-n/0.00385396 11174-n/0.00243449 !! چهره\n"
          ],
          "name": "stdout"
        }
      ]
    },
    {
      "cell_type": "markdown",
      "metadata": {
        "id": "GBTXB33HEXu-"
      },
      "source": [
        "# اخبار"
      ]
    },
    {
      "cell_type": "code",
      "metadata": {
        "id": "3j7REixXl1iU"
      },
      "source": [
        "#num4\n",
        "akhbar= []\n",
        "for i in wikitext:\n",
        "  if \" اخبار \" in i:\n",
        "    if(len(i)<350):\n",
        "       i=i.replace(\"\\u200c\",\"\")\n",
        "       akhbar.append(i.rstrip(\"\\n\"))\n",
        "\n",
        "#akhbar=akhbar[:200]\n"
      ],
      "execution_count": null,
      "outputs": []
    },
    {
      "cell_type": "code",
      "metadata": {
        "id": "SfelzS-nl62B"
      },
      "source": [
        "akhbar2=[]\n",
        "c=0\n",
        "sum=0\n",
        "for i in akhbar:\n",
        "    sentence = Sentence(i)\n",
        "    stacked_embeddings.embed(sentence)\n",
        "    for token in sentence:\n",
        "        sum+=token.embedding\n",
        "        c+=1\n",
        "    sum=sum / c\n",
        "    akhbar2.append(np.array(sum))\n",
        "\n",
        "    "
      ],
      "execution_count": null,
      "outputs": []
    },
    {
      "cell_type": "code",
      "metadata": {
        "id": "VlbZvuJaF8Cl",
        "colab": {
          "base_uri": "https://localhost:8080/",
          "height": 264
        },
        "outputId": "9c5b43d3-b8d4-4e5c-c57a-6f085ff19c61"
      },
      "source": [
        "akhbar2=np.array(akhbar2)\n",
        "kmeans = KMeans(n_clusters=2, random_state=0).fit(akhbar2)\n",
        "y_kmeans = kmeans.predict(akhbar2)\n",
        "labels=kmeans.labels_\n",
        "plt.scatter(akhbar2[:, 0], akhbar2[:, 1], c=y_kmeans, cmap='viridis')\n",
        "plt.show()"
      ],
      "execution_count": null,
      "outputs": [
        {
          "output_type": "display_data",
          "data": {
            "image/png": "[encoded data removed]",
            "text/plain": [
              "<Figure size 432x288 with 1 Axes>"
            ]
          },
          "metadata": {
            "tags": [],
            "needs_background": "light"
          }
        }
      ]
    },
    {
      "cell_type": "code",
      "metadata": {
        "id": "VL5CHTuKGGzU",
        "colab": {
          "base_uri": "https://localhost:8080/",
          "height": 406
        },
        "outputId": "5f42e352-4df3-48b0-9224-19a1c25fccfe"
      },
      "source": [
        "df = pd.DataFrame(columns=[\"معنی1\",\"معنی2\"])\n",
        "for i in range(200):\n",
        "  if labels[i]==0:\n",
        "    df=df.append({\"معنی1\":akhbar[i]}, ignore_index=True)\n",
        "  elif labels[i]==1:\n",
        "    df=df.append({\"معنی2\":akhbar[i]}, ignore_index=True)\n",
        "    \n",
        "df = df.apply(lambda x: pd.Series(x.dropna().values))\n",
        "df = df.fillna('')\n",
        "df"
      ],
      "execution_count": null,
      "outputs": [
        {
          "output_type": "execute_result",
          "data": {
            "text/html": [
              "<div>\n",
              "<style scoped>\n",
              "    .dataframe tbody tr th:only-of-type {\n",
              "        vertical-align: middle;\n",
              "    }\n",
              "\n",
              "    .dataframe tbody tr th {\n",
              "        vertical-align: top;\n",
              "    }\n",
              "\n",
              "    .dataframe thead th {\n",
              "        text-align: right;\n",
              "    }\n",
              "</style>\n",
              "<table border=\"1\" class=\"dataframe\">\n",
              "  <thead>\n",
              "    <tr style=\"text-align: right;\">\n",
              "      <th></th>\n",
              "      <th>معنی1</th>\n",
              "      <th>معنی2</th>\n",
              "    </tr>\n",
              "  </thead>\n",
              "  <tbody>\n",
              "    <tr>\n",
              "      <th>0</th>\n",
              "      <td>غیاثالدین بن همامالدین خواندمیر، تاریخ حبیب ال...</td>\n",
              "      <td>پایگاه اخبار روزانه استان مرکزی ( مرکزی دیلی )</td>\n",
              "    </tr>\n",
              "    <tr>\n",
              "      <th>1</th>\n",
              "      <td>منابع اولیه دیگر شامل ابن بلخی، ابوبکر محمد بن...</td>\n",
              "      <td>خبرخوان جامع اخبار استان مرکزی - www.MarkaziRS...</td>\n",
              "    </tr>\n",
              "    <tr>\n",
              "      <th>2</th>\n",
              "      <td>قبل از ظهور تلویزیون، برنامههای رادیویی فقط شا...</td>\n",
              "      <td>در خمین رسانههای متعددی در حال فعالیتاند. تنها...</td>\n",
              "    </tr>\n",
              "    <tr>\n",
              "      <th>3</th>\n",
              "      <td>پایگاه اطلاعرسانی قشم آن لاین - اخبار بندر عبا...</td>\n",
              "      <td></td>\n",
              "    </tr>\n",
              "    <tr>\n",
              "      <th>4</th>\n",
              "      <td>در سایت حقوق: اخبار حقوق اساسی</td>\n",
              "      <td></td>\n",
              "    </tr>\n",
              "    <tr>\n",
              "      <th>...</th>\n",
              "      <td>...</td>\n",
              "      <td>...</td>\n",
              "    </tr>\n",
              "    <tr>\n",
              "      <th>192</th>\n",
              "      <td>از دی ماه ۱۳۹۳ تاکنون نیز یوسف اکبری که از سال...</td>\n",
              "      <td></td>\n",
              "    </tr>\n",
              "    <tr>\n",
              "      <th>193</th>\n",
              "      <td>اداره اخبار ورزشی ایسنا در سال ۱۳۹۴ در همایش ب...</td>\n",
              "      <td></td>\n",
              "    </tr>\n",
              "    <tr>\n",
              "      <th>194</th>\n",
              "      <td>اداره اخبار ورزشی ایسنا دارای ۲ سردبیر در بخشه...</td>\n",
              "      <td></td>\n",
              "    </tr>\n",
              "    <tr>\n",
              "      <th>195</th>\n",
              "      <td>خبرگزاری بینالمللی روسیه «ریا نووستی»  یک خبرگ...</td>\n",
              "      <td></td>\n",
              "    </tr>\n",
              "    <tr>\n",
              "      <th>196</th>\n",
              "      <td>ریانووستی در فدراسیون روسیه و کشورهای مستقل هم...</td>\n",
              "      <td></td>\n",
              "    </tr>\n",
              "  </tbody>\n",
              "</table>\n",
              "<p>197 rows × 2 columns</p>\n",
              "</div>"
            ],
            "text/plain": [
              "                                                 معنی1                                              معنی2\n",
              "0    غیاثالدین بن همامالدین خواندمیر، تاریخ حبیب ال...     پایگاه اخبار روزانه استان مرکزی ( مرکزی دیلی )\n",
              "1    منابع اولیه دیگر شامل ابن بلخی، ابوبکر محمد بن...  خبرخوان جامع اخبار استان مرکزی - www.MarkaziRS...\n",
              "2    قبل از ظهور تلویزیون، برنامههای رادیویی فقط شا...  در خمین رسانههای متعددی در حال فعالیتاند. تنها...\n",
              "3    پایگاه اطلاعرسانی قشم آن لاین - اخبار بندر عبا...                                                   \n",
              "4                       در سایت حقوق: اخبار حقوق اساسی                                                   \n",
              "..                                                 ...                                                ...\n",
              "192  از دی ماه ۱۳۹۳ تاکنون نیز یوسف اکبری که از سال...                                                   \n",
              "193  اداره اخبار ورزشی ایسنا در سال ۱۳۹۴ در همایش ب...                                                   \n",
              "194  اداره اخبار ورزشی ایسنا دارای ۲ سردبیر در بخشه...                                                   \n",
              "195  خبرگزاری بینالمللی روسیه «ریا نووستی»  یک خبرگ...                                                   \n",
              "196  ریانووستی در فدراسیون روسیه و کشورهای مستقل هم...                                                   \n",
              "\n",
              "[197 rows x 2 columns]"
            ]
          },
          "metadata": {
            "tags": []
          },
          "execution_count": 196
        }
      ]
    },
    {
      "cell_type": "code",
      "metadata": {
        "colab": {
          "base_uri": "https://localhost:8080/"
        },
        "id": "j_jjjDLuaq5z",
        "outputId": "a1f642e9-91d4-484b-8589-63993482f409"
      },
      "source": [
        "list1 = df['معنی1'].to_list()\n",
        "new=[]\n",
        "for s in range(len(list1)):\n",
        "  #sents = parsivar_tokenizer.tokenize_words(s)\n",
        "  text_tags = my_tagger.parse(my_tokenizer.tokenize_words(list1[s]))\n",
        "  for i in text_tags:\n",
        "    if i[0] not in stop_w_list:\n",
        "      new.append(i)\n",
        "\n",
        "\n",
        "from collections import Counter \n",
        "most_common_words= [word for word, word_count in Counter(new).most_common(7)]\n",
        "print(most_common_words)"
      ],
      "execution_count": null,
      "outputs": [
        {
          "output_type": "stream",
          "text": [
            "[('اخبار', 'N_PL'), ('ایران', 'N_SING'), ('سال', 'N_SING'), ('-', 'DELM'), ('منتشر', 'ADJ'), ('خبری', 'ADJ'), ('خبرگزاری', 'N_SING')]\n"
          ],
          "name": "stdout"
        }
      ]
    },
    {
      "cell_type": "code",
      "metadata": {
        "colab": {
          "base_uri": "https://localhost:8080/"
        },
        "id": "B8I0AIgsarxM",
        "outputId": "e5c60b32-31ae-4344-bd90-4fa6a175f634"
      },
      "source": [
        "list1 = df['معنی2'].to_list()\n",
        "new=[]\n",
        "for s in range(len(list1)):\n",
        "  #sents = parsivar_tokenizer.tokenize_words(s)\n",
        "  text_tags = my_tagger.parse(my_tokenizer.tokenize_words(list1[s]))\n",
        "  for i in text_tags:\n",
        "    if i[0] not in stop_w_list:\n",
        "      new.append(i)\n",
        "\n",
        "\n",
        "from collections import Counter \n",
        "most_common_words= [word for word, word_count in Counter(new).most_common(7)]\n",
        "print(most_common_words)"
      ],
      "execution_count": null,
      "outputs": [
        {
          "output_type": "stream",
          "text": [
            "[('اخبار', 'N_PL'), ('شهر', 'N_SING'), ('استان', 'N_SING'), ('مرکزی', 'ADJ'), ('نام', 'N_SING'), ('پایگاه', 'N_SING'), ('روزانه', 'ADJ')]\n"
          ],
          "name": "stdout"
        }
      ]
    },
    {
      "cell_type": "markdown",
      "metadata": {
        "id": "4MQ3F_kxa4rS"
      },
      "source": [
        "197"
      ]
    },
    {
      "cell_type": "code",
      "metadata": {
        "colab": {
          "base_uri": "https://localhost:8080/"
        },
        "id": "ErDZ6_0DaxTZ",
        "outputId": "fc630f1a-6756-407d-91b3-4ddddc391347"
      },
      "source": [
        "! ./ukb_wsd --ppr_w2w --allranks  -K fn3.bin -D DICT_TEST.txt akhbar1.txt "
      ],
      "execution_count": null,
      "outputs": [
        {
          "output_type": "stream",
          "text": [
            "!! -v 2.2 ./ukb_wsd --ppr_w2w --allranks -K fn3.bin -D DICT_TEST.txt akhbar1.txt\n",
            "ctx_00 w1  11465-n/0.544515 11470-n/0.455485 !! اخبار\n"
          ],
          "name": "stdout"
        }
      ]
    },
    {
      "cell_type": "markdown",
      "metadata": {
        "id": "8VlA7fzya3mb"
      },
      "source": [
        "3"
      ]
    },
    {
      "cell_type": "code",
      "metadata": {
        "colab": {
          "base_uri": "https://localhost:8080/"
        },
        "id": "PNHOCE58ax13",
        "outputId": "966cbba4-8f65-4a9f-9472-be7a6c12ee08"
      },
      "source": [
        "! ./ukb_wsd --ppr_w2w --allranks  -K fn3.bin -D DICT_TEST.txt akhbar2.txt "
      ],
      "execution_count": null,
      "outputs": [
        {
          "output_type": "stream",
          "text": [
            "!! -v 2.2 ./ukb_wsd --ppr_w2w --allranks -K fn3.bin -D DICT_TEST.txt akhbar2.txt\n",
            "ctx_00 w1  11465-n/0.689657 11470-n/0.310343 !! اخبار\n"
          ],
          "name": "stdout"
        }
      ]
    },
    {
      "cell_type": "markdown",
      "metadata": {
        "id": "1Ro89GY_EVFD"
      },
      "source": [
        "# مسابقه"
      ]
    },
    {
      "cell_type": "code",
      "metadata": {
        "id": "2C6_UPcYmEi4"
      },
      "source": [
        "#num5\n",
        "mosabeghe= []\n",
        "for i in wikitext:\n",
        "  if \" مسابقه \" in i:\n",
        "    i=i.replace(\"\\u200c\",\"\")\n",
        "    mosabeghe.append(i.rstrip(\"\\n\"))\n",
        "\n",
        "#mosabeghe=mosabeghe[:200]"
      ],
      "execution_count": null,
      "outputs": []
    },
    {
      "cell_type": "code",
      "metadata": {
        "id": "9e_dqX_cmMzp"
      },
      "source": [
        "mosabeghe2=[]\n",
        "c=0\n",
        "sum=0\n",
        "for i in mosabeghe:\n",
        "    sentence = Sentence(i)\n",
        "    stacked_embeddings.embed(sentence)\n",
        "    for token in sentence:\n",
        "        sum+=token.embedding\n",
        "        c+=1\n",
        "    sum=sum / c\n",
        "    mosabeghe2.append(np.array(sum))"
      ],
      "execution_count": null,
      "outputs": []
    },
    {
      "cell_type": "code",
      "metadata": {
        "id": "UewxoSc5FY_3",
        "colab": {
          "base_uri": "https://localhost:8080/",
          "height": 264
        },
        "outputId": "cdc836e7-6f16-456b-af5d-ea5bc49c4ae0"
      },
      "source": [
        "mosabeghe2=np.array(mosabeghe2)\n",
        "kmeans = KMeans(n_clusters=4, random_state=0).fit(mosabeghe2)\n",
        "y_kmeans = kmeans.predict(mosabeghe2)\n",
        "labels=kmeans.labels_\n",
        "plt.scatter(mosabeghe2[:, 0], mosabeghe2[:, 1], c=y_kmeans, cmap='viridis')\n",
        "plt.show()"
      ],
      "execution_count": null,
      "outputs": [
        {
          "output_type": "display_data",
          "data": {
            "image/png": "[encoded data removed]",
            "text/plain": [
              "<Figure size 432x288 with 1 Axes>"
            ]
          },
          "metadata": {
            "tags": [],
            "needs_background": "light"
          }
        }
      ]
    },
    {
      "cell_type": "code",
      "metadata": {
        "id": "mVVPRbgNFhnm",
        "colab": {
          "base_uri": "https://localhost:8080/",
          "height": 406
        },
        "outputId": "ae0bc4d3-0bf4-4b18-d21e-6bbf044a7b5b"
      },
      "source": [
        "df = pd.DataFrame(columns=[\"معنی1\",\"معنی2\",\"معنی3\",\"معنی4\"])\n",
        "c4=0\n",
        "c3=0\n",
        "for i in range(200):\n",
        "  if labels[i]==0:\n",
        "    df=df.append({\"معنی1\":mosabeghe[i]}, ignore_index=True)\n",
        "  elif labels[i]==1:\n",
        "    df=df.append({\"معنی2\":mosabeghe[i]}, ignore_index=True)\n",
        "  elif labels[i]==2:\n",
        "    df=df.append({\"معنی3\":mosabeghe[i]}, ignore_index=True)\n",
        "    c3+=1\n",
        "  elif labels[i]==3:\n",
        "    df=df.append({\"معنی4\":mosabeghe[i]}, ignore_index=True)\n",
        "    c4+=1\n",
        "    \n",
        "df = df.apply(lambda x: pd.Series(x.dropna().values))\n",
        "df = df.fillna('')\n",
        "df"
      ],
      "execution_count": null,
      "outputs": [
        {
          "output_type": "execute_result",
          "data": {
            "text/html": [
              "<div>\n",
              "<style scoped>\n",
              "    .dataframe tbody tr th:only-of-type {\n",
              "        vertical-align: middle;\n",
              "    }\n",
              "\n",
              "    .dataframe tbody tr th {\n",
              "        vertical-align: top;\n",
              "    }\n",
              "\n",
              "    .dataframe thead th {\n",
              "        text-align: right;\n",
              "    }\n",
              "</style>\n",
              "<table border=\"1\" class=\"dataframe\">\n",
              "  <thead>\n",
              "    <tr style=\"text-align: right;\">\n",
              "      <th></th>\n",
              "      <th>معنی1</th>\n",
              "      <th>معنی2</th>\n",
              "      <th>معنی3</th>\n",
              "      <th>معنی4</th>\n",
              "    </tr>\n",
              "  </thead>\n",
              "  <tbody>\n",
              "    <tr>\n",
              "      <th>0</th>\n",
              "      <td>ابن سینا در همان محل مرگ، یعنی همدان به خاک سپ...</td>\n",
              "      <td>در سال ۱۹۳۹ گروهی از فیزیکدانهای مجارستانی از ...</td>\n",
              "      <td>در جریان تدارک جشنهای ۲۵۰۰ سالهٔ شاهنشاهی ایرا...</td>\n",
              "      <td>مسابقات در ابتدا تنها شامل مسابقه «دوندگی» بود...</td>\n",
              "    </tr>\n",
              "    <tr>\n",
              "      <th>1</th>\n",
              "      <td>کاسانو پس از کریستین پانوچی، هم تیمی سابقش در ...</td>\n",
              "      <td></td>\n",
              "      <td>ورزش از نظر لغوی اسم مصدر است. به معنای «ورزید...</td>\n",
              "      <td>ایران بعد از انقلاب اسلامی، همواره مسابقات خود...</td>\n",
              "    </tr>\n",
              "    <tr>\n",
              "      <th>2</th>\n",
              "      <td>مسابقات دوندگی در ونکوور شامل ونکوور سان ران(V...</td>\n",
              "      <td></td>\n",
              "      <td>تحریک و تحرک بخشیدن به ورزشها اغلب یک حالت و و...</td>\n",
              "      <td>یکی از مهمترین مشکلات پیش روی المپیک «و بهطور ...</td>\n",
              "    </tr>\n",
              "    <tr>\n",
              "      <th>3</th>\n",
              "      <td>ونکوور همچنین میزبان مسابقات دوچرخهسواریِ مهم...</td>\n",
              "      <td></td>\n",
              "      <td>در دوران باستان تنها مردان یونانی که آزاد «و ن...</td>\n",
              "      <td>مطابق ماده ۴۸٫۱ منشور المپیک، هر دوره مسابقات ...</td>\n",
              "    </tr>\n",
              "    <tr>\n",
              "      <th>4</th>\n",
              "      <td>مسابقه آواز یورویژن در سال ۲۰۱۲ (به انگلیسی: E...</td>\n",
              "      <td></td>\n",
              "      <td>سیاست نیز در چند مورد در بازیهای المپیک اختلال...</td>\n",
              "      <td>روسیه، نروژ، کانادا، دانمارک و آمریکا که سواحل...</td>\n",
              "    </tr>\n",
              "    <tr>\n",
              "      <th>...</th>\n",
              "      <td>...</td>\n",
              "      <td>...</td>\n",
              "      <td>...</td>\n",
              "      <td>...</td>\n",
              "    </tr>\n",
              "    <tr>\n",
              "      <th>179</th>\n",
              "      <td>ریگان در دوره ریاست جمهوری خود ابتکارات نوین س...</td>\n",
              "      <td></td>\n",
              "      <td></td>\n",
              "      <td></td>\n",
              "    </tr>\n",
              "    <tr>\n",
              "      <th>180</th>\n",
              "      <td>پرونده:Greyhound Racing 2 amk.jpg|یک سگ در مسا...</td>\n",
              "      <td></td>\n",
              "      <td></td>\n",
              "      <td></td>\n",
              "    </tr>\n",
              "    <tr>\n",
              "      <th>181</th>\n",
              "      <td>از جمله رکوردهای او مبارزهٔ همزمان با ۵۵ نفر د...</td>\n",
              "      <td></td>\n",
              "      <td></td>\n",
              "      <td></td>\n",
              "    </tr>\n",
              "    <tr>\n",
              "      <th>182</th>\n",
              "      <td>وازاآری (技あり) یا آنگونه که در خارج از ژاپن روا...</td>\n",
              "      <td></td>\n",
              "      <td></td>\n",
              "      <td></td>\n",
              "    </tr>\n",
              "    <tr>\n",
              "      <th>183</th>\n",
              "      <td>نکته: اگر در طول یک مبارزه حریف بتواند دو بار ...</td>\n",
              "      <td></td>\n",
              "      <td></td>\n",
              "      <td></td>\n",
              "    </tr>\n",
              "  </tbody>\n",
              "</table>\n",
              "<p>184 rows × 4 columns</p>\n",
              "</div>"
            ],
            "text/plain": [
              "                                                 معنی1  ...                                              معنی4\n",
              "0    ابن سینا در همان محل مرگ، یعنی همدان به خاک سپ...  ...  مسابقات در ابتدا تنها شامل مسابقه «دوندگی» بود...\n",
              "1    کاسانو پس از کریستین پانوچی، هم تیمی سابقش در ...  ...  ایران بعد از انقلاب اسلامی، همواره مسابقات خود...\n",
              "2    مسابقات دوندگی در ونکوور شامل ونکوور سان ران(V...  ...  یکی از مهمترین مشکلات پیش روی المپیک «و بهطور ...\n",
              "3     ونکوور همچنین میزبان مسابقات دوچرخهسواریِ مهم...  ...  مطابق ماده ۴۸٫۱ منشور المپیک، هر دوره مسابقات ...\n",
              "4    مسابقه آواز یورویژن در سال ۲۰۱۲ (به انگلیسی: E...  ...  روسیه، نروژ، کانادا، دانمارک و آمریکا که سواحل...\n",
              "..                                                 ...  ...                                                ...\n",
              "179  ریگان در دوره ریاست جمهوری خود ابتکارات نوین س...  ...                                                   \n",
              "180  پرونده:Greyhound Racing 2 amk.jpg|یک سگ در مسا...  ...                                                   \n",
              "181  از جمله رکوردهای او مبارزهٔ همزمان با ۵۵ نفر د...  ...                                                   \n",
              "182  وازاآری (技あり) یا آنگونه که در خارج از ژاپن روا...  ...                                                   \n",
              "183  نکته: اگر در طول یک مبارزه حریف بتواند دو بار ...  ...                                                   \n",
              "\n",
              "[184 rows x 4 columns]"
            ]
          },
          "metadata": {
            "tags": []
          },
          "execution_count": 210
        }
      ]
    },
    {
      "cell_type": "code",
      "metadata": {
        "colab": {
          "base_uri": "https://localhost:8080/"
        },
        "id": "NvE1q6DVb5px",
        "outputId": "0712e9c0-0354-41d2-cbbb-071aaa379035"
      },
      "source": [
        "list1 = df['معنی1'].to_list()\n",
        "new=[]\n",
        "for s in range(len(list1)):\n",
        "  #sents = parsivar_tokenizer.tokenize_words(s)\n",
        "  text_tags = my_tagger.parse(my_tokenizer.tokenize_words(list1[s]))\n",
        "  for i in text_tags:\n",
        "    if i[0] not in stop_w_list:\n",
        "      new.append(i)\n",
        "\n",
        "\n",
        "from collections import Counter \n",
        "most_common_words= [word for word, word_count in Counter(new).most_common(7)]\n",
        "print(most_common_words)"
      ],
      "execution_count": null,
      "outputs": [
        {
          "output_type": "stream",
          "text": [
            "[('مسابقه', 'N_SING'), ('تیم', 'N_SING'), ('ایران', 'N_SING'), ('بازی', 'N_SING'), ('ملی', 'ADJ'), ('سال', 'N_SING'), ('دایی', 'N_SING')]\n"
          ],
          "name": "stdout"
        }
      ]
    },
    {
      "cell_type": "code",
      "metadata": {
        "colab": {
          "base_uri": "https://localhost:8080/"
        },
        "id": "Y0k5d2N0b7HT",
        "outputId": "294e2f79-e5cf-4262-ac2f-b71654526341"
      },
      "source": [
        "list1 = df['معنی2'].to_list()\n",
        "new=[]\n",
        "for s in range(len(list1)):\n",
        "  #sents = parsivar_tokenizer.tokenize_words(s)\n",
        "  text_tags = my_tagger.parse(my_tokenizer.tokenize_words(list1[s]))\n",
        "  for i in text_tags:\n",
        "    if i[0] not in stop_w_list:\n",
        "      new.append(i)\n",
        "\n",
        "\n",
        "from collections import Counter \n",
        "most_common_words= [word for word, word_count in Counter(new).most_common(7)]\n",
        "print(most_common_words)"
      ],
      "execution_count": null,
      "outputs": [
        {
          "output_type": "stream",
          "text": [
            "[('آمریکا', 'N_SING'), ('ساخت', 'N_SING'), ('بمب', 'N_SING'), ('اتمی', 'ADJ'), ('هشدار', 'N_SING'), ('توجه', 'N_SING'), ('زیلارد', 'N_SING')]\n"
          ],
          "name": "stdout"
        }
      ]
    },
    {
      "cell_type": "code",
      "metadata": {
        "colab": {
          "base_uri": "https://localhost:8080/"
        },
        "id": "DZIQsjXBb77r",
        "outputId": "61d89a1a-77ff-4b91-c037-89df2642ab6c"
      },
      "source": [
        "list1 = df['معنی3'].to_list()\n",
        "new=[]\n",
        "for s in range(len(list1)):\n",
        "  #sents = parsivar_tokenizer.tokenize_words(s)\n",
        "  text_tags = my_tagger.parse(my_tokenizer.tokenize_words(list1[s]))\n",
        "  for i in text_tags:\n",
        "    if i[0] not in stop_w_list:\n",
        "      new.append(i)\n",
        "\n",
        "\n",
        "from collections import Counter \n",
        "most_common_words= [word for word, word_count in Counter(new).most_common(7)]\n",
        "print(most_common_words)"
      ],
      "execution_count": null,
      "outputs": [
        {
          "output_type": "stream",
          "text": [
            "[('اهدا', 'N_SING'), ('المپیک', 'N_SING'), ('مدال', 'N_SING'), ('سال', 'N_SING'), ('مسابقه', 'N_SING'), ('مسابقات', 'N_PL'), ('ورزش', 'N_SING')]\n"
          ],
          "name": "stdout"
        }
      ]
    },
    {
      "cell_type": "code",
      "metadata": {
        "colab": {
          "base_uri": "https://localhost:8080/"
        },
        "id": "UwAWgGAjb9W2",
        "outputId": "47427681-1d13-4fe0-99a3-bb008c1cfe3f"
      },
      "source": [
        "list1 = df['معنی4'].to_list()\n",
        "new=[]\n",
        "for s in range(len(list1)):\n",
        "  #sents = parsivar_tokenizer.tokenize_words(s)\n",
        "  text_tags = my_tagger.parse(my_tokenizer.tokenize_words(list1[s]))\n",
        "  for i in text_tags:\n",
        "    if i[0] not in stop_w_list:\n",
        "      new.append(i)\n",
        "\n",
        "\n",
        "from collections import Counter \n",
        "most_common_words= [word for word, word_count in Counter(new).most_common(7)]\n",
        "print(most_common_words)"
      ],
      "execution_count": null,
      "outputs": [
        {
          "output_type": "stream",
          "text": [
            "[('المپیک', 'N_SING'), ('مسابقه', 'N_SING'), ('شجریان', 'N_SING'), ('سال', 'N_SING'), ('محمدرضا', 'N_SING'), ('مسابقات', 'N_PL'), ('قرآن', 'N_SING')]\n"
          ],
          "name": "stdout"
        }
      ]
    },
    {
      "cell_type": "markdown",
      "metadata": {
        "id": "NxvRQghecVHs"
      },
      "source": [
        "184"
      ]
    },
    {
      "cell_type": "code",
      "metadata": {
        "colab": {
          "base_uri": "https://localhost:8080/"
        },
        "id": "bpvEJdLVcSvI",
        "outputId": "db0834ac-585f-4871-c1ac-eff52995323f"
      },
      "source": [
        "! ./ukb_wsd --ppr_w2w --allranks  -K fn3.bin -D DICT_TEST.txt mosabeghe1.txt "
      ],
      "execution_count": null,
      "outputs": [
        {
          "output_type": "stream",
          "text": [
            "!! -v 2.2 ./ukb_wsd --ppr_w2w --allranks -K fn3.bin -D DICT_TEST.txt mosabeghe1.txt\n",
            "ctx_00 w1  10538-n/0.877806 11623-n/0.0864305 10535-n/0.0344679 44417-n/0.00129585 !! مسابقه\n"
          ],
          "name": "stdout"
        }
      ]
    },
    {
      "cell_type": "markdown",
      "metadata": {
        "id": "jBFDJ2vQcT71"
      },
      "source": [
        "1"
      ]
    },
    {
      "cell_type": "code",
      "metadata": {
        "colab": {
          "base_uri": "https://localhost:8080/"
        },
        "id": "gpijN880cEK2",
        "outputId": "1ea748b9-bad0-4c1a-d501-535b2612e2ae"
      },
      "source": [
        "! ./ukb_wsd --ppr_w2w --allranks  -K fn3.bin -D DICT_TEST.txt mosabeghe2.txt "
      ],
      "execution_count": null,
      "outputs": [
        {
          "output_type": "stream",
          "text": [
            "!! -v 2.2 ./ukb_wsd --ppr_w2w --allranks -K fn3.bin -D DICT_TEST.txt mosabeghe2.txt\n",
            "ctx_00 w6  11623-n/0.549406 10538-n/0.297027 10535-n/0.146671 44417-n/0.00689563 !! مسابقه\n"
          ],
          "name": "stdout"
        }
      ]
    },
    {
      "cell_type": "markdown",
      "metadata": {
        "id": "a7bi6MwEcNXN"
      },
      "source": [
        "7"
      ]
    },
    {
      "cell_type": "code",
      "metadata": {
        "colab": {
          "base_uri": "https://localhost:8080/"
        },
        "id": "LJ3CxEdPcOUJ",
        "outputId": "cb5b4e6a-3bc7-4fee-8a4a-1d314eb3d258"
      },
      "source": [
        "! ./ukb_wsd --ppr_w2w --allranks  -K fn3.bin -D DICT_TEST.txt mosabeghe3.txt "
      ],
      "execution_count": null,
      "outputs": [
        {
          "output_type": "stream",
          "text": [
            "!! -v 2.2 ./ukb_wsd --ppr_w2w --allranks -K fn3.bin -D DICT_TEST.txt mosabeghe3.txt\n",
            "ctx_00 w5  10535-n/0.490207 10538-n/0.38054 11623-n/0.111448 44417-n/0.0178052 !! مسابقه\n"
          ],
          "name": "stdout"
        }
      ]
    },
    {
      "cell_type": "markdown",
      "metadata": {
        "id": "SDTyzBzbcMb1"
      },
      "source": [
        "8"
      ]
    },
    {
      "cell_type": "code",
      "metadata": {
        "colab": {
          "base_uri": "https://localhost:8080/"
        },
        "id": "_4XU2KadcO5p",
        "outputId": "bca4d1d1-4b51-4f66-a839-aa2ca7bb99e3"
      },
      "source": [
        "! ./ukb_wsd --ppr_w2w --allranks  -K fn3.bin -D DICT_TEST.txt mosabeghe4.txt "
      ],
      "execution_count": null,
      "outputs": [
        {
          "output_type": "stream",
          "text": [
            "!! -v 2.2 ./ukb_wsd --ppr_w2w --allranks -K fn3.bin -D DICT_TEST.txt mosabeghe4.txt\n",
            "ctx_00 w2  10538-n/0.77879 11623-n/0.132064 44417-n/0.0551055 10535-n/0.03404 !! مسابقه\n"
          ],
          "name": "stdout"
        }
      ]
    },
    {
      "cell_type": "markdown",
      "metadata": {
        "id": "MLQGyVuFERni"
      },
      "source": [
        "# حوزه"
      ]
    },
    {
      "cell_type": "code",
      "metadata": {
        "id": "3wQRONhFmTcA"
      },
      "source": [
        "#num6\n",
        "hoze= []\n",
        "for i in wikitext:\n",
        "  if \" حوزه \" in i:\n",
        "    if(len(i)<250):\n",
        "      i=i.replace(\"\\u200c\",\"\")\n",
        "      hoze.append(i.rstrip(\"\\n\"))\n",
        "\n",
        "#hoze=hoze[:200]"
      ],
      "execution_count": null,
      "outputs": []
    },
    {
      "cell_type": "code",
      "metadata": {
        "id": "rN9j2u25mbR0"
      },
      "source": [
        "hoze2=[]\n",
        "c=0\n",
        "sum=0\n",
        "for i in hoze:\n",
        "    sentence = Sentence(i)\n",
        "    stacked_embeddings.embed(sentence)\n",
        "    for token in sentence:\n",
        "        sum+=token.embedding\n",
        "        c+=1\n",
        "    sum=sum / c\n",
        "    hoze2.append(np.array(sum))"
      ],
      "execution_count": null,
      "outputs": []
    },
    {
      "cell_type": "code",
      "metadata": {
        "id": "CjSHzDiSEyaV",
        "colab": {
          "base_uri": "https://localhost:8080/",
          "height": 264
        },
        "outputId": "92326c14-8b30-4457-f9e6-506ff62b81b4"
      },
      "source": [
        "hoze2=np.array(hoze2)\n",
        "kmeans = KMeans(n_clusters=4, random_state=0).fit(hoze2)\n",
        "y_kmeans = kmeans.predict(hoze2)\n",
        "labels=kmeans.labels_\n",
        "plt.scatter(hoze2[:, 0], hoze2[:, 1], c=y_kmeans, cmap='viridis')\n",
        "plt.show()"
      ],
      "execution_count": null,
      "outputs": [
        {
          "output_type": "display_data",
          "data": {
            "image/png": "[encoded data removed]",
            "text/plain": [
              "<Figure size 432x288 with 1 Axes>"
            ]
          },
          "metadata": {
            "tags": [],
            "needs_background": "light"
          }
        }
      ]
    },
    {
      "cell_type": "code",
      "metadata": {
        "id": "NiHPT-R4FGOO",
        "colab": {
          "base_uri": "https://localhost:8080/",
          "height": 406
        },
        "outputId": "c2ea9cb2-4085-4237-c085-d37b332e24d2"
      },
      "source": [
        "df = pd.DataFrame(columns=[\"معنی1\",\"معنی2\",\"معنی3\",\"معنی4\"])\n",
        "for i in range(200):\n",
        "  if labels[i]==0:\n",
        "    df=df.append({\"معنی1\":hoze[i]}, ignore_index=True)\n",
        "  elif labels[i]==1:\n",
        "    df=df.append({\"معنی2\":hoze[i]}, ignore_index=True)\n",
        "  elif labels[i]==2:\n",
        "    df=df.append({\"معنی3\":hoze[i]}, ignore_index=True)\n",
        "  elif labels[i]==3:\n",
        "    df=df.append({\"معنی4\":hoze[i]}, ignore_index=True)\n",
        "    \n",
        "df = df.apply(lambda x: pd.Series(x.dropna().values))\n",
        "df = df.fillna('')\n",
        "df"
      ],
      "execution_count": null,
      "outputs": [
        {
          "output_type": "execute_result",
          "data": {
            "text/html": [
              "<div>\n",
              "<style scoped>\n",
              "    .dataframe tbody tr th:only-of-type {\n",
              "        vertical-align: middle;\n",
              "    }\n",
              "\n",
              "    .dataframe tbody tr th {\n",
              "        vertical-align: top;\n",
              "    }\n",
              "\n",
              "    .dataframe thead th {\n",
              "        text-align: right;\n",
              "    }\n",
              "</style>\n",
              "<table border=\"1\" class=\"dataframe\">\n",
              "  <thead>\n",
              "    <tr style=\"text-align: right;\">\n",
              "      <th></th>\n",
              "      <th>معنی1</th>\n",
              "      <th>معنی2</th>\n",
              "      <th>معنی3</th>\n",
              "      <th>معنی4</th>\n",
              "    </tr>\n",
              "  </thead>\n",
              "  <tbody>\n",
              "    <tr>\n",
              "      <th>0</th>\n",
              "      <td>== پیشینه پژوهش در حوزه اسطورهشناسی ==</td>\n",
              "      <td>شیمی نظری، که به توصیف پدیدههای شیمیایی با است...</td>\n",
              "      <td>دولت تاجیکستان حدود ۹۰ درصد از نیازهای انرژی خ...</td>\n",
              "      <td>اگرچه آوازه استان مرکزی بیشتر به خاطر صنعت، کش...</td>\n",
              "    </tr>\n",
              "    <tr>\n",
              "      <th>1</th>\n",
              "      <td>== حوزه و قلمرو روانشناسی ==</td>\n",
              "      <td></td>\n",
              "      <td></td>\n",
              "      <td>چین و ازبکستان چند قرارداد به ارزش ۱۰ میلیارد ...</td>\n",
              "    </tr>\n",
              "    <tr>\n",
              "      <th>2</th>\n",
              "      <td>در واژهنامه تخصصی معماری واژه فضا در حوزه معما...</td>\n",
              "      <td></td>\n",
              "      <td></td>\n",
              "      <td>مَدْرَس واژهای عربی به معنای محل درس دادن است....</td>\n",
              "    </tr>\n",
              "    <tr>\n",
              "      <th>3</th>\n",
              "      <td>پایگاه اطلاعرسانی حوزه هنری استان بوشهر</td>\n",
              "      <td></td>\n",
              "      <td></td>\n",
              "      <td></td>\n",
              "    </tr>\n",
              "    <tr>\n",
              "      <th>4</th>\n",
              "      <td>=== حوزه علمیه خواهران ===</td>\n",
              "      <td></td>\n",
              "      <td></td>\n",
              "      <td></td>\n",
              "    </tr>\n",
              "    <tr>\n",
              "      <th>...</th>\n",
              "      <td>...</td>\n",
              "      <td>...</td>\n",
              "      <td>...</td>\n",
              "      <td>...</td>\n",
              "    </tr>\n",
              "    <tr>\n",
              "      <th>190</th>\n",
              "      <td>دولت کابل به ریاست حامد کرزی، در سال ۲۰۰۳ میلا...</td>\n",
              "      <td></td>\n",
              "      <td></td>\n",
              "      <td></td>\n",
              "    </tr>\n",
              "    <tr>\n",
              "      <th>191</th>\n",
              "      <td>== شب چله در حوزه ایران بزرگ ==</td>\n",
              "      <td></td>\n",
              "      <td></td>\n",
              "      <td></td>\n",
              "    </tr>\n",
              "    <tr>\n",
              "      <th>192</th>\n",
              "      <td>سید محمد حسین صدر طباطبایی (محقق در حوزه بازار...</td>\n",
              "      <td></td>\n",
              "      <td></td>\n",
              "      <td></td>\n",
              "    </tr>\n",
              "    <tr>\n",
              "      <th>193</th>\n",
              "      <td>قاضیهای دادگاه استیناف حوزه دوم ایالات متحده آ...</td>\n",
              "      <td></td>\n",
              "      <td></td>\n",
              "      <td></td>\n",
              "    </tr>\n",
              "    <tr>\n",
              "      <th>194</th>\n",
              "      <td>تحقیق و توسعه، محور فعالیتهای رویال داچ شل، به...</td>\n",
              "      <td></td>\n",
              "      <td></td>\n",
              "      <td></td>\n",
              "    </tr>\n",
              "  </tbody>\n",
              "</table>\n",
              "<p>195 rows × 4 columns</p>\n",
              "</div>"
            ],
            "text/plain": [
              "                                                 معنی1  ...                                              معنی4\n",
              "0               == پیشینه پژوهش در حوزه اسطورهشناسی ==  ...  اگرچه آوازه استان مرکزی بیشتر به خاطر صنعت، کش...\n",
              "1                         == حوزه و قلمرو روانشناسی ==  ...  چین و ازبکستان چند قرارداد به ارزش ۱۰ میلیارد ...\n",
              "2    در واژهنامه تخصصی معماری واژه فضا در حوزه معما...  ...  مَدْرَس واژهای عربی به معنای محل درس دادن است....\n",
              "3              پایگاه اطلاعرسانی حوزه هنری استان بوشهر  ...                                                   \n",
              "4                           === حوزه علمیه خواهران ===  ...                                                   \n",
              "..                                                 ...  ...                                                ...\n",
              "190  دولت کابل به ریاست حامد کرزی، در سال ۲۰۰۳ میلا...  ...                                                   \n",
              "191                    == شب چله در حوزه ایران بزرگ ==  ...                                                   \n",
              "192  سید محمد حسین صدر طباطبایی (محقق در حوزه بازار...  ...                                                   \n",
              "193  قاضیهای دادگاه استیناف حوزه دوم ایالات متحده آ...  ...                                                   \n",
              "194  تحقیق و توسعه، محور فعالیتهای رویال داچ شل، به...  ...                                                   \n",
              "\n",
              "[195 rows x 4 columns]"
            ]
          },
          "metadata": {
            "tags": []
          },
          "execution_count": 223
        }
      ]
    },
    {
      "cell_type": "code",
      "metadata": {
        "colab": {
          "base_uri": "https://localhost:8080/"
        },
        "id": "_V7ZI7xReDD8",
        "outputId": "eac5f492-b3b6-4c89-d813-87fe221b9356"
      },
      "source": [
        "list1 = df['معنی1'].to_list()\n",
        "new=[]\n",
        "for s in range(len(list1)):\n",
        "  #sents = parsivar_tokenizer.tokenize_words(s)\n",
        "  text_tags = my_tagger.parse(my_tokenizer.tokenize_words(list1[s]))\n",
        "  for i in text_tags:\n",
        "    if i[0] not in stop_w_list:\n",
        "      new.append(i)\n",
        "\n",
        "\n",
        "from collections import Counter \n",
        "most_common_words= [word for word, word_count in Counter(new).most_common(7)]\n",
        "print(most_common_words)"
      ],
      "execution_count": null,
      "outputs": [
        {
          "output_type": "stream",
          "text": [
            "[('حوزه', 'N_SING'), ('علمیه', 'ADJ'), ('قم', 'N_SING'), ('کشورهای', 'N_PL'), ('==', 'DELM'), ('ایران', 'N_SING'), ('سال', 'N_SING')]\n"
          ],
          "name": "stdout"
        }
      ]
    },
    {
      "cell_type": "code",
      "metadata": {
        "colab": {
          "base_uri": "https://localhost:8080/"
        },
        "id": "LdU7v33IeBMp",
        "outputId": "e0496c82-eb7d-4b0a-ee71-02449fa684e3"
      },
      "source": [
        "list1 = df['معنی2'].to_list()\n",
        "new=[]\n",
        "for s in range(len(list1)):\n",
        "  #sents = parsivar_tokenizer.tokenize_words(s)\n",
        "  text_tags = my_tagger.parse(my_tokenizer.tokenize_words(list1[s]))\n",
        "  for i in text_tags:\n",
        "    if i[0] not in stop_w_list:\n",
        "      new.append(i)\n",
        "\n",
        "\n",
        "from collections import Counter \n",
        "most_common_words= [word for word, word_count in Counter(new).most_common(7)]\n",
        "print(most_common_words)"
      ],
      "execution_count": null,
      "outputs": [
        {
          "output_type": "stream",
          "text": [
            "[('شیمی', 'N_SING'), ('نظری،', 'ADJ'), ('توصیف', 'N_SING'), ('پدیدههای', 'N_PL'), ('شیمیایی', 'ADJ'), ('استفاده', 'N_SING'), ('خواص', 'N_PL')]\n"
          ],
          "name": "stdout"
        }
      ]
    },
    {
      "cell_type": "code",
      "metadata": {
        "colab": {
          "base_uri": "https://localhost:8080/"
        },
        "id": "PqKBk_0Td_sM",
        "outputId": "88421264-62d5-437b-c315-36de10ca9cf3"
      },
      "source": [
        "list1 = df['معنی3'].to_list()\n",
        "new=[]\n",
        "for s in range(len(list1)):\n",
        "  #sents = parsivar_tokenizer.tokenize_words(s)\n",
        "  text_tags = my_tagger.parse(my_tokenizer.tokenize_words(list1[s]))\n",
        "  for i in text_tags:\n",
        "    if i[0] not in stop_w_list:\n",
        "      new.append(i)\n",
        "\n",
        "\n",
        "from collections import Counter \n",
        "most_common_words= [word for word, word_count in Counter(new).most_common(7)]\n",
        "print(most_common_words)"
      ],
      "execution_count": null,
      "outputs": [
        {
          "output_type": "stream",
          "text": [
            "[('تاجیکستان', 'N_SING'), ('دولت', 'N_SING'), ('۹۰', 'NUM'), ('درصد', 'N_SING'), ('نیازهای', 'N_PL'), ('انرژی', 'N_SING'), ('واردات', 'N_PL')]\n"
          ],
          "name": "stdout"
        }
      ]
    },
    {
      "cell_type": "code",
      "metadata": {
        "colab": {
          "base_uri": "https://localhost:8080/"
        },
        "id": "FzXH2rDhd_DR",
        "outputId": "9d369276-18ba-4e5e-97df-01b208b084f5"
      },
      "source": [
        "list1 = df['معنی4'].to_list()\n",
        "new=[]\n",
        "for s in range(len(list1)):\n",
        "  #sents = parsivar_tokenizer.tokenize_words(s)\n",
        "  text_tags = my_tagger.parse(my_tokenizer.tokenize_words(list1[s]))\n",
        "  for i in text_tags:\n",
        "    if i[0] not in stop_w_list:\n",
        "      new.append(i)\n",
        "\n",
        "\n",
        "from collections import Counter \n",
        "most_common_words= [word for word, word_count in Counter(new).most_common(7)]\n",
        "print(most_common_words)"
      ],
      "execution_count": null,
      "outputs": [
        {
          "output_type": "stream",
          "text": [
            "[('حوزه', 'N_SING'), ('ازبکستان', 'N_SING'), ('محل', 'N_SING'), ('درس', 'N_SING'), ('اگرچه', 'CON'), ('آوازه', 'N_SING'), ('استان', 'N_SING')]\n"
          ],
          "name": "stdout"
        }
      ]
    },
    {
      "cell_type": "markdown",
      "metadata": {
        "id": "HLCxxHkCeZin"
      },
      "source": [
        "195"
      ]
    },
    {
      "cell_type": "code",
      "metadata": {
        "colab": {
          "base_uri": "https://localhost:8080/"
        },
        "id": "j_2AJEyqeaeI",
        "outputId": "a41b292e-a541-4d74-9e00-243f930e89a1"
      },
      "source": [
        "! ./ukb_wsd --ppr_w2w --allranks  -K fn3.bin -D DICT_TEST.txt hoze1.txt "
      ],
      "execution_count": null,
      "outputs": [
        {
          "output_type": "stream",
          "text": [
            "!! -v 2.2 ./ukb_wsd --ppr_w2w --allranks -K fn3.bin -D DICT_TEST.txt hoze1.txt\n",
            "ctx_00 w1  14259-n/0.877572 12382-n/0.0756985 12507-n/0.0409339 11406-n/0.00579513 !! حوزه\n"
          ],
          "name": "stdout"
        }
      ]
    },
    {
      "cell_type": "markdown",
      "metadata": {
        "id": "PiuGYQtPeffA"
      },
      "source": [
        "1"
      ]
    },
    {
      "cell_type": "code",
      "metadata": {
        "colab": {
          "base_uri": "https://localhost:8080/"
        },
        "id": "C-wVvTAEeggO",
        "outputId": "17978051-4109-40db-c452-f6f40b25f024"
      },
      "source": [
        "! ./ukb_wsd --ppr_w2w --allranks  -K fn3.bin -D DICT_TEST.txt hoze2.txt "
      ],
      "execution_count": null,
      "outputs": [
        {
          "output_type": "stream",
          "text": [
            "!! -v 2.2 ./ukb_wsd --ppr_w2w --allranks -K fn3.bin -D DICT_TEST.txt hoze2.txt\n",
            "ctx_00 w6  12507-n/0.631345 12382-n/0.188913 14259-n/0.125438 11406-n/0.0543045 !! حوزه\n"
          ],
          "name": "stdout"
        }
      ]
    },
    {
      "cell_type": "markdown",
      "metadata": {
        "id": "4_dGKAtaei69"
      },
      "source": [
        "1"
      ]
    },
    {
      "cell_type": "code",
      "metadata": {
        "colab": {
          "base_uri": "https://localhost:8080/"
        },
        "id": "G_6eCxfIej31",
        "outputId": "d465e524-ccb7-432d-cbe5-0e455b83586d"
      },
      "source": [
        "! ./ukb_wsd --ppr_w2w --allranks  -K fn3.bin -D DICT_TEST.txt hoze3.txt "
      ],
      "execution_count": null,
      "outputs": [
        {
          "output_type": "stream",
          "text": [
            "!! -v 2.2 ./ukb_wsd --ppr_w2w --allranks -K fn3.bin -D DICT_TEST.txt hoze3.txt\n",
            "ctx_00 w6  12507-n/0.427515 14259-n/0.352871 12382-n/0.189437 11406-n/0.0301765 !! حوزه\n"
          ],
          "name": "stdout"
        }
      ]
    },
    {
      "cell_type": "markdown",
      "metadata": {
        "id": "FJmnm6q3emoi"
      },
      "source": [
        "3"
      ]
    },
    {
      "cell_type": "code",
      "metadata": {
        "colab": {
          "base_uri": "https://localhost:8080/"
        },
        "id": "1p9MVG4MenZ9",
        "outputId": "460dd0f0-d0f0-4a9f-ba05-1bcc889cecc5"
      },
      "source": [
        "! ./ukb_wsd --ppr_w2w --allranks  -K fn3.bin -D DICT_TEST.txt hoze4.txt "
      ],
      "execution_count": null,
      "outputs": [
        {
          "output_type": "stream",
          "text": [
            "!! -v 2.2 ./ukb_wsd --ppr_w2w --allranks -K fn3.bin -D DICT_TEST.txt hoze4.txt\n",
            "ctx_00 w1  14259-n/0.464091 12507-n/0.284671 12382-n/0.159037 11406-n/0.0921999 !! حوزه\n"
          ],
          "name": "stdout"
        }
      ]
    },
    {
      "cell_type": "markdown",
      "metadata": {
        "id": "wQwtMT1UB5f5"
      },
      "source": [
        "# ماشین"
      ]
    },
    {
      "cell_type": "code",
      "metadata": {
        "id": "RkwdiHgpmeGm"
      },
      "source": [
        "#num7\n",
        "mashin= []\n",
        "for i in wikitext:\n",
        "  if \" ماشین \" in i:\n",
        "    if(len(i)<350):\n",
        "      i=i.replace(\"\\u200c\",\"\")\n",
        "      mashin.append(i.rstrip(\"\\n\"))\n",
        "\n",
        "#mashin=mashin[:200]"
      ],
      "execution_count": null,
      "outputs": []
    },
    {
      "cell_type": "code",
      "metadata": {
        "id": "GJ2EsYOTmmHP"
      },
      "source": [
        "mashin2=[]\n",
        "c=0\n",
        "sum=0\n",
        "for i in mashin:\n",
        "    sentence = Sentence(i)\n",
        "    stacked_embeddings.embed(sentence)\n",
        "    for token in sentence:\n",
        "        sum+=token.embedding\n",
        "        c+=1\n",
        "    sum=sum / c\n",
        "    mashin2.append(np.array(sum))"
      ],
      "execution_count": null,
      "outputs": []
    },
    {
      "cell_type": "code",
      "metadata": {
        "id": "yWgo3wipCw6Y"
      },
      "source": [
        "mashin2=np.array(mashin2)"
      ],
      "execution_count": null,
      "outputs": []
    },
    {
      "cell_type": "code",
      "metadata": {
        "id": "WhpKnYMVC0j0",
        "colab": {
          "base_uri": "https://localhost:8080/"
        },
        "outputId": "afb2d201-9714-4ba3-f01a-341db49fb229"
      },
      "source": [
        "mashin2"
      ],
      "execution_count": null,
      "outputs": [
        {
          "output_type": "execute_result",
          "data": {
            "text/plain": [
              "array([[ 1.7467928e-01, -2.2306949e-01, -2.1255392e-01, ...,\n",
              "        -3.6881950e-01,  3.2432762e-01, -9.0335846e-02],\n",
              "       [ 1.0297144e-01,  9.0363942e-02, -7.0625424e-02, ...,\n",
              "         2.8568417e-02,  4.3551773e-02, -1.9562060e-01],\n",
              "       [ 3.1055561e-01, -3.2616583e-01, -1.4788678e-01, ...,\n",
              "         8.5080497e-02,  3.9089334e-01, -2.2732999e-02],\n",
              "       ...,\n",
              "       [-9.0068998e-04, -1.9361130e-03, -5.7650520e-03, ...,\n",
              "         2.8621824e-03, -9.8966404e-05,  2.1432869e-03],\n",
              "       [-3.4205019e-04, -2.0024179e-04,  2.3006508e-04, ...,\n",
              "        -9.3347277e-05,  2.7487322e-04, -6.8894803e-04],\n",
              "       [ 2.9750173e-03, -5.8028786e-03, -3.2273622e-03, ...,\n",
              "         1.9723429e-04,  1.2416560e-03, -8.9032727e-04]], dtype=float32)"
            ]
          },
          "metadata": {
            "tags": []
          },
          "execution_count": 74
        }
      ]
    },
    {
      "cell_type": "code",
      "metadata": {
        "id": "l1RC3EqzCBwd",
        "colab": {
          "base_uri": "https://localhost:8080/",
          "height": 264
        },
        "outputId": "4255bec3-1659-446b-9b5a-f8f154033f44"
      },
      "source": [
        "\n",
        "kmeans = KMeans(n_clusters=3, random_state=0).fit(mashin2)\n",
        "y_kmeans = kmeans.predict(mashin2)\n",
        "labels=kmeans.labels_\n",
        "plt.scatter(mashin2[:, 0], mashin2[:, 1], c=y_kmeans, cmap='viridis')\n",
        "plt.show()"
      ],
      "execution_count": null,
      "outputs": [
        {
          "output_type": "display_data",
          "data": {
            "image/png": "[encoded data removed]",
            "text/plain": [
              "<Figure size 432x288 with 1 Axes>"
            ]
          },
          "metadata": {
            "tags": [],
            "needs_background": "light"
          }
        }
      ]
    },
    {
      "cell_type": "code",
      "metadata": {
        "id": "u51ZLrCwDyA7",
        "colab": {
          "base_uri": "https://localhost:8080/",
          "height": 406
        },
        "outputId": "985f4e80-3a83-4775-95b6-2bc755a84621"
      },
      "source": [
        "df = pd.DataFrame(columns=[\"معنی1\",\"معنی2\",\"معنی3\"])\n",
        "for i in range(200):\n",
        "  if labels[i]==0:\n",
        "    df=df.append({\"معنی1\":mashin[i]}, ignore_index=True)\n",
        "  elif labels[i]==1:\n",
        "    df=df.append({\"معنی2\":mashin[i]}, ignore_index=True)\n",
        "  elif labels[i]==2:\n",
        "    df=df.append({\"معنی3\":mashin[i]}, ignore_index=True)\n",
        "\n",
        "\n",
        "df = df.apply(lambda x: pd.Series(x.dropna().values))\n",
        "df = df.fillna('')\n",
        "\n",
        "df"
      ],
      "execution_count": null,
      "outputs": [
        {
          "output_type": "execute_result",
          "data": {
            "text/html": [
              "<div>\n",
              "<style scoped>\n",
              "    .dataframe tbody tr th:only-of-type {\n",
              "        vertical-align: middle;\n",
              "    }\n",
              "\n",
              "    .dataframe tbody tr th {\n",
              "        vertical-align: top;\n",
              "    }\n",
              "\n",
              "    .dataframe thead th {\n",
              "        text-align: right;\n",
              "    }\n",
              "</style>\n",
              "<table border=\"1\" class=\"dataframe\">\n",
              "  <thead>\n",
              "    <tr style=\"text-align: right;\">\n",
              "      <th></th>\n",
              "      <th>معنی1</th>\n",
              "      <th>معنی2</th>\n",
              "      <th>معنی3</th>\n",
              "    </tr>\n",
              "  </thead>\n",
              "  <tbody>\n",
              "    <tr>\n",
              "      <th>0</th>\n",
              "      <td>مجموعه‌داران ماشین اهل بریتانیا</td>\n",
              "      <td>کتاب گلستان یکی از نخستین کتاب‌های فارسی است ک...</td>\n",
              "      <td>اینشتین در آنجا مشغول بررسی درخواست‌های ثبت اخ...</td>\n",
              "    </tr>\n",
              "    <tr>\n",
              "      <th>1</th>\n",
              "      <td>در دوران ناصرالدین‌شاه قاجار محله‌هایی از جمله...</td>\n",
              "      <td></td>\n",
              "      <td></td>\n",
              "    </tr>\n",
              "    <tr>\n",
              "      <th>2</th>\n",
              "      <td>معادن بوکسیت بسیار غنی در این کشور، شناسایی شد...</td>\n",
              "      <td></td>\n",
              "      <td></td>\n",
              "    </tr>\n",
              "    <tr>\n",
              "      <th>3</th>\n",
              "      <td>مهمترین صادرات بلغارستان اسانس گل رز است، همچن...</td>\n",
              "      <td></td>\n",
              "      <td></td>\n",
              "    </tr>\n",
              "    <tr>\n",
              "      <th>4</th>\n",
              "      <td>مهندسی مکانیک آن شاخهُ مهندسی است که شامل طراح...</td>\n",
              "      <td></td>\n",
              "      <td></td>\n",
              "    </tr>\n",
              "    <tr>\n",
              "      <th>...</th>\n",
              "      <td>...</td>\n",
              "      <td>...</td>\n",
              "      <td>...</td>\n",
              "    </tr>\n",
              "    <tr>\n",
              "      <th>193</th>\n",
              "      <td>برای رسیدن به قونیه از آنکارا با ماشین می بایس...</td>\n",
              "      <td></td>\n",
              "      <td></td>\n",
              "    </tr>\n",
              "    <tr>\n",
              "      <th>194</th>\n",
              "      <td>دستگاه تراش ماشین ابزاری است، که برای تراشیدن ...</td>\n",
              "      <td></td>\n",
              "      <td></td>\n",
              "    </tr>\n",
              "    <tr>\n",
              "      <th>195</th>\n",
              "      <td>به دلیل تولید اقتصادی با دقت بالا و کیفیت دستگ...</td>\n",
              "      <td></td>\n",
              "      <td></td>\n",
              "    </tr>\n",
              "    <tr>\n",
              "      <th>196</th>\n",
              "      <td>== تاریخچه ماشین تراش ==</td>\n",
              "      <td></td>\n",
              "      <td></td>\n",
              "    </tr>\n",
              "    <tr>\n",
              "      <th>197</th>\n",
              "      <td>اولین ماشین تراش در سال ۱۷۴۰ در فرانسه ساخته ش...</td>\n",
              "      <td></td>\n",
              "      <td></td>\n",
              "    </tr>\n",
              "  </tbody>\n",
              "</table>\n",
              "<p>198 rows × 3 columns</p>\n",
              "</div>"
            ],
            "text/plain": [
              "                                                 معنی1  ...                                              معنی3\n",
              "0                      مجموعه‌داران ماشین اهل بریتانیا  ...  اینشتین در آنجا مشغول بررسی درخواست‌های ثبت اخ...\n",
              "1    در دوران ناصرالدین‌شاه قاجار محله‌هایی از جمله...  ...                                                   \n",
              "2    معادن بوکسیت بسیار غنی در این کشور، شناسایی شد...  ...                                                   \n",
              "3    مهمترین صادرات بلغارستان اسانس گل رز است، همچن...  ...                                                   \n",
              "4    مهندسی مکانیک آن شاخهُ مهندسی است که شامل طراح...  ...                                                   \n",
              "..                                                 ...  ...                                                ...\n",
              "193  برای رسیدن به قونیه از آنکارا با ماشین می بایس...  ...                                                   \n",
              "194  دستگاه تراش ماشین ابزاری است، که برای تراشیدن ...  ...                                                   \n",
              "195  به دلیل تولید اقتصادی با دقت بالا و کیفیت دستگ...  ...                                                   \n",
              "196                           == تاریخچه ماشین تراش ==  ...                                                   \n",
              "197  اولین ماشین تراش در سال ۱۷۴۰ در فرانسه ساخته ش...  ...                                                   \n",
              "\n",
              "[198 rows x 3 columns]"
            ]
          },
          "metadata": {
            "tags": []
          },
          "execution_count": 76
        }
      ]
    },
    {
      "cell_type": "code",
      "metadata": {
        "colab": {
          "base_uri": "https://localhost:8080/"
        },
        "id": "6GUHQ0ix7b9z",
        "outputId": "bc604a0a-f0d1-4ef7-fce8-c8e3181d321f"
      },
      "source": [
        "! ./ukb_wsd --ppr_w2w --allranks  -K fn3.bin -D DICT_TEST.txt mashin1.txt "
      ],
      "execution_count": null,
      "outputs": [
        {
          "output_type": "stream",
          "text": [
            "!! -v 2.2 ./ukb_wsd --ppr_w2w --allranks -K fn3.bin -D DICT_TEST.txt mashin1.txt\n",
            "ctx_00 w1  10885-n/0.749346 12820-n/0.232667 12821-n/0.017987 !! ماشین\n"
          ],
          "name": "stdout"
        }
      ]
    },
    {
      "cell_type": "code",
      "metadata": {
        "colab": {
          "base_uri": "https://localhost:8080/"
        },
        "id": "T33pplRr7cdt",
        "outputId": "f9f5cc6e-d2d2-4aae-c7fb-08218bebc3fb"
      },
      "source": [
        "! ./ukb_wsd --ppr_w2w --allranks  -K fn3.bin -D DICT_TEST.txt mashin2.txt "
      ],
      "execution_count": null,
      "outputs": [
        {
          "output_type": "stream",
          "text": [
            "!! -v 2.2 ./ukb_wsd --ppr_w2w --allranks -K fn3.bin -D DICT_TEST.txt mashin2.txt\n",
            "ctx_00 w6  10885-n/0.813395 12820-n/0.163578 12821-n/0.0230275 !! ماشین\n"
          ],
          "name": "stdout"
        }
      ]
    },
    {
      "cell_type": "code",
      "metadata": {
        "colab": {
          "base_uri": "https://localhost:8080/"
        },
        "id": "i-jAToeS7c6M",
        "outputId": "1afec672-653f-4945-b38e-962ae024f994"
      },
      "source": [
        "! ./ukb_wsd --ppr_w2w --allranks  -K fn3.bin -D DICT_TEST.txt mashin3.txt "
      ],
      "execution_count": null,
      "outputs": [
        {
          "output_type": "stream",
          "text": [
            "!! -v 2.2 ./ukb_wsd --ppr_w2w --allranks -K fn3.bin -D DICT_TEST.txt mashin3.txt\n",
            "ctx_00 w6  10885-n/0.930837 12820-n/0.0603188 12821-n/0.00884391 !! ماشین\n"
          ],
          "name": "stdout"
        }
      ]
    },
    {
      "cell_type": "markdown",
      "metadata": {
        "id": "JtUqWL-pEIty"
      },
      "source": [
        "# چشم"
      ]
    },
    {
      "cell_type": "code",
      "metadata": {
        "id": "2JOT5Wummrpe"
      },
      "source": [
        "#num8\n",
        "cheshm= []\n",
        "for i in wikitext:\n",
        "  if \" چشم \" in i:\n",
        "    if(len(i)<350):\n",
        "      i=i.replace(\"\\u200c\",\"\")\n",
        "      cheshm.append(i.rstrip(\"\\n\"))\n",
        "\n",
        "#cheshm=cheshm[:200]\n"
      ],
      "execution_count": null,
      "outputs": []
    },
    {
      "cell_type": "code",
      "metadata": {
        "id": "5unirSS0mv2d"
      },
      "source": [
        "cheshm2=[]\n",
        "c=0\n",
        "sum=0\n",
        "for i in cheshm:\n",
        "    sentence = Sentence(i)\n",
        "    stacked_embeddings.embed(sentence)\n",
        "    for token in sentence:\n",
        "        sum+=token.embedding\n",
        "        c+=1\n",
        "    sum=sum / c\n",
        "    cheshm2.append(np.array(sum))"
      ],
      "execution_count": null,
      "outputs": []
    },
    {
      "cell_type": "code",
      "metadata": {
        "id": "UM-L9isRpWom"
      },
      "source": [
        "cheshm2=np.array(cheshm2)"
      ],
      "execution_count": null,
      "outputs": []
    },
    {
      "cell_type": "code",
      "metadata": {
        "id": "tYRd1Odjodio",
        "colab": {
          "base_uri": "https://localhost:8080/",
          "height": 264
        },
        "outputId": "a7317397-3496-4386-cb94-bb1d57d1ec8c"
      },
      "source": [
        "kmeans = KMeans(n_clusters=3, random_state=0).fit(cheshm2)\n",
        "y_kmeans = kmeans.predict(cheshm2)\n",
        "labels=kmeans.labels_\n",
        "plt.scatter(cheshm2[:, 0], cheshm2[:, 1], c=y_kmeans, cmap='viridis')\n",
        "plt.show()"
      ],
      "execution_count": null,
      "outputs": [
        {
          "output_type": "display_data",
          "data": {
            "image/png": "[encoded data removed]",
            "text/plain": [
              "<Figure size 432x288 with 1 Axes>"
            ]
          },
          "metadata": {
            "tags": [],
            "needs_background": "light"
          }
        }
      ]
    },
    {
      "cell_type": "code",
      "metadata": {
        "id": "HyxwlLRxqRKe"
      },
      "source": [
        "df = pd.DataFrame(columns=[\"معنی1\",\"معنی2\",\"معنی3\"])\n",
        "for i in range(200):\n",
        "  if labels[i]==0:\n",
        "    df=df.append({\"معنی1\":cheshm[i]}, ignore_index=True)\n",
        "  elif labels[i]==1:\n",
        "    df=df.append({\"معنی2\":cheshm[i]}, ignore_index=True)\n",
        "  elif labels[i]==2:\n",
        "    df=df.append({\"معنی3\":cheshm[i]}, ignore_index=True)"
      ],
      "execution_count": null,
      "outputs": []
    },
    {
      "cell_type": "code",
      "metadata": {
        "id": "HNNMJgPZqluS"
      },
      "source": [
        "df = df.apply(lambda x: pd.Series(x.dropna().values))\n",
        "df = df.fillna('')"
      ],
      "execution_count": null,
      "outputs": []
    },
    {
      "cell_type": "code",
      "metadata": {
        "id": "CkbYJVGHqsbC",
        "colab": {
          "base_uri": "https://localhost:8080/",
          "height": 406
        },
        "outputId": "1644227d-7cca-4680-da09-eb58e58940ca"
      },
      "source": [
        "df"
      ],
      "execution_count": null,
      "outputs": [
        {
          "output_type": "execute_result",
          "data": {
            "text/html": [
              "<div>\n",
              "<style scoped>\n",
              "    .dataframe tbody tr th:only-of-type {\n",
              "        vertical-align: middle;\n",
              "    }\n",
              "\n",
              "    .dataframe tbody tr th {\n",
              "        vertical-align: top;\n",
              "    }\n",
              "\n",
              "    .dataframe thead th {\n",
              "        text-align: right;\n",
              "    }\n",
              "</style>\n",
              "<table border=\"1\" class=\"dataframe\">\n",
              "  <thead>\n",
              "    <tr style=\"text-align: right;\">\n",
              "      <th></th>\n",
              "      <th>معنی1</th>\n",
              "      <th>معنی2</th>\n",
              "      <th>معنی3</th>\n",
              "    </tr>\n",
              "  </thead>\n",
              "  <tbody>\n",
              "    <tr>\n",
              "      <th>0</th>\n",
              "      <td>جنگل‌های طبیعی: در نقاط مختلف استان این‌گونه ج...</td>\n",
              "      <td>با گسترش روزافزون علم و ساخت تلسکوپ‌های دقیق، ...</td>\n",
              "      <td>محمد دبیر سیاقی. رودکی… آن تیره چشم شاعر روشن ...</td>\n",
              "    </tr>\n",
              "    <tr>\n",
              "      <th>1</th>\n",
              "      <td>با فلوئور و HF باید با دقت زیادی رفتار شود و ا...</td>\n",
              "      <td></td>\n",
              "      <td>ابومعین ناصر بن خسرو بن حارث قبادیانی بلخی، مع...</td>\n",
              "    </tr>\n",
              "    <tr>\n",
              "      <th>2</th>\n",
              "      <td>در برخی موارد، آمفرا نیز در صحنه به چشم می‌خور...</td>\n",
              "      <td></td>\n",
              "      <td>مردم ماوراءالنهر چشم امید به اسحاق، عموی نصر، ...</td>\n",
              "    </tr>\n",
              "    <tr>\n",
              "      <th>3</th>\n",
              "      <td>پل پنج چشم بناب</td>\n",
              "      <td></td>\n",
              "      <td>بعداً و در هنگام لشکرکشی به آسیای میانه، توطئه...</td>\n",
              "    </tr>\n",
              "    <tr>\n",
              "      <th>4</th>\n",
              "      <td>اندازه‌گیرها در واقع چشم سیستم‌های کنترل محسوب...</td>\n",
              "      <td></td>\n",
              "      <td>خدمات این افراد استفاده نمایند ابتدا آلمانی‌ها...</td>\n",
              "    </tr>\n",
              "    <tr>\n",
              "      <th>...</th>\n",
              "      <td>...</td>\n",
              "      <td>...</td>\n",
              "      <td>...</td>\n",
              "    </tr>\n",
              "    <tr>\n",
              "      <th>184</th>\n",
              "      <td>سربازان یک چشم در فیلمی به کارگردانی خودش</td>\n",
              "      <td></td>\n",
              "      <td></td>\n",
              "    </tr>\n",
              "    <tr>\n",
              "      <th>185</th>\n",
              "      <td>بر خلاف خود برهان نظم، نقد آن به گذشته‌های دور...</td>\n",
              "      <td></td>\n",
              "      <td></td>\n",
              "    </tr>\n",
              "    <tr>\n",
              "      <th>186</th>\n",
              "      <td>منظور هیوم از «انطباعات» داده‌های مستقیم حس و ...</td>\n",
              "      <td></td>\n",
              "      <td></td>\n",
              "    </tr>\n",
              "    <tr>\n",
              "      <th>187</th>\n",
              "      <td>آرگوس صد چشم ، در اسطوره‌های یونان، از قهرمانا...</td>\n",
              "      <td></td>\n",
              "      <td></td>\n",
              "    </tr>\n",
              "    <tr>\n",
              "      <th>188</th>\n",
              "      <td>از فریدون چندین بار در اوستا یاد شده و به او ل...</td>\n",
              "      <td></td>\n",
              "      <td></td>\n",
              "    </tr>\n",
              "  </tbody>\n",
              "</table>\n",
              "<p>189 rows × 3 columns</p>\n",
              "</div>"
            ],
            "text/plain": [
              "                                                 معنی1  ...                                              معنی3\n",
              "0    جنگل‌های طبیعی: در نقاط مختلف استان این‌گونه ج...  ...  محمد دبیر سیاقی. رودکی… آن تیره چشم شاعر روشن ...\n",
              "1    با فلوئور و HF باید با دقت زیادی رفتار شود و ا...  ...  ابومعین ناصر بن خسرو بن حارث قبادیانی بلخی، مع...\n",
              "2    در برخی موارد، آمفرا نیز در صحنه به چشم می‌خور...  ...  مردم ماوراءالنهر چشم امید به اسحاق، عموی نصر، ...\n",
              "3                                      پل پنج چشم بناب  ...  بعداً و در هنگام لشکرکشی به آسیای میانه، توطئه...\n",
              "4    اندازه‌گیرها در واقع چشم سیستم‌های کنترل محسوب...  ...  خدمات این افراد استفاده نمایند ابتدا آلمانی‌ها...\n",
              "..                                                 ...  ...                                                ...\n",
              "184          سربازان یک چشم در فیلمی به کارگردانی خودش  ...                                                   \n",
              "185  بر خلاف خود برهان نظم، نقد آن به گذشته‌های دور...  ...                                                   \n",
              "186  منظور هیوم از «انطباعات» داده‌های مستقیم حس و ...  ...                                                   \n",
              "187  آرگوس صد چشم ، در اسطوره‌های یونان، از قهرمانا...  ...                                                   \n",
              "188  از فریدون چندین بار در اوستا یاد شده و به او ل...  ...                                                   \n",
              "\n",
              "[189 rows x 3 columns]"
            ]
          },
          "metadata": {
            "tags": []
          },
          "execution_count": 83
        }
      ]
    },
    {
      "cell_type": "code",
      "metadata": {
        "colab": {
          "base_uri": "https://localhost:8080/"
        },
        "id": "LtDydAcG6Oiz",
        "outputId": "9c635000-b034-4a99-8c33-977b517672a7"
      },
      "source": [
        "! ./ukb_wsd --ppr_w2w --allranks  -K fn3.bin -D DICT_TEST.txt cheshm1.txt "
      ],
      "execution_count": null,
      "outputs": [
        {
          "output_type": "stream",
          "text": [
            "!! -v 2.2 ./ukb_wsd --ppr_w2w --allranks -K fn3.bin -D DICT_TEST.txt cheshm1.txt\n",
            "ctx_00 w1  10314-n/0.958361 26671-n/0.0279234 14222-n/0.0137157 !! چشم\n"
          ],
          "name": "stdout"
        }
      ]
    },
    {
      "cell_type": "code",
      "metadata": {
        "colab": {
          "base_uri": "https://localhost:8080/"
        },
        "id": "6JKEnRIb6PIL",
        "outputId": "15129335-2b80-48f6-d072-20e7175e72ac"
      },
      "source": [
        "! ./ukb_wsd --ppr_w2w --allranks  -K fn3.bin -D DICT_TEST.txt cheshm2.txt "
      ],
      "execution_count": null,
      "outputs": [
        {
          "output_type": "stream",
          "text": [
            "!! -v 2.2 ./ukb_wsd --ppr_w2w --allranks -K fn3.bin -D DICT_TEST.txt cheshm2.txt\n",
            "ctx_00 w6  10314-n/0.94047 26671-n/0.0310398 14222-n/0.0284901 !! چشم\n"
          ],
          "name": "stdout"
        }
      ]
    },
    {
      "cell_type": "code",
      "metadata": {
        "colab": {
          "base_uri": "https://localhost:8080/"
        },
        "id": "rmvL61DC6Pk2",
        "outputId": "9cd692ae-c8f2-4f7b-f39e-b32c185e3f4f"
      },
      "source": [
        "! ./ukb_wsd --ppr_w2w --allranks  -K fn3.bin -D DICT_TEST.txt cheshm3.txt"
      ],
      "execution_count": null,
      "outputs": [
        {
          "output_type": "stream",
          "text": [
            "!! -v 2.2 ./ukb_wsd --ppr_w2w --allranks -K fn3.bin -D DICT_TEST.txt cheshm3.txt\n",
            "ctx_00 w1  10314-n/0.918373 26671-n/0.057165 14222-n/0.0244621 !! چشم\n"
          ],
          "name": "stdout"
        }
      ]
    },
    {
      "cell_type": "code",
      "metadata": {
        "id": "oMCgIgHIqzMC"
      },
      "source": [
        "#num9\n",
        "faza= []\n",
        "for i in wikitext:\n",
        "  if \" فضا \" in i:\n",
        "    if(len(i)<350):\n",
        "         i=i.replace(\"\\u200c\",\"\")\n",
        "         faza.append(i.rstrip(\"\\n\"))\n",
        "\n",
        "#faza=faza[:200]\n"
      ],
      "execution_count": null,
      "outputs": []
    },
    {
      "cell_type": "code",
      "metadata": {
        "id": "5W9sxKr7bETX"
      },
      "source": [
        "faza2=[]\n",
        "c=0\n",
        "sum=0\n",
        "for i in faza:\n",
        "    sentence = Sentence(i)\n",
        "    stacked_embeddings.embed(sentence)\n",
        "    for token in sentence:\n",
        "        sum+=token.embedding\n",
        "        c+=1\n",
        "    sum=sum / c\n",
        "    faza2.append(sum)\n"
      ],
      "execution_count": null,
      "outputs": []
    },
    {
      "cell_type": "code",
      "metadata": {
        "id": "xN7hWRTNr4tJ",
        "colab": {
          "base_uri": "https://localhost:8080/",
          "height": 238
        },
        "outputId": "24f4b9ae-dc13-4ce0-e85c-bd14c95dd956"
      },
      "source": [
        "faza2=np.array(faza2)\n",
        "kmeans = KMeans(n_clusters=7, random_state=0).fit(faza2)\n",
        "y_kmeans = kmeans.predict(faza2)\n",
        "labels=kmeans.labels_\n",
        "plt.scatter(faza2[:, 0], faza2[:, 1], c=y_kmeans, cmap='viridis')\n",
        "plt.show()"
      ],
      "execution_count": null,
      "outputs": [
        {
          "output_type": "error",
          "ename": "ValueError",
          "evalue": "ignored",
          "traceback": [
            "\u001b[0;31m---------------------------------------------------------------------------\u001b[0m",
            "\u001b[0;31mValueError\u001b[0m                                Traceback (most recent call last)",
            "\u001b[0;32m<ipython-input-90-e43df99a7c3a>\u001b[0m in \u001b[0;36m<module>\u001b[0;34m()\u001b[0m\n\u001b[0;32m----> 1\u001b[0;31m \u001b[0mfaza2\u001b[0m\u001b[0;34m=\u001b[0m\u001b[0mnp\u001b[0m\u001b[0;34m.\u001b[0m\u001b[0marray\u001b[0m\u001b[0;34m(\u001b[0m\u001b[0mfaza2\u001b[0m\u001b[0;34m)\u001b[0m\u001b[0;34m\u001b[0m\u001b[0;34m\u001b[0m\u001b[0m\n\u001b[0m\u001b[1;32m      2\u001b[0m \u001b[0mkmeans\u001b[0m \u001b[0;34m=\u001b[0m \u001b[0mKMeans\u001b[0m\u001b[0;34m(\u001b[0m\u001b[0mn_clusters\u001b[0m\u001b[0;34m=\u001b[0m\u001b[0;36m7\u001b[0m\u001b[0;34m,\u001b[0m \u001b[0mrandom_state\u001b[0m\u001b[0;34m=\u001b[0m\u001b[0;36m0\u001b[0m\u001b[0;34m)\u001b[0m\u001b[0;34m.\u001b[0m\u001b[0mfit\u001b[0m\u001b[0;34m(\u001b[0m\u001b[0mfaza2\u001b[0m\u001b[0;34m)\u001b[0m\u001b[0;34m\u001b[0m\u001b[0;34m\u001b[0m\u001b[0m\n\u001b[1;32m      3\u001b[0m \u001b[0my_kmeans\u001b[0m \u001b[0;34m=\u001b[0m \u001b[0mkmeans\u001b[0m\u001b[0;34m.\u001b[0m\u001b[0mpredict\u001b[0m\u001b[0;34m(\u001b[0m\u001b[0mfaza2\u001b[0m\u001b[0;34m)\u001b[0m\u001b[0;34m\u001b[0m\u001b[0;34m\u001b[0m\u001b[0m\n\u001b[1;32m      4\u001b[0m \u001b[0mlabels\u001b[0m\u001b[0;34m=\u001b[0m\u001b[0mkmeans\u001b[0m\u001b[0;34m.\u001b[0m\u001b[0mlabels_\u001b[0m\u001b[0;34m\u001b[0m\u001b[0;34m\u001b[0m\u001b[0m\n\u001b[1;32m      5\u001b[0m \u001b[0mplt\u001b[0m\u001b[0;34m.\u001b[0m\u001b[0mscatter\u001b[0m\u001b[0;34m(\u001b[0m\u001b[0mfaza2\u001b[0m\u001b[0;34m[\u001b[0m\u001b[0;34m:\u001b[0m\u001b[0;34m,\u001b[0m \u001b[0;36m0\u001b[0m\u001b[0;34m]\u001b[0m\u001b[0;34m,\u001b[0m \u001b[0mfaza2\u001b[0m\u001b[0;34m[\u001b[0m\u001b[0;34m:\u001b[0m\u001b[0;34m,\u001b[0m \u001b[0;36m1\u001b[0m\u001b[0;34m]\u001b[0m\u001b[0;34m,\u001b[0m \u001b[0mc\u001b[0m\u001b[0;34m=\u001b[0m\u001b[0my_kmeans\u001b[0m\u001b[0;34m,\u001b[0m \u001b[0mcmap\u001b[0m\u001b[0;34m=\u001b[0m\u001b[0;34m'viridis'\u001b[0m\u001b[0;34m)\u001b[0m\u001b[0;34m\u001b[0m\u001b[0;34m\u001b[0m\u001b[0m\n",
            "\u001b[0;31mValueError\u001b[0m: only one element tensors can be converted to Python scalars"
          ]
        }
      ]
    },
    {
      "cell_type": "code",
      "metadata": {
        "id": "oIBEGghDsTJX"
      },
      "source": [
        "df = pd.DataFrame(columns=[\"معنی1\",\"معنی2\",\"معنی3\",\"معنی4\",\"معنی5\",\"معنی6\",\"معنی7\"])\n",
        "for i in range(200):\n",
        "  if labels[i]==0:\n",
        "    df=df.append({\"معنی1\":faza[i]}, ignore_index=True)\n",
        "  elif labels[i]==1:\n",
        "    df=df.append({\"معنی2\":faza[i]}, ignore_index=True)\n",
        "  elif labels[i]==2:\n",
        "    df=df.append({\"معنی3\":faza[i]}, ignore_index=True)\n",
        "  elif labels[i]==3:\n",
        "    df=df.append({\"معنی4\":faza[i]}, ignore_index=True)\n",
        "  elif labels[i]==4:\n",
        "    df=df.append({\"معنی5\":faza[i]}, ignore_index=True)\n",
        "  elif labels[i]==5:\n",
        "    df=df.append({\"معنی6\":faza[i]}, ignore_index=True)\n",
        "  elif labels[i]==6:\n",
        "    df=df.append({\"معنی7\":faza[i]}, ignore_index=True)"
      ],
      "execution_count": null,
      "outputs": []
    },
    {
      "cell_type": "code",
      "metadata": {
        "id": "AXzjD31ds3HD",
        "colab": {
          "base_uri": "https://localhost:8080/",
          "height": 556
        },
        "outputId": "0ef25548-ff64-4ec5-9db6-ec0bceea259f"
      },
      "source": [
        "df = df.apply(lambda x: pd.Series(x.dropna().values))\n",
        "df = df.fillna('')\n",
        "df"
      ],
      "execution_count": null,
      "outputs": [
        {
          "output_type": "execute_result",
          "data": {
            "text/html": [
              "<div>\n",
              "<style scoped>\n",
              "    .dataframe tbody tr th:only-of-type {\n",
              "        vertical-align: middle;\n",
              "    }\n",
              "\n",
              "    .dataframe tbody tr th {\n",
              "        vertical-align: top;\n",
              "    }\n",
              "\n",
              "    .dataframe thead th {\n",
              "        text-align: right;\n",
              "    }\n",
              "</style>\n",
              "<table border=\"1\" class=\"dataframe\">\n",
              "  <thead>\n",
              "    <tr style=\"text-align: right;\">\n",
              "      <th></th>\n",
              "      <th>معنی1</th>\n",
              "      <th>معنی2</th>\n",
              "      <th>معنی3</th>\n",
              "      <th>معنی4</th>\n",
              "      <th>معنی5</th>\n",
              "      <th>معنی6</th>\n",
              "      <th>معنی7</th>\n",
              "    </tr>\n",
              "  </thead>\n",
              "  <tbody>\n",
              "    <tr>\n",
              "      <th>0</th>\n",
              "      <td>==== فضا ====</td>\n",
              "      <td>ریاضیات به مطالعهٔ مباحثی چون کمیت (نظریه اعدا...</td>\n",
              "      <td>برخی از نویسندگان، از جمله تالکین با هدف‌هایی ...</td>\n",
              "      <td>هنگامی که اولین اتم‌های تشکیل دهنده فضا شفاف ش...</td>\n",
              "      <td>قرار داشتن زمین در کهکشان راه‌شیری، به عنوان م...</td>\n",
              "      <td>=== فرایند ساخت عناصر در فضا ===</td>\n",
              "      <td>شیمی کیهانی: مطالعه مواد شیمیایی موجود در فضا ...</td>\n",
              "    </tr>\n",
              "    <tr>\n",
              "      <th>1</th>\n",
              "      <td>پیشرفت در تکنولوژی که حمل و نقل جمع زیادی را م...</td>\n",
              "      <td></td>\n",
              "      <td></td>\n",
              "      <td></td>\n",
              "      <td></td>\n",
              "      <td>== فلسفه فضا ==</td>\n",
              "      <td>بیشتر کارهای او در دفتر ثبت اختراعات مربوط به ...</td>\n",
              "    </tr>\n",
              "    <tr>\n",
              "      <th>2</th>\n",
              "      <td>آنری پوانکاره، یک ریاضیدان و فیزیکدان فرانسوی ...</td>\n",
              "      <td></td>\n",
              "      <td></td>\n",
              "      <td></td>\n",
              "      <td></td>\n",
              "      <td>در واژه‌نامه تخصصی معماری واژه فضا در حوزه معم...</td>\n",
              "      <td>تور مجازی عبارت است از ترکیبی از تصاویر، نماها...</td>\n",
              "    </tr>\n",
              "    <tr>\n",
              "      <th>3</th>\n",
              "      <td>تعریف فضا در فیزیک مورد اختلاف است. مفاهیم گون...</td>\n",
              "      <td></td>\n",
              "      <td></td>\n",
              "      <td></td>\n",
              "      <td></td>\n",
              "      <td>فضا قسمت‌های نسبتاً تهی کیهان است که بیرون از ...</td>\n",
              "      <td>در سده‌های ۱۹ام و ۲۰ام ریاضیدانان شروع به بررس...</td>\n",
              "    </tr>\n",
              "    <tr>\n",
              "      <th>4</th>\n",
              "      <td>در فیزیک کلاسیک، فضا، یک فضای اقلیدسی سه‌بعدی ...</td>\n",
              "      <td></td>\n",
              "      <td></td>\n",
              "      <td></td>\n",
              "      <td></td>\n",
              "      <td>در ریاضیات، فضا مجموعه‌ای است که معمولاً ساختا...</td>\n",
              "      <td></td>\n",
              "    </tr>\n",
              "    <tr>\n",
              "      <th>...</th>\n",
              "      <td>...</td>\n",
              "      <td>...</td>\n",
              "      <td>...</td>\n",
              "      <td>...</td>\n",
              "      <td>...</td>\n",
              "      <td>...</td>\n",
              "      <td>...</td>\n",
              "    </tr>\n",
              "    <tr>\n",
              "      <th>170</th>\n",
              "      <td></td>\n",
              "      <td></td>\n",
              "      <td></td>\n",
              "      <td></td>\n",
              "      <td></td>\n",
              "      <td>== سفر به فضا ==</td>\n",
              "      <td></td>\n",
              "    </tr>\n",
              "    <tr>\n",
              "      <th>171</th>\n",
              "      <td></td>\n",
              "      <td></td>\n",
              "      <td></td>\n",
              "      <td></td>\n",
              "      <td></td>\n",
              "      <td>انوشه، همیشه عاشق فضا و فضانوردی و در پی راه ی...</td>\n",
              "      <td></td>\n",
              "    </tr>\n",
              "    <tr>\n",
              "      <th>172</th>\n",
              "      <td></td>\n",
              "      <td></td>\n",
              "      <td></td>\n",
              "      <td></td>\n",
              "      <td></td>\n",
              "      <td>سازمان فضایی ایران، به عنوان متولی بخش فضا در ...</td>\n",
              "      <td></td>\n",
              "    </tr>\n",
              "    <tr>\n",
              "      <th>173</th>\n",
              "      <td></td>\n",
              "      <td></td>\n",
              "      <td></td>\n",
              "      <td></td>\n",
              "      <td></td>\n",
              "      <td>== فعالیت‌های انوشه انصاری پس از سفر به فضا ==</td>\n",
              "      <td></td>\n",
              "    </tr>\n",
              "    <tr>\n",
              "      <th>174</th>\n",
              "      <td></td>\n",
              "      <td></td>\n",
              "      <td></td>\n",
              "      <td></td>\n",
              "      <td></td>\n",
              "      <td>انوشه انصاری پس از بازگشت از فضا تصمیم گرفت در...</td>\n",
              "      <td></td>\n",
              "    </tr>\n",
              "  </tbody>\n",
              "</table>\n",
              "<p>175 rows × 7 columns</p>\n",
              "</div>"
            ],
            "text/plain": [
              "                                                 معنی1  ...                                              معنی7\n",
              "0                                        ==== فضا ====  ...  شیمی کیهانی: مطالعه مواد شیمیایی موجود در فضا ...\n",
              "1    پیشرفت در تکنولوژی که حمل و نقل جمع زیادی را م...  ...  بیشتر کارهای او در دفتر ثبت اختراعات مربوط به ...\n",
              "2    آنری پوانکاره، یک ریاضیدان و فیزیکدان فرانسوی ...  ...  تور مجازی عبارت است از ترکیبی از تصاویر، نماها...\n",
              "3    تعریف فضا در فیزیک مورد اختلاف است. مفاهیم گون...  ...  در سده‌های ۱۹ام و ۲۰ام ریاضیدانان شروع به بررس...\n",
              "4    در فیزیک کلاسیک، فضا، یک فضای اقلیدسی سه‌بعدی ...  ...                                                   \n",
              "..                                                 ...  ...                                                ...\n",
              "170                                                     ...                                                   \n",
              "171                                                     ...                                                   \n",
              "172                                                     ...                                                   \n",
              "173                                                     ...                                                   \n",
              "174                                                     ...                                                   \n",
              "\n",
              "[175 rows x 7 columns]"
            ]
          },
          "metadata": {
            "tags": []
          },
          "execution_count": 89
        }
      ]
    },
    {
      "cell_type": "code",
      "metadata": {
        "id": "ERw8UTfqbZIK"
      },
      "source": [
        "list1 = df['معنی7'].to_list()\n",
        "new=[]\n",
        "for s in range(len(list1)):\n",
        "  #sents = parsivar_tokenizer.tokenize_words(s)\n",
        "  text_tags = my_tagger.parse(my_tokenizer.tokenize_words(list1[s]))\n",
        "  for i in text_tags:\n",
        "    if i[0] not in stop_w_list:\n",
        "      new.append(i)\n",
        "\n",
        "\n",
        "from collections import Counter \n",
        "most_common_words= [word for word, word_count in Counter(new).most_common(7)]\n",
        "print(most_common_words)"
      ],
      "execution_count": null,
      "outputs": []
    },
    {
      "cell_type": "code",
      "metadata": {
        "colab": {
          "base_uri": "https://localhost:8080/"
        },
        "id": "oigQfbGU4OGf",
        "outputId": "f59248ed-a633-48e8-a97f-c9aea001bbb3"
      },
      "source": [
        "! ./ukb_wsd --ppr_w2w --allranks  -K fn3.bin -D DICT_TEST.txt faza1.txt "
      ],
      "execution_count": null,
      "outputs": [
        {
          "output_type": "stream",
          "text": [
            "!! -v 2.2 ./ukb_wsd --ppr_w2w --allranks -K fn3.bin -D DICT_TEST.txt faza1.txt\n",
            "ctx_00 w1  15058-n/0.263588 14953-n/0.246476 13285-n/0.215786 11104-n/0.149322 27670-n/0.0544723 10220-n/0.037575 27629-n/0.0327807 !! فضا\n"
          ],
          "name": "stdout"
        }
      ]
    },
    {
      "cell_type": "code",
      "metadata": {
        "colab": {
          "base_uri": "https://localhost:8080/"
        },
        "id": "tZKd5Xfh4Oud",
        "outputId": "a42556a2-e8fb-4086-b672-d12368d10433"
      },
      "source": [
        "! ./ukb_wsd --ppr_w2w --allranks  -K fn3.bin -D DICT_TEST.txt faza2.txt "
      ],
      "execution_count": null,
      "outputs": [
        {
          "output_type": "stream",
          "text": [
            "!! -v 2.2 ./ukb_wsd --ppr_w2w --allranks -K fn3.bin -D DICT_TEST.txt faza2.txt\n",
            "ctx_00 w6  14953-n/0.420429 13285-n/0.182166 15058-n/0.13498 27629-n/0.0804456 11104-n/0.0752897 27670-n/0.0681119 10220-n/0.0385773 !! فضا\n"
          ],
          "name": "stdout"
        }
      ]
    },
    {
      "cell_type": "code",
      "metadata": {
        "colab": {
          "base_uri": "https://localhost:8080/"
        },
        "id": "OiRjOc2z4RCW",
        "outputId": "6ccd5c54-f3df-42e7-d3f7-6819f510f6ea"
      },
      "source": [
        "! ./ukb_wsd --ppr_w2w --allranks  -K fn3.bin -D DICT_TEST.txt faza3.txt "
      ],
      "execution_count": null,
      "outputs": [
        {
          "output_type": "stream",
          "text": [
            "!! -v 2.2 ./ukb_wsd --ppr_w2w --allranks -K fn3.bin -D DICT_TEST.txt faza3.txt\n",
            "ctx_00 w6  11104-n/0.412693 13285-n/0.181954 15058-n/0.140385 14953-n/0.115349 27670-n/0.097146 27629-n/0.0307905 10220-n/0.0216831 !! فضا\n"
          ],
          "name": "stdout"
        }
      ]
    },
    {
      "cell_type": "code",
      "metadata": {
        "colab": {
          "base_uri": "https://localhost:8080/"
        },
        "id": "ghRg5_A74P9J",
        "outputId": "47f4d0cf-112c-4b06-a373-8780e6b31ea6"
      },
      "source": [
        "! ./ukb_wsd --ppr_w2w --allranks  -K fn3.bin -D DICT_TEST.txt faza4.txt "
      ],
      "execution_count": null,
      "outputs": [
        {
          "output_type": "stream",
          "text": [
            "!! -v 2.2 ./ukb_wsd --ppr_w2w --allranks -K fn3.bin -D DICT_TEST.txt faza4.txt\n",
            "ctx_00 w5  11104-n/0.358351 14953-n/0.210992 13285-n/0.205508 15058-n/0.110983 27670-n/0.0430619 27629-n/0.0421247 10220-n/0.0289795 !! فضا\n"
          ],
          "name": "stdout"
        }
      ]
    },
    {
      "cell_type": "code",
      "metadata": {
        "colab": {
          "base_uri": "https://localhost:8080/"
        },
        "id": "XrXXmhCo4PU3",
        "outputId": "c52cf905-7e38-4662-be40-28b5e10608ca"
      },
      "source": [
        "! ./ukb_wsd --ppr_w2w --allranks  -K fn3.bin -D DICT_TEST.txt faza5.txt "
      ],
      "execution_count": null,
      "outputs": [
        {
          "output_type": "stream",
          "text": [
            "!! -v 2.2 ./ukb_wsd --ppr_w2w --allranks -K fn3.bin -D DICT_TEST.txt faza5.txt\n",
            "ctx_00 w6  14953-n/0.442528 15058-n/0.308644 11104-n/0.0711136 13285-n/0.0674397 27629-n/0.0578203 27670-n/0.031538 10220-n/0.0209172 !! فضا\n"
          ],
          "name": "stdout"
        }
      ]
    },
    {
      "cell_type": "code",
      "metadata": {
        "colab": {
          "base_uri": "https://localhost:8080/"
        },
        "id": "A1C1mHPHao5V",
        "outputId": "76cffa90-8875-464b-c353-25ebed3e9c4c"
      },
      "source": [
        "! ./ukb_wsd --ppr_w2w --allranks  -K fn3.bin -D DICT_TEST.txt faza6.txt "
      ],
      "execution_count": null,
      "outputs": [
        {
          "output_type": "stream",
          "text": [
            "!! -v 2.2 ./ukb_wsd --ppr_w2w --allranks -K fn3.bin -D DICT_TEST.txt faza6.txt\n",
            "ctx_00 w1  14953-n/0.492202 15058-n/0.456323 27670-n/0.0422252 13285-n/0.00371319 27629-n/0.00306098 11104-n/0.00174104 10220-n/0.000734153 !! فضا\n"
          ],
          "name": "stdout"
        }
      ]
    },
    {
      "cell_type": "code",
      "metadata": {
        "colab": {
          "base_uri": "https://localhost:8080/"
        },
        "id": "cxGyy6m1cN-_",
        "outputId": "033d32fd-e59b-4928-9244-fa18aa81c10a"
      },
      "source": [
        "! ./ukb_wsd --ppr_w2w --allranks  -K fn3.bin -D DICT_TEST.txt faza7.txt "
      ],
      "execution_count": null,
      "outputs": [
        {
          "output_type": "stream",
          "text": [
            "!! -v 2.2 ./ukb_wsd --ppr_w2w --allranks -K fn3.bin -D DICT_TEST.txt faza7.txt\n",
            "ctx_00 w1  13285-n/0.307631 11104-n/0.271224 14953-n/0.180401 15058-n/0.115243 27670-n/0.08371 10220-n/0.0255268 27629-n/0.0162654 !! فضا\n"
          ],
          "name": "stdout"
        }
      ]
    },
    {
      "cell_type": "markdown",
      "metadata": {
        "id": "Kg784gJOu2z5"
      },
      "source": [
        "# موسسه"
      ]
    },
    {
      "cell_type": "code",
      "metadata": {
        "id": "2cJQIZiduui3"
      },
      "source": [
        "#num10\n",
        "moassese= []\n",
        "for i in wikitext:\n",
        "  if \" موسسه \" in i:\n",
        "    if(len(i)<350):\n",
        "      i=i.replace(\"\\u200c\",\"\")\n",
        "      moassese.append(i.rstrip(\"\\n\"))\n",
        "\n",
        "#moassese=moassese[:200]"
      ],
      "execution_count": null,
      "outputs": []
    },
    {
      "cell_type": "code",
      "metadata": {
        "id": "N8MQ79aavCDY"
      },
      "source": [
        "moassese2=[]\n",
        "c=0\n",
        "sum=0\n",
        "for i in moassese:\n",
        "    sentence = Sentence(i)\n",
        "    stacked_embeddings.embed(sentence)\n",
        "    for token in sentence:\n",
        "        sum+=token.embedding\n",
        "        c+=1\n",
        "    sum=sum / c\n",
        "    moassese2.append(np.array(sum))"
      ],
      "execution_count": null,
      "outputs": []
    },
    {
      "cell_type": "code",
      "metadata": {
        "id": "XXgfP0DwvU_L",
        "colab": {
          "base_uri": "https://localhost:8080/",
          "height": 264
        },
        "outputId": "58b6148e-22ba-476c-91d7-fd6a031d1cd5"
      },
      "source": [
        "moassese2=np.array(moassese2)\n",
        "kmeans = KMeans(n_clusters=3, random_state=0).fit(moassese2)\n",
        "y_kmeans = kmeans.predict(moassese2)\n",
        "labels=kmeans.labels_\n",
        "plt.scatter(moassese2[:, 0], moassese2[:, 1], c=y_kmeans, cmap='viridis')\n",
        "plt.show()"
      ],
      "execution_count": null,
      "outputs": [
        {
          "output_type": "display_data",
          "data": {
            "image/png": "[encoded data removed]",
            "text/plain": [
              "<Figure size 432x288 with 1 Axes>"
            ]
          },
          "metadata": {
            "tags": [],
            "needs_background": "light"
          }
        }
      ]
    },
    {
      "cell_type": "code",
      "metadata": {
        "id": "FVPTJ323vjFW",
        "colab": {
          "base_uri": "https://localhost:8080/",
          "height": 406
        },
        "outputId": "ebc3482c-1a80-4078-a92a-a236b676dd9e"
      },
      "source": [
        "df = pd.DataFrame(columns=[\"معنی1\",\"معنی2\",\"معنی3\"])\n",
        "for i in range(200):\n",
        "  if labels[i]==0:\n",
        "    df=df.append({\"معنی1\":moassese[i]}, ignore_index=True)\n",
        "  elif labels[i]==1:\n",
        "    df=df.append({\"معنی2\":moassese[i]}, ignore_index=True)\n",
        "  elif labels[i]==2:\n",
        "    df=df.append({\"معنی3\":moassese[i]}, ignore_index=True)\n",
        "\n",
        "df = df.apply(lambda x: pd.Series(x.dropna().values))\n",
        "df = df.fillna('')\n",
        "df\n"
      ],
      "execution_count": null,
      "outputs": [
        {
          "output_type": "execute_result",
          "data": {
            "text/html": [
              "<div>\n",
              "<style scoped>\n",
              "    .dataframe tbody tr th:only-of-type {\n",
              "        vertical-align: middle;\n",
              "    }\n",
              "\n",
              "    .dataframe tbody tr th {\n",
              "        vertical-align: top;\n",
              "    }\n",
              "\n",
              "    .dataframe thead th {\n",
              "        text-align: right;\n",
              "    }\n",
              "</style>\n",
              "<table border=\"1\" class=\"dataframe\">\n",
              "  <thead>\n",
              "    <tr style=\"text-align: right;\">\n",
              "      <th></th>\n",
              "      <th>معنی1</th>\n",
              "      <th>معنی2</th>\n",
              "      <th>معنی3</th>\n",
              "    </tr>\n",
              "  </thead>\n",
              "  <tbody>\n",
              "    <tr>\n",
              "      <th>0</th>\n",
              "      <td>در پی اعتراضات سال‌های ۲۰۱۹ و ۲۰۲۰ در عراق، مع...</td>\n",
              "      <td>نشریه موسسه پژوهشگران جوان نانو</td>\n",
              "      <td>----بهترین دانشگاه‌های ترکیه در سال 2020 بر اس...</td>\n",
              "    </tr>\n",
              "    <tr>\n",
              "      <th>1</th>\n",
              "      <td>انستیتوی بین المللی فناوری اطلاعات (IIITH) یک ...</td>\n",
              "      <td></td>\n",
              "      <td>فرهنگستان پادشاهی علوم سوئد، اهداء جایزه نوبل ...</td>\n",
              "    </tr>\n",
              "    <tr>\n",
              "      <th>2</th>\n",
              "      <td>مورگان شوستر موسسه مطالعات و پژوهشهای سیاسی</td>\n",
              "      <td></td>\n",
              "      <td></td>\n",
              "    </tr>\n",
              "    <tr>\n",
              "      <th>3</th>\n",
              "      <td>پیش از این وی معاون فرهنگی وزارت ارشاد و نیز م...</td>\n",
              "      <td></td>\n",
              "      <td></td>\n",
              "    </tr>\n",
              "    <tr>\n",
              "      <th>4</th>\n",
              "      <td>عضو هیئت امنای دانشگاههای علم و صنعت، صنعتی اص...</td>\n",
              "      <td></td>\n",
              "      <td></td>\n",
              "    </tr>\n",
              "    <tr>\n",
              "      <th>...</th>\n",
              "      <td>...</td>\n",
              "      <td>...</td>\n",
              "      <td>...</td>\n",
              "    </tr>\n",
              "    <tr>\n",
              "      <th>192</th>\n",
              "      <td>خانم سوئیسی، وی سی دی فیلم تیتراژ و شرح پشت جل...</td>\n",
              "      <td></td>\n",
              "      <td></td>\n",
              "    </tr>\n",
              "    <tr>\n",
              "      <th>193</th>\n",
              "      <td>ما را ببخشید، وی سی دی فیلم تیتراژ و شرح پشت ج...</td>\n",
              "      <td></td>\n",
              "      <td></td>\n",
              "    </tr>\n",
              "    <tr>\n",
              "      <th>194</th>\n",
              "      <td>==گمانه ها درباره شیوع کرونا از موسسه دولتی وی...</td>\n",
              "      <td></td>\n",
              "      <td></td>\n",
              "    </tr>\n",
              "    <tr>\n",
              "      <th>195</th>\n",
              "      <td>بانک جهانی یک موسسه مالی بین‌المللی است که به ...</td>\n",
              "      <td></td>\n",
              "      <td></td>\n",
              "    </tr>\n",
              "    <tr>\n",
              "      <th>196</th>\n",
              "      <td>موزه ملی هنر آفریقا  یکی از مراکز فرهنگی ایالا...</td>\n",
              "      <td></td>\n",
              "      <td></td>\n",
              "    </tr>\n",
              "  </tbody>\n",
              "</table>\n",
              "<p>197 rows × 3 columns</p>\n",
              "</div>"
            ],
            "text/plain": [
              "                                                 معنی1  ...                                              معنی3\n",
              "0    در پی اعتراضات سال‌های ۲۰۱۹ و ۲۰۲۰ در عراق، مع...  ...  ----بهترین دانشگاه‌های ترکیه در سال 2020 بر اس...\n",
              "1    انستیتوی بین المللی فناوری اطلاعات (IIITH) یک ...  ...  فرهنگستان پادشاهی علوم سوئد، اهداء جایزه نوبل ...\n",
              "2          مورگان شوستر موسسه مطالعات و پژوهشهای سیاسی  ...                                                   \n",
              "3    پیش از این وی معاون فرهنگی وزارت ارشاد و نیز م...  ...                                                   \n",
              "4    عضو هیئت امنای دانشگاههای علم و صنعت، صنعتی اص...  ...                                                   \n",
              "..                                                 ...  ...                                                ...\n",
              "192  خانم سوئیسی، وی سی دی فیلم تیتراژ و شرح پشت جل...  ...                                                   \n",
              "193  ما را ببخشید، وی سی دی فیلم تیتراژ و شرح پشت ج...  ...                                                   \n",
              "194  ==گمانه ها درباره شیوع کرونا از موسسه دولتی وی...  ...                                                   \n",
              "195  بانک جهانی یک موسسه مالی بین‌المللی است که به ...  ...                                                   \n",
              "196  موزه ملی هنر آفریقا  یکی از مراکز فرهنگی ایالا...  ...                                                   \n",
              "\n",
              "[197 rows x 3 columns]"
            ]
          },
          "metadata": {
            "tags": []
          },
          "execution_count": 93
        }
      ]
    },
    {
      "cell_type": "code",
      "metadata": {
        "colab": {
          "base_uri": "https://localhost:8080/"
        },
        "id": "reouvqkXAcJ5",
        "outputId": "72a78c91-8229-4eed-da88-97fd505b039b"
      },
      "source": [
        "! ./ukb_wsd --ppr_w2w --allranks  -K fn3.bin -D DICT_TEST.txt moasese1.txt "
      ],
      "execution_count": null,
      "outputs": [
        {
          "output_type": "stream",
          "text": [
            "!! -v 2.2 ./ukb_wsd --ppr_w2w --allranks -K fn3.bin -D DICT_TEST.txt moasese1.txt\n",
            "ctx_00 w1  12975-n/0 !! موسسه\n"
          ],
          "name": "stdout"
        }
      ]
    },
    {
      "cell_type": "code",
      "metadata": {
        "colab": {
          "base_uri": "https://localhost:8080/"
        },
        "id": "khu70n_RAcut",
        "outputId": "0f190be7-fe61-413e-e06c-46b1f0058bf6"
      },
      "source": [
        "! ./ukb_wsd --ppr_w2w --allranks  -K fn3.bin -D DICT_TEST.txt moasese2.txt "
      ],
      "execution_count": null,
      "outputs": [
        {
          "output_type": "stream",
          "text": [
            "!! -v 2.2 ./ukb_wsd --ppr_w2w --allranks -K fn3.bin -D DICT_TEST.txt moasese2.txt\n",
            "ctx_00 w2  12975-n/0 !! موسسه\n"
          ],
          "name": "stdout"
        }
      ]
    },
    {
      "cell_type": "code",
      "metadata": {
        "colab": {
          "base_uri": "https://localhost:8080/"
        },
        "id": "rqpTiYvOAdQy",
        "outputId": "865dc145-e11b-4a5c-b4df-0e621fab6c8b"
      },
      "source": [
        "! ./ukb_wsd --ppr_w2w --allranks  -K fn3.bin -D DICT_TEST.txt moasese3.txt "
      ],
      "execution_count": null,
      "outputs": [
        {
          "output_type": "stream",
          "text": [
            "!! -v 2.2 ./ukb_wsd --ppr_w2w --allranks -K fn3.bin -D DICT_TEST.txt moasese3.txt\n",
            "ctx_00 w4  12975-n/0 !! موسسه\n"
          ],
          "name": "stdout"
        }
      ]
    },
    {
      "cell_type": "markdown",
      "metadata": {
        "id": "OhSByQHpwUxF"
      },
      "source": [
        "# نمایشگاه"
      ]
    },
    {
      "cell_type": "code",
      "metadata": {
        "id": "3_mVDlmpwLgo"
      },
      "source": [
        "#num11\n",
        "namayeshgah= []\n",
        "for i in wikitext:\n",
        "  if \" نمایشگاه \" in i:\n",
        "    if(len(i)<350):\n",
        "         i=i.replace(\"\\u200c\",\"\")\n",
        "         namayeshgah.append(i.rstrip(\"\\n\"))\n",
        "\n",
        "#namayeshgah=namayeshgah[:200]"
      ],
      "execution_count": null,
      "outputs": []
    },
    {
      "cell_type": "code",
      "metadata": {
        "id": "2apQX0Iswdep"
      },
      "source": [
        "namayeshgah2=[]\n",
        "c=0\n",
        "sum=0\n",
        "for i in namayeshgah:\n",
        "    sentence = Sentence(i)\n",
        "    stacked_embeddings.embed(sentence)\n",
        "    for token in sentence:\n",
        "        sum+=token.embedding\n",
        "        c+=1\n",
        "    sum=sum / c\n",
        "    namayeshgah2.append(np.array(sum))"
      ],
      "execution_count": null,
      "outputs": []
    },
    {
      "cell_type": "code",
      "metadata": {
        "id": "tmD_KIzTwucV",
        "colab": {
          "base_uri": "https://localhost:8080/",
          "height": 264
        },
        "outputId": "9ec2412f-a31c-42db-858a-9ccd00697edb"
      },
      "source": [
        "namayeshgah2=np.array(namayeshgah2)\n",
        "kmeans = KMeans(n_clusters=3, random_state=0).fit(namayeshgah2)\n",
        "y_kmeans = kmeans.predict(namayeshgah2)\n",
        "labels=kmeans.labels_\n",
        "plt.scatter(namayeshgah2[:, 0], namayeshgah2[:, 1], c=y_kmeans, cmap='viridis')\n",
        "plt.show()"
      ],
      "execution_count": null,
      "outputs": [
        {
          "output_type": "display_data",
          "data": {
            "image/png": "[encoded data removed]",
            "text/plain": [
              "<Figure size 432x288 with 1 Axes>"
            ]
          },
          "metadata": {
            "tags": [],
            "needs_background": "light"
          }
        }
      ]
    },
    {
      "cell_type": "code",
      "metadata": {
        "id": "u__RiKNJw78p",
        "colab": {
          "base_uri": "https://localhost:8080/",
          "height": 406
        },
        "outputId": "47bd2731-8ac2-4157-fb3c-7a690bc5b1cb"
      },
      "source": [
        "df = pd.DataFrame(columns=[\"معنی1\",\"معنی2\",\"معنی3\"])\n",
        "for i in range(200):\n",
        "  if labels[i]==0:\n",
        "    df=df.append({\"معنی1\":namayeshgah[i]}, ignore_index=True)\n",
        "  elif labels[i]==1:\n",
        "    df=df.append({\"معنی2\":namayeshgah[i]}, ignore_index=True)\n",
        "  elif labels[i]==2:\n",
        "    df=df.append({\"معنی3\":namayeshgah[i]}, ignore_index=True)\n",
        "    \n",
        "df = df.apply(lambda x: pd.Series(x.dropna().values))\n",
        "df = df.fillna('')\n",
        "df"
      ],
      "execution_count": null,
      "outputs": [
        {
          "output_type": "execute_result",
          "data": {
            "text/html": [
              "<div>\n",
              "<style scoped>\n",
              "    .dataframe tbody tr th:only-of-type {\n",
              "        vertical-align: middle;\n",
              "    }\n",
              "\n",
              "    .dataframe tbody tr th {\n",
              "        vertical-align: top;\n",
              "    }\n",
              "\n",
              "    .dataframe thead th {\n",
              "        text-align: right;\n",
              "    }\n",
              "</style>\n",
              "<table border=\"1\" class=\"dataframe\">\n",
              "  <thead>\n",
              "    <tr style=\"text-align: right;\">\n",
              "      <th></th>\n",
              "      <th>معنی1</th>\n",
              "      <th>معنی2</th>\n",
              "      <th>معنی3</th>\n",
              "    </tr>\n",
              "  </thead>\n",
              "  <tbody>\n",
              "    <tr>\n",
              "      <th>0</th>\n",
              "      <td>اولین نمایشگاه هنری بین‌المللی تهران (دی ۱۳۵۳)؛</td>\n",
              "      <td>سفر به آمریکا و اقامت در لانگ آیلند (۱۳۴۹ و شر...</td>\n",
              "      <td>از جمله نمایشگاه‌های نقاشی که سهراب سپهری در آ...</td>\n",
              "    </tr>\n",
              "    <tr>\n",
              "      <th>1</th>\n",
              "      <td>دریاچه شورابیل(دریاچه شورابیل در حریم شهری ارد...</td>\n",
              "      <td></td>\n",
              "      <td>محمدرضا شجریان مبدع چند ساز جدید در موسیقی ایر...</td>\n",
              "    </tr>\n",
              "    <tr>\n",
              "      <th>2</th>\n",
              "      <td>نمایشگاه بین‌المللی کاسپین زنجان از مکان‌های د...</td>\n",
              "      <td></td>\n",
              "      <td>دریاچه شورابیل در حریم شهری اردبیل قرار دارد و...</td>\n",
              "    </tr>\n",
              "    <tr>\n",
              "      <th>3</th>\n",
              "      <td>=== نمایشگاه بین‌المللی ===</td>\n",
              "      <td></td>\n",
              "      <td></td>\n",
              "    </tr>\n",
              "    <tr>\n",
              "      <th>4</th>\n",
              "      <td>هر سال نمایشگاه‌های تخصصی خوشنویسی در این شهر ...</td>\n",
              "      <td></td>\n",
              "      <td></td>\n",
              "    </tr>\n",
              "    <tr>\n",
              "      <th>...</th>\n",
              "      <td>...</td>\n",
              "      <td>...</td>\n",
              "      <td>...</td>\n",
              "    </tr>\n",
              "    <tr>\n",
              "      <th>191</th>\n",
              "      <td>کسب رتبه برتر در ششمین نمایشگاه دستاوردهای پژو...</td>\n",
              "      <td></td>\n",
              "      <td></td>\n",
              "    </tr>\n",
              "    <tr>\n",
              "      <th>192</th>\n",
              "      <td>رتبه اول تألیف کتاب دانشگاهی در هجدهمین نمایشگ...</td>\n",
              "      <td></td>\n",
              "      <td></td>\n",
              "    </tr>\n",
              "    <tr>\n",
              "      <th>193</th>\n",
              "      <td>اثر برگزیده بیستمین نمایشگاه بین‌المللی قرآن ک...</td>\n",
              "      <td></td>\n",
              "      <td></td>\n",
              "    </tr>\n",
              "    <tr>\n",
              "      <th>194</th>\n",
              "      <td>رتبه برتر نشریات قرآنی در شانزدهمین نمایشگاه ب...</td>\n",
              "      <td></td>\n",
              "      <td></td>\n",
              "    </tr>\n",
              "    <tr>\n",
              "      <th>195</th>\n",
              "      <td>کسب عنوان شایسته تقدیر نشریه سدره المنتهی در ۲...</td>\n",
              "      <td></td>\n",
              "      <td></td>\n",
              "    </tr>\n",
              "  </tbody>\n",
              "</table>\n",
              "<p>196 rows × 3 columns</p>\n",
              "</div>"
            ],
            "text/plain": [
              "                                                 معنی1  ...                                              معنی3\n",
              "0      اولین نمایشگاه هنری بین‌المللی تهران (دی ۱۳۵۳)؛  ...  از جمله نمایشگاه‌های نقاشی که سهراب سپهری در آ...\n",
              "1    دریاچه شورابیل(دریاچه شورابیل در حریم شهری ارد...  ...  محمدرضا شجریان مبدع چند ساز جدید در موسیقی ایر...\n",
              "2    نمایشگاه بین‌المللی کاسپین زنجان از مکان‌های د...  ...  دریاچه شورابیل در حریم شهری اردبیل قرار دارد و...\n",
              "3                          === نمایشگاه بین‌المللی ===  ...                                                   \n",
              "4    هر سال نمایشگاه‌های تخصصی خوشنویسی در این شهر ...  ...                                                   \n",
              "..                                                 ...  ...                                                ...\n",
              "191  کسب رتبه برتر در ششمین نمایشگاه دستاوردهای پژو...  ...                                                   \n",
              "192  رتبه اول تألیف کتاب دانشگاهی در هجدهمین نمایشگ...  ...                                                   \n",
              "193  اثر برگزیده بیستمین نمایشگاه بین‌المللی قرآن ک...  ...                                                   \n",
              "194  رتبه برتر نشریات قرآنی در شانزدهمین نمایشگاه ب...  ...                                                   \n",
              "195  کسب عنوان شایسته تقدیر نشریه سدره المنتهی در ۲...  ...                                                   \n",
              "\n",
              "[196 rows x 3 columns]"
            ]
          },
          "metadata": {
            "tags": []
          },
          "execution_count": 97
        }
      ]
    },
    {
      "cell_type": "code",
      "metadata": {
        "colab": {
          "base_uri": "https://localhost:8080/"
        },
        "id": "YBLo65jwzkHO",
        "outputId": "2d2a776e-4c74-42dd-c77e-bc142756c27e"
      },
      "source": [
        "! ./ukb_wsd --ppr_w2w --allranks  -K fn3.bin -D DICT_TEST.txt namayeshga1.txt "
      ],
      "execution_count": null,
      "outputs": [
        {
          "output_type": "stream",
          "text": [
            "!! -v 2.2 ./ukb_wsd --ppr_w2w --allranks -K fn3.bin -D DICT_TEST.txt namayeshga1.txt\n",
            "ctx_00 w1  10391-n/0.629201 14048-n/0.240474 11805-n/0.130325 !! نمایشگاه\n"
          ],
          "name": "stdout"
        }
      ]
    },
    {
      "cell_type": "code",
      "metadata": {
        "colab": {
          "base_uri": "https://localhost:8080/"
        },
        "id": "FpVehjYNzk9s",
        "outputId": "6fbbbd05-334d-46ce-f206-664aaa26638e"
      },
      "source": [
        "! ./ukb_wsd --ppr_w2w --allranks  -K fn3.bin -D DICT_TEST.txt namayeshga2.txt "
      ],
      "execution_count": null,
      "outputs": [
        {
          "output_type": "stream",
          "text": [
            "!! -v 2.2 ./ukb_wsd --ppr_w2w --allranks -K fn3.bin -D DICT_TEST.txt namayeshga2.txt\n",
            "ctx_00 w6  10391-n/0.431753 14048-n/0.366215 11805-n/0.202031 !! نمایشگاه\n"
          ],
          "name": "stdout"
        }
      ]
    },
    {
      "cell_type": "code",
      "metadata": {
        "colab": {
          "base_uri": "https://localhost:8080/"
        },
        "id": "zfqVnw5dzlZm",
        "outputId": "3e86593a-64e6-4f44-a8df-f99fde11e66d"
      },
      "source": [
        "! ./ukb_wsd --ppr_w2w --allranks  -K fn3.bin -D DICT_TEST.txt namayeshga3.txt "
      ],
      "execution_count": null,
      "outputs": [
        {
          "output_type": "stream",
          "text": [
            "!! -v 2.2 ./ukb_wsd --ppr_w2w --allranks -K fn3.bin -D DICT_TEST.txt namayeshga3.txt\n",
            "ctx_00 w1  11805-n/0.808261 10391-n/0.16001 14048-n/0.0317291 !! نمایشگاه\n"
          ],
          "name": "stdout"
        }
      ]
    },
    {
      "cell_type": "markdown",
      "metadata": {
        "id": "WruIzyFpxqDC"
      },
      "source": [
        "# نقاشی"
      ]
    },
    {
      "cell_type": "code",
      "metadata": {
        "id": "j2wenLWCxpLz"
      },
      "source": [
        "#num12\n",
        "naghashi= []\n",
        "for i in wikitext:\n",
        "  if \" نقاشی \" in i:\n",
        "    if(len(i)<350):\n",
        "         i=i.replace(\"\\u200c\",\"\")\n",
        "         naghashi.append(i.rstrip(\"\\n\"))\n",
        "\n",
        "#naghashi=naghashi[:200]"
      ],
      "execution_count": null,
      "outputs": []
    },
    {
      "cell_type": "code",
      "metadata": {
        "id": "6aXL4_O7x0Al"
      },
      "source": [
        "naghashi2=[]\n",
        "c=0\n",
        "sum=0\n",
        "for i in naghashi:\n",
        "    sentence = Sentence(i)\n",
        "    stacked_embeddings.embed(sentence)\n",
        "    for token in sentence:\n",
        "        sum+=token.embedding\n",
        "        c+=1\n",
        "    sum=sum / c\n",
        "    naghashi2.append(np.array(sum))"
      ],
      "execution_count": null,
      "outputs": []
    },
    {
      "cell_type": "code",
      "metadata": {
        "id": "AoQI0Ye8yEKi",
        "colab": {
          "base_uri": "https://localhost:8080/",
          "height": 264
        },
        "outputId": "57e713cf-1cb9-412a-a0bc-a679ea007c27"
      },
      "source": [
        "naghashi2=np.array(naghashi2)\n",
        "kmeans = KMeans(n_clusters=4, random_state=0).fit(naghashi2)\n",
        "y_kmeans = kmeans.predict(naghashi2)\n",
        "labels=kmeans.labels_\n",
        "plt.scatter(naghashi2[:, 0], naghashi2[:, 1], c=y_kmeans, cmap='viridis')\n",
        "plt.show()"
      ],
      "execution_count": null,
      "outputs": [
        {
          "output_type": "display_data",
          "data": {
            "image/png": "[encoded data removed]",
            "text/plain": [
              "<Figure size 432x288 with 1 Axes>"
            ]
          },
          "metadata": {
            "tags": [],
            "needs_background": "light"
          }
        }
      ]
    },
    {
      "cell_type": "code",
      "metadata": {
        "id": "AnQzcuQNx7to",
        "colab": {
          "base_uri": "https://localhost:8080/",
          "height": 406
        },
        "outputId": "a0c3dc4c-c2d6-4f27-eca5-d94e2ac4da3e"
      },
      "source": [
        "df = pd.DataFrame(columns=[\"معنی1\",\"معنی2\",\"معنی3\",\"معنی4\"])\n",
        "for i in range(200):\n",
        "  if labels[i]==0:\n",
        "    df=df.append({\"معنی1\":naghashi[i]}, ignore_index=True)\n",
        "  elif labels[i]==1:\n",
        "    df=df.append({\"معنی2\":naghashi[i]}, ignore_index=True)\n",
        "  elif labels[i]==2:\n",
        "    df=df.append({\"معنی3\":naghashi[i]}, ignore_index=True)\n",
        "  elif labels[i]==3:\n",
        "    df=df.append({\"معنی4\":naghashi[i]}, ignore_index=True)\n",
        "    \n",
        "df = df.apply(lambda x: pd.Series(x.dropna().values))\n",
        "df = df.fillna('')\n",
        "df"
      ],
      "execution_count": null,
      "outputs": [
        {
          "output_type": "execute_result",
          "data": {
            "text/html": [
              "<div>\n",
              "<style scoped>\n",
              "    .dataframe tbody tr th:only-of-type {\n",
              "        vertical-align: middle;\n",
              "    }\n",
              "\n",
              "    .dataframe tbody tr th {\n",
              "        vertical-align: top;\n",
              "    }\n",
              "\n",
              "    .dataframe thead th {\n",
              "        text-align: right;\n",
              "    }\n",
              "</style>\n",
              "<table border=\"1\" class=\"dataframe\">\n",
              "  <thead>\n",
              "    <tr style=\"text-align: right;\">\n",
              "      <th></th>\n",
              "      <th>معنی1</th>\n",
              "      <th>معنی2</th>\n",
              "      <th>معنی3</th>\n",
              "      <th>معنی4</th>\n",
              "    </tr>\n",
              "  </thead>\n",
              "  <tbody>\n",
              "    <tr>\n",
              "      <th>0</th>\n",
              "      <td>جاده کمربندی (درنیشه) که نمای پاوه را همچون بو...</td>\n",
              "      <td>در طی جستجوهای باستان‌شناسان برای یافتن تمدن، ...</td>\n",
              "      <td>گنبد سنت جرج، قدیمی‌ترین بنای صوفیه است. سه لا...</td>\n",
              "      <td>دی کرومات پتاسیم عامل اکسیدکننده بسیار قوی است...</td>\n",
              "    </tr>\n",
              "    <tr>\n",
              "      <th>1</th>\n",
              "      <td>== تکنیک‌های نقاشی ==</td>\n",
              "      <td></td>\n",
              "      <td></td>\n",
              "      <td>پرده خوانی:به نمایشی گفته می‌شود که در آن تصاو...</td>\n",
              "    </tr>\n",
              "    <tr>\n",
              "      <th>2</th>\n",
              "      <td>برخی از تکنیک‌های نقاشی عبارتند از:</td>\n",
              "      <td></td>\n",
              "      <td></td>\n",
              "      <td>سردرهای ورودی به غارهای فرسایش دیدهٔ دریایی شب...</td>\n",
              "    </tr>\n",
              "    <tr>\n",
              "      <th>3</th>\n",
              "      <td>نقاشی یا رنگ مومی، نقاشی یا رنگی که با موم آب‌...</td>\n",
              "      <td></td>\n",
              "      <td></td>\n",
              "      <td>نقاشی، نگارگری یا رسم، فرایندی است که طی آن رن...</td>\n",
              "    </tr>\n",
              "    <tr>\n",
              "      <th>4</th>\n",
              "      <td>سایش و نقاشی نقطه‌ای</td>\n",
              "      <td></td>\n",
              "      <td></td>\n",
              "      <td>قدیمی‌ترین نقاشی‌ها در جهان که متعلق به حدود ۳...</td>\n",
              "    </tr>\n",
              "    <tr>\n",
              "      <th>...</th>\n",
              "      <td>...</td>\n",
              "      <td>...</td>\n",
              "      <td>...</td>\n",
              "      <td>...</td>\n",
              "    </tr>\n",
              "    <tr>\n",
              "      <th>188</th>\n",
              "      <td>ون گوگ در ابتدا تحت تأثیر نقاشی‌های هلندی از ر...</td>\n",
              "      <td></td>\n",
              "      <td></td>\n",
              "      <td></td>\n",
              "    </tr>\n",
              "    <tr>\n",
              "      <th>189</th>\n",
              "      <td>ون گوگ شیفته نقاشی از کافه‌های شبانه، مردم طبق...</td>\n",
              "      <td></td>\n",
              "      <td></td>\n",
              "      <td></td>\n",
              "    </tr>\n",
              "    <tr>\n",
              "      <th>190</th>\n",
              "      <td>در سال ۱۹۶۵ یک کشاورز، تفنگی را که ون گوگ با آ...</td>\n",
              "      <td></td>\n",
              "      <td></td>\n",
              "      <td></td>\n",
              "    </tr>\n",
              "    <tr>\n",
              "      <th>191</th>\n",
              "      <td>فیلمی با نام دوستدار تو، ونسان که در سال ۲۰۱۷ ...</td>\n",
              "      <td></td>\n",
              "      <td></td>\n",
              "      <td></td>\n",
              "    </tr>\n",
              "    <tr>\n",
              "      <th>192</th>\n",
              "      <td>فیلم بر دروازه ابدیت که در سال ۲۰۱۸ به کارگردا...</td>\n",
              "      <td></td>\n",
              "      <td></td>\n",
              "      <td></td>\n",
              "    </tr>\n",
              "  </tbody>\n",
              "</table>\n",
              "<p>193 rows × 4 columns</p>\n",
              "</div>"
            ],
            "text/plain": [
              "                                                 معنی1  ...                                              معنی4\n",
              "0    جاده کمربندی (درنیشه) که نمای پاوه را همچون بو...  ...  دی کرومات پتاسیم عامل اکسیدکننده بسیار قوی است...\n",
              "1                                == تکنیک‌های نقاشی ==  ...  پرده خوانی:به نمایشی گفته می‌شود که در آن تصاو...\n",
              "2                  برخی از تکنیک‌های نقاشی عبارتند از:  ...  سردرهای ورودی به غارهای فرسایش دیدهٔ دریایی شب...\n",
              "3    نقاشی یا رنگ مومی، نقاشی یا رنگی که با موم آب‌...  ...  نقاشی، نگارگری یا رسم، فرایندی است که طی آن رن...\n",
              "4                                 سایش و نقاشی نقطه‌ای  ...  قدیمی‌ترین نقاشی‌ها در جهان که متعلق به حدود ۳...\n",
              "..                                                 ...  ...                                                ...\n",
              "188  ون گوگ در ابتدا تحت تأثیر نقاشی‌های هلندی از ر...  ...                                                   \n",
              "189  ون گوگ شیفته نقاشی از کافه‌های شبانه، مردم طبق...  ...                                                   \n",
              "190  در سال ۱۹۶۵ یک کشاورز، تفنگی را که ون گوگ با آ...  ...                                                   \n",
              "191  فیلمی با نام دوستدار تو، ونسان که در سال ۲۰۱۷ ...  ...                                                   \n",
              "192  فیلم بر دروازه ابدیت که در سال ۲۰۱۸ به کارگردا...  ...                                                   \n",
              "\n",
              "[193 rows x 4 columns]"
            ]
          },
          "metadata": {
            "tags": []
          },
          "execution_count": 101
        }
      ]
    },
    {
      "cell_type": "code",
      "metadata": {
        "colab": {
          "base_uri": "https://localhost:8080/"
        },
        "id": "vsOGkJnWyDGY",
        "outputId": "c7c3f42e-8cd5-4744-bef5-589a6109e1c0"
      },
      "source": [
        "! ./ukb_wsd --ppr_w2w --allranks  -K fn3.bin -D DICT_TEST.txt naghashi1.txt "
      ],
      "execution_count": null,
      "outputs": [
        {
          "output_type": "stream",
          "text": [
            "!! -v 2.2 ./ukb_wsd --ppr_w2w --allranks -K fn3.bin -D DICT_TEST.txt naghashi1.txt\n",
            "ctx_00 w1  14547-n/0.634593 11069-n/0.241393 14548-n/0.067608 10568-n/0.056406 !! نقاشی\n"
          ],
          "name": "stdout"
        }
      ]
    },
    {
      "cell_type": "code",
      "metadata": {
        "colab": {
          "base_uri": "https://localhost:8080/"
        },
        "id": "O-QxGHUNyDg5",
        "outputId": "b279946c-733c-4969-9319-542f0b90a608"
      },
      "source": [
        "! ./ukb_wsd --ppr_w2w --allranks  -K fn3.bin -D DICT_TEST.txt naghashi2.txt "
      ],
      "execution_count": null,
      "outputs": [
        {
          "output_type": "stream",
          "text": [
            "!! -v 2.2 ./ukb_wsd --ppr_w2w --allranks -K fn3.bin -D DICT_TEST.txt naghashi2.txt\n",
            "ctx_00 w6  14547-n/0.679638 10568-n/0.148142 11069-n/0.0940918 14548-n/0.0781285 !! نقاشی\n"
          ],
          "name": "stdout"
        }
      ]
    },
    {
      "cell_type": "code",
      "metadata": {
        "colab": {
          "base_uri": "https://localhost:8080/"
        },
        "id": "Ftkc4dhVyD6J",
        "outputId": "d737976e-708c-4b28-8acd-bd66cd71d116"
      },
      "source": [
        "! ./ukb_wsd --ppr_w2w --allranks  -K fn3.bin -D DICT_TEST.txt naghashi3.txt "
      ],
      "execution_count": null,
      "outputs": [
        {
          "output_type": "stream",
          "text": [
            "!! -v 2.2 ./ukb_wsd --ppr_w2w --allranks -K fn3.bin -D DICT_TEST.txt naghashi3.txt\n",
            "ctx_00 w6  10568-n/0.600435 11069-n/0.216841 14547-n/0.138073 14548-n/0.0446513 !! نقاشی\n"
          ],
          "name": "stdout"
        }
      ]
    },
    {
      "cell_type": "code",
      "metadata": {
        "colab": {
          "base_uri": "https://localhost:8080/"
        },
        "id": "-MwIN7ZzyERd",
        "outputId": "446c9411-06f5-4a6f-cd06-99e411e2cadf"
      },
      "source": [
        "! ./ukb_wsd --ppr_w2w --allranks  -K fn3.bin -D DICT_TEST.txt naghashi4.txt "
      ],
      "execution_count": null,
      "outputs": [
        {
          "output_type": "stream",
          "text": [
            "!! -v 2.2 ./ukb_wsd --ppr_w2w --allranks -K fn3.bin -D DICT_TEST.txt naghashi4.txt\n",
            "ctx_00 w1  11069-n/0.764183 14547-n/0.160076 10568-n/0.039794 14548-n/0.0359472 !! نقاشی\n"
          ],
          "name": "stdout"
        }
      ]
    },
    {
      "cell_type": "markdown",
      "metadata": {
        "id": "HVCPhAbH0TwK"
      },
      "source": [
        "# دروازه"
      ]
    },
    {
      "cell_type": "code",
      "metadata": {
        "id": "6tqM0zpU0XTf"
      },
      "source": [
        "#num13\n",
        "darvaze= []\n",
        "for i in wikitext:\n",
        "  if \" دروازه \" in i:\n",
        "    if(len(i)<350):\n",
        "         i=i.replace(\"\\u200c\",\"\")\n",
        "         darvaze.append(i.rstrip(\"\\n\"))\n",
        "\n",
        "#darvaze=darvaze[:200]"
      ],
      "execution_count": null,
      "outputs": []
    },
    {
      "cell_type": "code",
      "metadata": {
        "id": "X2jDDds30fVJ"
      },
      "source": [
        "darvaze2=[]\n",
        "c=0\n",
        "sum=0\n",
        "for i in darvaze:\n",
        "    sentence = Sentence(i)\n",
        "    stacked_embeddings.embed(sentence)\n",
        "    for token in sentence:\n",
        "        sum+=token.embedding\n",
        "        c+=1\n",
        "    sum=sum / c\n",
        "    darvaze2.append(np.array(sum))"
      ],
      "execution_count": null,
      "outputs": []
    },
    {
      "cell_type": "code",
      "metadata": {
        "id": "C2DemXDB0rDb",
        "colab": {
          "base_uri": "https://localhost:8080/",
          "height": 264
        },
        "outputId": "bab19643-0c21-4b9b-ec34-8b598b730291"
      },
      "source": [
        "darvaze2=np.array(darvaze2)\n",
        "kmeans = KMeans(n_clusters=1, random_state=0).fit(darvaze2)\n",
        "y_kmeans = kmeans.predict(darvaze2)\n",
        "labels=kmeans.labels_\n",
        "plt.scatter(darvaze2[:, 0], darvaze2[:, 1], c=y_kmeans, cmap='viridis')\n",
        "plt.show()"
      ],
      "execution_count": null,
      "outputs": [
        {
          "output_type": "display_data",
          "data": {
            "image/png": "[encoded data removed]",
            "text/plain": [
              "<Figure size 432x288 with 1 Axes>"
            ]
          },
          "metadata": {
            "tags": [],
            "needs_background": "light"
          }
        }
      ]
    },
    {
      "cell_type": "code",
      "metadata": {
        "id": "wqsC8I2q02A3",
        "colab": {
          "base_uri": "https://localhost:8080/",
          "height": 406
        },
        "outputId": "5c87b005-8257-47ce-f981-6bfd8a65ec9c"
      },
      "source": [
        "df = pd.DataFrame(columns=[\"معنی1\"])\n",
        "for i in range(200):\n",
        "  if labels[i]==0:\n",
        "    df=df.append({\"معنی1\":darvaze[i]}, ignore_index=True)\n",
        "\n",
        "    \n",
        "df = df.apply(lambda x: pd.Series(x.dropna().values))\n",
        "df = df.fillna('')\n",
        "df"
      ],
      "execution_count": null,
      "outputs": [
        {
          "output_type": "execute_result",
          "data": {
            "text/html": [
              "<div>\n",
              "<style scoped>\n",
              "    .dataframe tbody tr th:only-of-type {\n",
              "        vertical-align: middle;\n",
              "    }\n",
              "\n",
              "    .dataframe tbody tr th {\n",
              "        vertical-align: top;\n",
              "    }\n",
              "\n",
              "    .dataframe thead th {\n",
              "        text-align: right;\n",
              "    }\n",
              "</style>\n",
              "<table border=\"1\" class=\"dataframe\">\n",
              "  <thead>\n",
              "    <tr style=\"text-align: right;\">\n",
              "      <th></th>\n",
              "      <th>معنی1</th>\n",
              "    </tr>\n",
              "  </thead>\n",
              "  <tbody>\n",
              "    <tr>\n",
              "      <th>0</th>\n",
              "      <td>اعضای شبکه اینترنت یا شرکت‌های سرویس دهنده آن‌...</td>\n",
              "    </tr>\n",
              "    <tr>\n",
              "      <th>1</th>\n",
              "      <td>این مزار عصر شاهرخ شاه تیموری، به همت همسرش گو...</td>\n",
              "    </tr>\n",
              "    <tr>\n",
              "      <th>2</th>\n",
              "      <td>شهر صد دروازه در ناحیه سمنان و دامغان امروزی د...</td>\n",
              "    </tr>\n",
              "    <tr>\n",
              "      <th>3</th>\n",
              "      <td>پرونده:Ihstar Gate RB.JPG|ورودی موزه‌ای در بغد...</td>\n",
              "    </tr>\n",
              "    <tr>\n",
              "      <th>4</th>\n",
              "      <td>در بازی فوتبال به کسی که برای نگهداری و محافظت...</td>\n",
              "    </tr>\n",
              "    <tr>\n",
              "      <th>...</th>\n",
              "      <td>...</td>\n",
              "    </tr>\n",
              "    <tr>\n",
              "      <th>195</th>\n",
              "      <td>شهر کشکسرای در 15 کیلومتری شهرستان مرند ، نه ی...</td>\n",
              "    </tr>\n",
              "    <tr>\n",
              "      <th>196</th>\n",
              "      <td>برات‌آباد، فردوس، ویره، رامین، دروازه عباس‌آبا...</td>\n",
              "    </tr>\n",
              "    <tr>\n",
              "      <th>197</th>\n",
              "      <td>مورخ یمنی «شرف الدین» می‌گوید که شهر عمران در ...</td>\n",
              "    </tr>\n",
              "    <tr>\n",
              "      <th>198</th>\n",
              "      <td>سده شهری است در استان فارس و در جنوب ایران است...</td>\n",
              "    </tr>\n",
              "    <tr>\n",
              "      <th>199</th>\n",
              "      <td>سده در ۳۳۱ قبل از میلاد مسیح دروازه پارس و پرس...</td>\n",
              "    </tr>\n",
              "  </tbody>\n",
              "</table>\n",
              "<p>200 rows × 1 columns</p>\n",
              "</div>"
            ],
            "text/plain": [
              "                                                 معنی1\n",
              "0    اعضای شبکه اینترنت یا شرکت‌های سرویس دهنده آن‌...\n",
              "1    این مزار عصر شاهرخ شاه تیموری، به همت همسرش گو...\n",
              "2    شهر صد دروازه در ناحیه سمنان و دامغان امروزی د...\n",
              "3    پرونده:Ihstar Gate RB.JPG|ورودی موزه‌ای در بغد...\n",
              "4    در بازی فوتبال به کسی که برای نگهداری و محافظت...\n",
              "..                                                 ...\n",
              "195  شهر کشکسرای در 15 کیلومتری شهرستان مرند ، نه ی...\n",
              "196  برات‌آباد، فردوس، ویره، رامین، دروازه عباس‌آبا...\n",
              "197  مورخ یمنی «شرف الدین» می‌گوید که شهر عمران در ...\n",
              "198  سده شهری است در استان فارس و در جنوب ایران است...\n",
              "199  سده در ۳۳۱ قبل از میلاد مسیح دروازه پارس و پرس...\n",
              "\n",
              "[200 rows x 1 columns]"
            ]
          },
          "metadata": {
            "tags": []
          },
          "execution_count": 105
        }
      ]
    },
    {
      "cell_type": "code",
      "metadata": {
        "colab": {
          "base_uri": "https://localhost:8080/"
        },
        "id": "6gdMDF-3wEZd",
        "outputId": "910d6627-c92f-422e-b33c-79d7e767c890"
      },
      "source": [
        "! ./ukb_wsd --ppr_w2w --allranks  -K fn3.bin -D DICT_TEST.txt darvaze.txt "
      ],
      "execution_count": null,
      "outputs": [
        {
          "output_type": "stream",
          "text": [
            "!! -v 2.2 ./ukb_wsd --ppr_w2w --allranks -K fn3.bin -D DICT_TEST.txt darvaze.txt\n",
            "ctx_00 w1  15007-n/0 !! دروازه\n"
          ],
          "name": "stdout"
        }
      ]
    },
    {
      "cell_type": "markdown",
      "metadata": {
        "id": "AapyddNx1EAt"
      },
      "source": [
        "# حرکت"
      ]
    },
    {
      "cell_type": "code",
      "metadata": {
        "id": "6VEoJiYk1DcJ"
      },
      "source": [
        "#num14\n",
        "harekat= []\n",
        "for i in wikitext:\n",
        "  if \" حرکت \" in i:\n",
        "    if(len(i)<350):\n",
        "         harekat.append(i.rstrip(\"\\n\"))\n",
        "\n",
        "#harekat=harekat[:200]"
      ],
      "execution_count": null,
      "outputs": []
    },
    {
      "cell_type": "code",
      "metadata": {
        "id": "YKLzU9NE1RIG"
      },
      "source": [
        "harekat2=[]\n",
        "c=0\n",
        "sum=0\n",
        "for i in harekat:\n",
        "    sentence = Sentence(i)\n",
        "    stacked_embeddings.embed(sentence)\n",
        "    for token in sentence:\n",
        "        sum+=token.embedding\n",
        "        c+=1\n",
        "    sum=sum / c\n",
        "    harekat2.append(np.array(sum))"
      ],
      "execution_count": null,
      "outputs": []
    },
    {
      "cell_type": "code",
      "metadata": {
        "id": "btIYz0UY1b2R",
        "colab": {
          "base_uri": "https://localhost:8080/",
          "height": 264
        },
        "outputId": "1b752e85-f64e-4fdd-b792-ceb4ca31ff35"
      },
      "source": [
        "harekat2=np.array(harekat2)\n",
        "kmeans = KMeans(n_clusters=3, random_state=0).fit(harekat2)\n",
        "y_kmeans = kmeans.predict(harekat2)\n",
        "labels=kmeans.labels_\n",
        "plt.scatter(harekat2[:, 0], harekat2[:, 1], c=y_kmeans, cmap='viridis')\n",
        "plt.show()"
      ],
      "execution_count": null,
      "outputs": [
        {
          "output_type": "display_data",
          "data": {
            "image/png": "[encoded data removed]",
            "text/plain": [
              "<Figure size 432x288 with 1 Axes>"
            ]
          },
          "metadata": {
            "tags": [],
            "needs_background": "light"
          }
        }
      ]
    },
    {
      "cell_type": "code",
      "metadata": {
        "id": "wGOm58ff1jUd",
        "colab": {
          "base_uri": "https://localhost:8080/",
          "height": 406
        },
        "outputId": "10a59898-bfc7-4e4e-f8b4-c01bc6178211"
      },
      "source": [
        "df = pd.DataFrame(columns=[\"معنی1\",\"معنی2\",\"معنی3\"])\n",
        "for i in range(200):\n",
        "  if labels[i]==0:\n",
        "    df=df.append({\"معنی1\":harekat[i]}, ignore_index=True)\n",
        "  elif labels[i]==1:\n",
        "    df=df.append({\"معنی2\":harekat[i]}, ignore_index=True)\n",
        "  elif labels[i]==2:\n",
        "    df=df.append({\"معنی3\":harekat[i]}, ignore_index=True)\n",
        "    \n",
        "df = df.apply(lambda x: pd.Series(x.dropna().values))\n",
        "df = df.fillna('')\n",
        "df"
      ],
      "execution_count": null,
      "outputs": [
        {
          "output_type": "execute_result",
          "data": {
            "text/html": [
              "<div>\n",
              "<style scoped>\n",
              "    .dataframe tbody tr th:only-of-type {\n",
              "        vertical-align: middle;\n",
              "    }\n",
              "\n",
              "    .dataframe tbody tr th {\n",
              "        vertical-align: top;\n",
              "    }\n",
              "\n",
              "    .dataframe thead th {\n",
              "        text-align: right;\n",
              "    }\n",
              "</style>\n",
              "<table border=\"1\" class=\"dataframe\">\n",
              "  <thead>\n",
              "    <tr style=\"text-align: right;\">\n",
              "      <th></th>\n",
              "      <th>معنی1</th>\n",
              "      <th>معنی2</th>\n",
              "      <th>معنی3</th>\n",
              "    </tr>\n",
              "  </thead>\n",
              "  <tbody>\n",
              "    <tr>\n",
              "      <th>0</th>\n",
              "      <td>علاوه‌بر این، او در ۲۶ سالگی و در سال ۱۹۰۵ که ...</td>\n",
              "      <td>این اصطلاح به حرکت فرهنگی دانش آزاد اشاره دارد...</td>\n",
              "      <td>=== قوانین نیوتن در حرکت اجسام ===</td>\n",
              "    </tr>\n",
              "    <tr>\n",
              "      <th>1</th>\n",
              "      <td>هاوکینگ دچار بیماری اسکلروز جانبی آمیوتروفیک ب...</td>\n",
              "      <td></td>\n",
              "      <td>در بخش دیگری از پرینسیپیا، نیوتن چگونگی حرکت ا...</td>\n",
              "    </tr>\n",
              "    <tr>\n",
              "      <th>2</th>\n",
              "      <td>CarSim (نرم‌افزار شبیه‌سازی و تحلیل دینامیکی ح...</td>\n",
              "      <td></td>\n",
              "      <td>قانون اول نیوتن (قانون لَختی): هر جسم در سکون ...</td>\n",
              "    </tr>\n",
              "    <tr>\n",
              "      <th>3</th>\n",
              "      <td>ADVISOR (نرم‌افزار شبیه‌سازی و تحلیل دینامیکی ...</td>\n",
              "      <td></td>\n",
              "      <td>مجموعهٔ قوانین سه‌گانهٔ حرکت و قانون گرانش عمو...</td>\n",
              "    </tr>\n",
              "    <tr>\n",
              "      <th>4</th>\n",
              "      <td>در عوض اورشلیم به نشانهٔ تسلیم دروازه‌هایش را ...</td>\n",
              "      <td></td>\n",
              "      <td>درگیری دیگری نیوتون با رابرت هوک بر سر کشف قوا...</td>\n",
              "    </tr>\n",
              "    <tr>\n",
              "      <th>...</th>\n",
              "      <td>...</td>\n",
              "      <td>...</td>\n",
              "      <td>...</td>\n",
              "    </tr>\n",
              "    <tr>\n",
              "      <th>186</th>\n",
              "      <td>همرفت: وقتی مایعی را از زیر شروع به گرم کردن م...</td>\n",
              "      <td></td>\n",
              "      <td></td>\n",
              "    </tr>\n",
              "    <tr>\n",
              "      <th>187</th>\n",
              "      <td>جیمز کلرک ماکسول یکی از دانشمندانی بود که در ک...</td>\n",
              "      <td></td>\n",
              "      <td></td>\n",
              "    </tr>\n",
              "    <tr>\n",
              "      <th>188</th>\n",
              "      <td>ماهواره‌ای که در مدار ژئوسنکرون و در بالای خط ...</td>\n",
              "      <td></td>\n",
              "      <td></td>\n",
              "    </tr>\n",
              "    <tr>\n",
              "      <th>189</th>\n",
              "      <td>عناصر مداری؛ عناصری ششگانه‌اند و به تقلید از ی...</td>\n",
              "      <td></td>\n",
              "      <td></td>\n",
              "    </tr>\n",
              "    <tr>\n",
              "      <th>190</th>\n",
              "      <td>به ماهواره‌هایی که در فاصله نسبتاً کمی از سطح ...</td>\n",
              "      <td></td>\n",
              "      <td></td>\n",
              "    </tr>\n",
              "  </tbody>\n",
              "</table>\n",
              "<p>191 rows × 3 columns</p>\n",
              "</div>"
            ],
            "text/plain": [
              "                                                 معنی1  ...                                              معنی3\n",
              "0    علاوه‌بر این، او در ۲۶ سالگی و در سال ۱۹۰۵ که ...  ...                 === قوانین نیوتن در حرکت اجسام ===\n",
              "1    هاوکینگ دچار بیماری اسکلروز جانبی آمیوتروفیک ب...  ...  در بخش دیگری از پرینسیپیا، نیوتن چگونگی حرکت ا...\n",
              "2    CarSim (نرم‌افزار شبیه‌سازی و تحلیل دینامیکی ح...  ...  قانون اول نیوتن (قانون لَختی): هر جسم در سکون ...\n",
              "3    ADVISOR (نرم‌افزار شبیه‌سازی و تحلیل دینامیکی ...  ...  مجموعهٔ قوانین سه‌گانهٔ حرکت و قانون گرانش عمو...\n",
              "4    در عوض اورشلیم به نشانهٔ تسلیم دروازه‌هایش را ...  ...  درگیری دیگری نیوتون با رابرت هوک بر سر کشف قوا...\n",
              "..                                                 ...  ...                                                ...\n",
              "186  همرفت: وقتی مایعی را از زیر شروع به گرم کردن م...  ...                                                   \n",
              "187  جیمز کلرک ماکسول یکی از دانشمندانی بود که در ک...  ...                                                   \n",
              "188  ماهواره‌ای که در مدار ژئوسنکرون و در بالای خط ...  ...                                                   \n",
              "189  عناصر مداری؛ عناصری ششگانه‌اند و به تقلید از ی...  ...                                                   \n",
              "190  به ماهواره‌هایی که در فاصله نسبتاً کمی از سطح ...  ...                                                   \n",
              "\n",
              "[191 rows x 3 columns]"
            ]
          },
          "metadata": {
            "tags": []
          },
          "execution_count": 109
        }
      ]
    },
    {
      "cell_type": "code",
      "metadata": {
        "colab": {
          "base_uri": "https://localhost:8080/"
        },
        "id": "ekYUaoYEvcF7",
        "outputId": "f9b4b8f0-83ba-4ab0-aeb4-ce6f2ffd2291"
      },
      "source": [
        "! ./ukb_wsd --ppr_w2w --allranks  -K fn3.bin -D DICT_TEST.txt harekat1.txt "
      ],
      "execution_count": null,
      "outputs": [
        {
          "output_type": "stream",
          "text": [
            "!! -v 2.2 ./ukb_wsd --ppr_w2w --allranks -K fn3.bin -D DICT_TEST.txt harekat1.txt\n",
            "ctx_00 w1  15937-n/0.705388 12423-n/0.267098 14017-n/0.0275137 !! حرکت\n"
          ],
          "name": "stdout"
        }
      ]
    },
    {
      "cell_type": "code",
      "metadata": {
        "colab": {
          "base_uri": "https://localhost:8080/"
        },
        "id": "xHO48DCMvck1",
        "outputId": "636ede3c-0c82-4329-af65-0747034878da"
      },
      "source": [
        "! ./ukb_wsd --ppr_w2w --allranks  -K fn3.bin -D DICT_TEST.txt harekat2.txt "
      ],
      "execution_count": null,
      "outputs": [
        {
          "output_type": "stream",
          "text": [
            "!! -v 2.2 ./ukb_wsd --ppr_w2w --allranks -K fn3.bin -D DICT_TEST.txt harekat2.txt\n",
            "ctx_00 w5  15937-n/0.387684 12423-n/0.350867 14017-n/0.26145 !! حرکت\n"
          ],
          "name": "stdout"
        }
      ]
    },
    {
      "cell_type": "code",
      "metadata": {
        "colab": {
          "base_uri": "https://localhost:8080/"
        },
        "id": "49awBlILvdAj",
        "outputId": "4ac34c51-e591-412b-bfb4-225f623df087"
      },
      "source": [
        "! ./ukb_wsd --ppr_w2w --allranks  -K fn3.bin -D DICT_TEST.txt harekat3.txt "
      ],
      "execution_count": null,
      "outputs": [
        {
          "output_type": "stream",
          "text": [
            "!! -v 2.2 ./ukb_wsd --ppr_w2w --allranks -K fn3.bin -D DICT_TEST.txt harekat3.txt\n",
            "ctx_00 w1  12423-n/0.5006 15937-n/0.467227 14017-n/0.0321727 !! حرکت\n"
          ],
          "name": "stdout"
        }
      ]
    },
    {
      "cell_type": "markdown",
      "metadata": {
        "id": "fteEJl0O1xug"
      },
      "source": [
        "# داور"
      ]
    },
    {
      "cell_type": "code",
      "metadata": {
        "id": "da28pjYC104M"
      },
      "source": [
        "#num15\n",
        "davar= []\n",
        "for i in wikitext:\n",
        "  if \" داور \" in i:\n",
        "    if(len(i)<350):\n",
        "         i=i.replace(\"\\u200c\",\"\")\n",
        "         davar.append(i.rstrip(\"\\n\"))\n",
        "\n",
        "#davar=davar[:200]"
      ],
      "execution_count": null,
      "outputs": []
    },
    {
      "cell_type": "code",
      "metadata": {
        "id": "nQGsnU8T18Cz"
      },
      "source": [
        "davar2=[]\n",
        "c=0\n",
        "sum=0\n",
        "for i in davar:\n",
        "    sentence = Sentence(i)\n",
        "    stacked_embeddings.embed(sentence)\n",
        "    for token in sentence:\n",
        "        sum+=token.embedding\n",
        "        c+=1\n",
        "    sum=sum / c\n",
        "    davar2.append(np.array(sum))"
      ],
      "execution_count": null,
      "outputs": []
    },
    {
      "cell_type": "code",
      "metadata": {
        "id": "wrK0RCAA2SbD",
        "colab": {
          "base_uri": "https://localhost:8080/",
          "height": 264
        },
        "outputId": "a50f462a-a066-44ca-9d03-5daf815dc348"
      },
      "source": [
        "davar2=np.array(davar2)\n",
        "kmeans = KMeans(n_clusters=2, random_state=0).fit(davar2)\n",
        "y_kmeans = kmeans.predict(davar2)\n",
        "labels=kmeans.labels_\n",
        "plt.scatter(davar2[:, 0], davar2[:, 1], c=y_kmeans, cmap='viridis')\n",
        "plt.show()"
      ],
      "execution_count": null,
      "outputs": [
        {
          "output_type": "display_data",
          "data": {
            "image/png": "[encoded data removed]",
            "text/plain": [
              "<Figure size 432x288 with 1 Axes>"
            ]
          },
          "metadata": {
            "tags": [],
            "needs_background": "light"
          }
        }
      ]
    },
    {
      "cell_type": "code",
      "metadata": {
        "id": "gWyFql_22gwQ",
        "colab": {
          "base_uri": "https://localhost:8080/",
          "height": 406
        },
        "outputId": "12ced8e5-7a7e-4b62-b598-aa61b83d465a"
      },
      "source": [
        "df = pd.DataFrame(columns=[\"معنی1\",\"معنی2\"])\n",
        "for i in range(200):\n",
        "  if labels[i]==0:\n",
        "    df=df.append({\"معنی1\":davar[i]}, ignore_index=True)\n",
        "  elif labels[i]==1:\n",
        "    df=df.append({\"معنی2\":davar[i]}, ignore_index=True)\n",
        "\n",
        "    \n",
        "df = df.apply(lambda x: pd.Series(x.dropna().values))\n",
        "df = df.fillna('')\n",
        "df"
      ],
      "execution_count": null,
      "outputs": [
        {
          "output_type": "execute_result",
          "data": {
            "text/html": [
              "<div>\n",
              "<style scoped>\n",
              "    .dataframe tbody tr th:only-of-type {\n",
              "        vertical-align: middle;\n",
              "    }\n",
              "\n",
              "    .dataframe tbody tr th {\n",
              "        vertical-align: top;\n",
              "    }\n",
              "\n",
              "    .dataframe thead th {\n",
              "        text-align: right;\n",
              "    }\n",
              "</style>\n",
              "<table border=\"1\" class=\"dataframe\">\n",
              "  <thead>\n",
              "    <tr style=\"text-align: right;\">\n",
              "      <th></th>\n",
              "      <th>معنی1</th>\n",
              "      <th>معنی2</th>\n",
              "    </tr>\n",
              "  </thead>\n",
              "  <tbody>\n",
              "    <tr>\n",
              "      <th>0</th>\n",
              "      <td>زمانیکه یک تیم توپ را در زمین خودی تحت کنترل م...</td>\n",
              "      <td>در جام جهانی ۲۰۰۲ توتی آن قدرها هم خوش شانس نب...</td>\n",
              "    </tr>\n",
              "    <tr>\n",
              "      <th>1</th>\n",
              "      <td>در طی بازی بازیکنان حق گرفتن یکدیگر یا هل دادن...</td>\n",
              "      <td></td>\n",
              "    </tr>\n",
              "    <tr>\n",
              "      <th>2</th>\n",
              "      <td>اگر توپ دست یکی از تیم‌ها باشد و در هنگام حرکت...</td>\n",
              "      <td></td>\n",
              "    </tr>\n",
              "    <tr>\n",
              "      <th>3</th>\n",
              "      <td>بریرانی از سال ۱۳۶۰ در دانشگاه‌های تهران گرافی...</td>\n",
              "      <td></td>\n",
              "    </tr>\n",
              "    <tr>\n",
              "      <th>4</th>\n",
              "      <td>با برگزاری مسابقات لیگ برتر، در یک بازی مانده ...</td>\n",
              "      <td></td>\n",
              "    </tr>\n",
              "    <tr>\n",
              "      <th>...</th>\n",
              "      <td>...</td>\n",
              "      <td>...</td>\n",
              "    </tr>\n",
              "    <tr>\n",
              "      <th>194</th>\n",
              "      <td>در کنفرانس‌های لاهه ۱۸۹۹ و ۱۹۰۷ میلادی داوری ب...</td>\n",
              "      <td></td>\n",
              "    </tr>\n",
              "    <tr>\n",
              "      <th>195</th>\n",
              "      <td>حضور در خندوانه (ویژه نوروز ۹۸) به عنوان داور ...</td>\n",
              "      <td></td>\n",
              "    </tr>\n",
              "    <tr>\n",
              "      <th>196</th>\n",
              "      <td>شرط داوری ممکن است خاص یا عام باشد. شرط داوری ...</td>\n",
              "      <td></td>\n",
              "    </tr>\n",
              "    <tr>\n",
              "      <th>197</th>\n",
              "      <td>مهدی ربی طی این سال‌ها داور جوایز ادبی متعددی ...</td>\n",
              "      <td></td>\n",
              "    </tr>\n",
              "    <tr>\n",
              "      <th>198</th>\n",
              "      <td>کتاب ساموئیل یا Shumuel [שמואל] (که معمولاً به...</td>\n",
              "      <td></td>\n",
              "    </tr>\n",
              "  </tbody>\n",
              "</table>\n",
              "<p>199 rows × 2 columns</p>\n",
              "</div>"
            ],
            "text/plain": [
              "                                                 معنی1                                              معنی2\n",
              "0    زمانیکه یک تیم توپ را در زمین خودی تحت کنترل م...  در جام جهانی ۲۰۰۲ توتی آن قدرها هم خوش شانس نب...\n",
              "1    در طی بازی بازیکنان حق گرفتن یکدیگر یا هل دادن...                                                   \n",
              "2    اگر توپ دست یکی از تیم‌ها باشد و در هنگام حرکت...                                                   \n",
              "3    بریرانی از سال ۱۳۶۰ در دانشگاه‌های تهران گرافی...                                                   \n",
              "4    با برگزاری مسابقات لیگ برتر، در یک بازی مانده ...                                                   \n",
              "..                                                 ...                                                ...\n",
              "194  در کنفرانس‌های لاهه ۱۸۹۹ و ۱۹۰۷ میلادی داوری ب...                                                   \n",
              "195  حضور در خندوانه (ویژه نوروز ۹۸) به عنوان داور ...                                                   \n",
              "196  شرط داوری ممکن است خاص یا عام باشد. شرط داوری ...                                                   \n",
              "197  مهدی ربی طی این سال‌ها داور جوایز ادبی متعددی ...                                                   \n",
              "198  کتاب ساموئیل یا Shumuel [שמואל] (که معمولاً به...                                                   \n",
              "\n",
              "[199 rows x 2 columns]"
            ]
          },
          "metadata": {
            "tags": []
          },
          "execution_count": 113
        }
      ]
    },
    {
      "cell_type": "code",
      "metadata": {
        "colab": {
          "base_uri": "https://localhost:8080/"
        },
        "id": "u_N-pHZdGcwh",
        "outputId": "afa5f3e0-811d-4863-9247-a2259e5a710e"
      },
      "source": [
        "! ./ukb_wsd --ppr_w2w --allranks  -K fn3.bin -D DICT_TEST.txt davar1.txt "
      ],
      "execution_count": null,
      "outputs": [
        {
          "output_type": "stream",
          "text": [
            "!! -v 2.2 ./ukb_wsd --ppr_w2w --allranks -K fn3.bin -D DICT_TEST.txt davar1.txt\n",
            "ctx_00 w1  27722-n/0.586907 11959-n/0.413093 !! داور\n"
          ],
          "name": "stdout"
        }
      ]
    },
    {
      "cell_type": "code",
      "metadata": {
        "colab": {
          "base_uri": "https://localhost:8080/"
        },
        "id": "M7Yt3wgrGla5",
        "outputId": "d8cd94f1-ce64-4539-a26a-d6b73aa03303"
      },
      "source": [
        "! ./ukb_wsd --ppr_w2w --allranks  -K fn3.bin -D DICT_TEST.txt davar2.txt "
      ],
      "execution_count": null,
      "outputs": [
        {
          "output_type": "stream",
          "text": [
            "!! -v 2.2 ./ukb_wsd --ppr_w2w --allranks -K fn3.bin -D DICT_TEST.txt davar2.txt\n",
            "ctx_00 w3  27722-n/0.759725 11959-n/0.240275 !! داور\n"
          ],
          "name": "stdout"
        }
      ]
    },
    {
      "cell_type": "markdown",
      "metadata": {
        "id": "3OTLz2Bq2ylK"
      },
      "source": [
        "# بازی"
      ]
    },
    {
      "cell_type": "code",
      "metadata": {
        "id": "BGuwPbkA22ov"
      },
      "source": [
        "#num 16\n",
        "bazi= []\n",
        "for i in wikitext:\n",
        "  if \" بازی \" in i:\n",
        "    if(len(i)<350):\n",
        "         i=i.replace(\"\\u200c\",\"\")\n",
        "         bazi.append(i.rstrip(\"\\n\"))\n",
        "\n",
        "#bazi=bazi[:200]"
      ],
      "execution_count": null,
      "outputs": []
    },
    {
      "cell_type": "code",
      "metadata": {
        "id": "9T7L7JWj3HBX"
      },
      "source": [
        "bazi2=[]\n",
        "c=0\n",
        "sum=0\n",
        "for i in bazi:\n",
        "    sentence = Sentence(i)\n",
        "    stacked_embeddings.embed(sentence)\n",
        "    for token in sentence:\n",
        "        sum+=token.embedding\n",
        "        c+=1\n",
        "    sum=sum / c\n",
        "    bazi2.append(np.array(sum))"
      ],
      "execution_count": null,
      "outputs": []
    },
    {
      "cell_type": "code",
      "metadata": {
        "id": "sjvA_dG-5K9p",
        "colab": {
          "base_uri": "https://localhost:8080/",
          "height": 264
        },
        "outputId": "a48d30cd-8250-4d7c-b070-b0a725656c3f"
      },
      "source": [
        "bazi2=np.array(bazi2)\n",
        "kmeans = KMeans(n_clusters=9, random_state=0).fit(bazi2)\n",
        "y_kmeans = kmeans.predict(bazi2)\n",
        "labels=kmeans.labels_\n",
        "plt.scatter(bazi2[:, 0], bazi2[:, 1], c=y_kmeans, cmap='viridis')\n",
        "plt.show()"
      ],
      "execution_count": null,
      "outputs": [
        {
          "output_type": "display_data",
          "data": {
            "image/png": "[encoded data removed]",
            "text/plain": [
              "<Figure size 432x288 with 1 Axes>"
            ]
          },
          "metadata": {
            "tags": [],
            "needs_background": "light"
          }
        }
      ]
    },
    {
      "cell_type": "code",
      "metadata": {
        "id": "gsutTuxe6YH5",
        "colab": {
          "base_uri": "https://localhost:8080/",
          "height": 590
        },
        "outputId": "b508b70d-b831-4274-8383-16a7be6f9051"
      },
      "source": [
        "df = pd.DataFrame(columns=[\"معنی1\",\"معنی2\",\"معنی3\",\"معنی4\",\"معنی5\",\"معنی6\",\"معنی7\",\"معنی8\",\"معنی9\"])\n",
        "for i in range(200):\n",
        "  if labels[i]==0:\n",
        "    df=df.append({\"معنی1\":bazi[i]}, ignore_index=True)\n",
        "  elif labels[i]==1:\n",
        "    df=df.append({\"معنی2\":bazi[i]}, ignore_index=True)\n",
        "  elif labels[i]==2:\n",
        "    df=df.append({\"معنی3\":bazi[i]}, ignore_index=True)\n",
        "  elif labels[i]==3:\n",
        "    df=df.append({\"معنی4\":bazi[i]}, ignore_index=True)\n",
        "  elif labels[i]==4:\n",
        "    df=df.append({\"معنی5\":bazi[i]}, ignore_index=True)\n",
        "  elif labels[i]==5:\n",
        "    df=df.append({\"معنی6\":bazi[i]}, ignore_index=True)\n",
        "  elif labels[i]==6:\n",
        "    df=df.append({\"معنی7\":bazi[i]}, ignore_index=True)\n",
        "  elif labels[i]==7:\n",
        "    df=df.append({\"معنی8\":bazi[i]}, ignore_index=True)\n",
        "  elif labels[i]==8:\n",
        "    df=df.append({\"معنی9\":bazi[i]}, ignore_index=True)\n",
        "\n",
        "df = df.apply(lambda x: pd.Series(x.dropna().values))\n",
        "df = df.fillna('')\n",
        "df"
      ],
      "execution_count": null,
      "outputs": [
        {
          "output_type": "execute_result",
          "data": {
            "text/html": [
              "<div>\n",
              "<style scoped>\n",
              "    .dataframe tbody tr th:only-of-type {\n",
              "        vertical-align: middle;\n",
              "    }\n",
              "\n",
              "    .dataframe tbody tr th {\n",
              "        vertical-align: top;\n",
              "    }\n",
              "\n",
              "    .dataframe thead th {\n",
              "        text-align: right;\n",
              "    }\n",
              "</style>\n",
              "<table border=\"1\" class=\"dataframe\">\n",
              "  <thead>\n",
              "    <tr style=\"text-align: right;\">\n",
              "      <th></th>\n",
              "      <th>معنی1</th>\n",
              "      <th>معنی2</th>\n",
              "      <th>معنی3</th>\n",
              "      <th>معنی4</th>\n",
              "      <th>معنی5</th>\n",
              "      <th>معنی6</th>\n",
              "      <th>معنی7</th>\n",
              "      <th>معنی8</th>\n",
              "      <th>معنی9</th>\n",
              "    </tr>\n",
              "  </thead>\n",
              "  <tbody>\n",
              "    <tr>\n",
              "      <th>0</th>\n",
              "      <td>Heleile.JPG|پارک بازی کودکان هلیله</td>\n",
              "      <td>او چند روز به این فکر کرد اما پاسخی نیافت. درس...</td>\n",
              "      <td>ج - شبیه‌سازی ساختاری (جایی که افراد شبیه‌سازی...</td>\n",
              "      <td>د - شبیه‌سازی ایفای نقش (جایی که افراد واقعی ن...</td>\n",
              "      <td>فوتبال ورزش نخست تهران است و شهرآورد تهران میا...</td>\n",
              "      <td>رقص یک وام‌واژه از زبان عربی است که ریشه در زب...</td>\n",
              "      <td>برای پالایش گاز هیدروژن از بخار آب زیادی که در...</td>\n",
              "      <td>شناخت حیوانات بازی کرده‌است. ارتباطات حیوانات،...</td>\n",
              "      <td>نهضت المپیک همچنین متهم به حفاظت بیش از حد از ...</td>\n",
              "    </tr>\n",
              "    <tr>\n",
              "      <th>1</th>\n",
              "      <td>هنر نقاشی با شن: بازی تخیل در نقش‌ها</td>\n",
              "      <td></td>\n",
              "      <td></td>\n",
              "      <td>در زمان طاهریان شکار، شطرنج و چوگان ورزش مورد ...</td>\n",
              "      <td></td>\n",
              "      <td>تئاتر شاخه‌ای از هنرهای نمایشی است که به بازنم...</td>\n",
              "      <td></td>\n",
              "      <td>این استان در فوتبال پیشرفته است و تیم‌هایی همچ...</td>\n",
              "      <td>آتش المپیک در جایگاه مخصوص المپیک روشن می‌شود ...</td>\n",
              "    </tr>\n",
              "    <tr>\n",
              "      <th>2</th>\n",
              "      <td>=== بازی ===</td>\n",
              "      <td></td>\n",
              "      <td></td>\n",
              "      <td>اما اغلب فشار برای رقابت یا یک تمایل فردی برای...</td>\n",
              "      <td></td>\n",
              "      <td>بدلکاری شامل کارهایی مانند پریدن از دیوار، هوا...</td>\n",
              "      <td></td>\n",
              "      <td>بزرگ‌ترین و وسیع‌ترین زمین بازی کریکت جهان سال...</td>\n",
              "      <td>برخی رایانه‌ها نیز برای انجام رمزگشایی بکار گر...</td>\n",
              "    </tr>\n",
              "    <tr>\n",
              "      <th>3</th>\n",
              "      <td>== ماهیت بازی ==</td>\n",
              "      <td></td>\n",
              "      <td></td>\n",
              "      <td></td>\n",
              "      <td></td>\n",
              "      <td>یک بازی شامل مجموعه‌ای از بازیکنان، مجموعه‌ای ...</td>\n",
              "      <td></td>\n",
              "      <td>طبق تعریف جین مک گانیگال از بازی، هر بازی دارا...</td>\n",
              "      <td></td>\n",
              "    </tr>\n",
              "    <tr>\n",
              "      <th>4</th>\n",
              "      <td>== بازی در ایران باستان ==</td>\n",
              "      <td></td>\n",
              "      <td></td>\n",
              "      <td></td>\n",
              "      <td></td>\n",
              "      <td>چلیپاسنگ یا خاچکار (به ارمنی: \"Խաչքար\") نام سن...</td>\n",
              "      <td></td>\n",
              "      <td>بازخورد مشخصه ای از یک بازی است که بازیکنان می...</td>\n",
              "      <td></td>\n",
              "    </tr>\n",
              "    <tr>\n",
              "      <th>...</th>\n",
              "      <td>...</td>\n",
              "      <td>...</td>\n",
              "      <td>...</td>\n",
              "      <td>...</td>\n",
              "      <td>...</td>\n",
              "      <td>...</td>\n",
              "      <td>...</td>\n",
              "      <td>...</td>\n",
              "      <td>...</td>\n",
              "    </tr>\n",
              "    <tr>\n",
              "      <th>149</th>\n",
              "      <td>کاربرد نظریه بازی در علم سیاست در مسائلی مانند...</td>\n",
              "      <td></td>\n",
              "      <td></td>\n",
              "      <td></td>\n",
              "      <td></td>\n",
              "      <td></td>\n",
              "      <td></td>\n",
              "      <td></td>\n",
              "      <td></td>\n",
              "    </tr>\n",
              "    <tr>\n",
              "      <th>150</th>\n",
              "      <td>=== بازی ===</td>\n",
              "      <td></td>\n",
              "      <td></td>\n",
              "      <td></td>\n",
              "      <td></td>\n",
              "      <td></td>\n",
              "      <td></td>\n",
              "      <td></td>\n",
              "      <td></td>\n",
              "    </tr>\n",
              "    <tr>\n",
              "      <th>151</th>\n",
              "      <td>هرگاه سود یک موجودیت تنها در گرو رفتار خود او ...</td>\n",
              "      <td></td>\n",
              "      <td></td>\n",
              "      <td></td>\n",
              "      <td></td>\n",
              "      <td></td>\n",
              "      <td></td>\n",
              "      <td></td>\n",
              "      <td></td>\n",
              "    </tr>\n",
              "    <tr>\n",
              "      <th>152</th>\n",
              "      <td>استراتژی مهارت خوب بازی کردن یا محاسبهٔ به‌کار...</td>\n",
              "      <td></td>\n",
              "      <td></td>\n",
              "      <td></td>\n",
              "      <td></td>\n",
              "      <td></td>\n",
              "      <td></td>\n",
              "      <td></td>\n",
              "      <td></td>\n",
              "    </tr>\n",
              "    <tr>\n",
              "      <th>153</th>\n",
              "      <td>== ساختار بازی ==</td>\n",
              "      <td></td>\n",
              "      <td></td>\n",
              "      <td></td>\n",
              "      <td></td>\n",
              "      <td></td>\n",
              "      <td></td>\n",
              "      <td></td>\n",
              "      <td></td>\n",
              "    </tr>\n",
              "  </tbody>\n",
              "</table>\n",
              "<p>154 rows × 9 columns</p>\n",
              "</div>"
            ],
            "text/plain": [
              "                                                 معنی1  ...                                              معنی9\n",
              "0                   Heleile.JPG|پارک بازی کودکان هلیله  ...  نهضت المپیک همچنین متهم به حفاظت بیش از حد از ...\n",
              "1                 هنر نقاشی با شن: بازی تخیل در نقش‌ها  ...  آتش المپیک در جایگاه مخصوص المپیک روشن می‌شود ...\n",
              "2                                         === بازی ===  ...  برخی رایانه‌ها نیز برای انجام رمزگشایی بکار گر...\n",
              "3                                     == ماهیت بازی ==  ...                                                   \n",
              "4                           == بازی در ایران باستان ==  ...                                                   \n",
              "..                                                 ...  ...                                                ...\n",
              "149  کاربرد نظریه بازی در علم سیاست در مسائلی مانند...  ...                                                   \n",
              "150                                       === بازی ===  ...                                                   \n",
              "151  هرگاه سود یک موجودیت تنها در گرو رفتار خود او ...  ...                                                   \n",
              "152  استراتژی مهارت خوب بازی کردن یا محاسبهٔ به‌کار...  ...                                                   \n",
              "153                                  == ساختار بازی ==  ...                                                   \n",
              "\n",
              "[154 rows x 9 columns]"
            ]
          },
          "metadata": {
            "tags": []
          },
          "execution_count": 117
        }
      ]
    },
    {
      "cell_type": "code",
      "metadata": {
        "colab": {
          "base_uri": "https://localhost:8080/"
        },
        "id": "1FYlVammtEO1",
        "outputId": "4bd1e570-61f9-49aa-a27f-be2e0f3df6b9"
      },
      "source": [
        "! ./ukb_wsd --ppr_w2w --allranks  -K fn3.bin -D DICT_TEST.txt bazi1.txt "
      ],
      "execution_count": null,
      "outputs": [
        {
          "output_type": "stream",
          "text": [
            "!! -v 2.2 ./ukb_wsd --ppr_w2w --allranks -K fn3.bin -D DICT_TEST.txt bazi1.txt\n",
            "ctx_00 w1  10558-n/0.43747 12889-n/0.371098 13574-n/0.0611998 12686-n/0.0568355 10537-n/0.0375508 10547-n/0.0129969 12974-n/0.0109205 13575-n/0.0070781 12426-n/0.00485076 !! بازی\n"
          ],
          "name": "stdout"
        }
      ]
    },
    {
      "cell_type": "code",
      "metadata": {
        "colab": {
          "base_uri": "https://localhost:8080/"
        },
        "id": "NiNhYzWStKfH",
        "outputId": "1f225057-833e-45d8-b111-919065ad1bf3"
      },
      "source": [
        "! ./ukb_wsd --ppr_w2w --allranks  -K fn3.bin -D DICT_TEST.txt bazi2.txt "
      ],
      "execution_count": null,
      "outputs": [
        {
          "output_type": "stream",
          "text": [
            "!! -v 2.2 ./ukb_wsd --ppr_w2w --allranks -K fn3.bin -D DICT_TEST.txt bazi2.txt\n",
            "ctx_00 w1  13574-n/0.239397 12686-n/0.186166 12889-n/0.176543 10537-n/0.160578 10547-n/0.0848457 13575-n/0.0531682 10558-n/0.0434443 12426-n/0.0406689 12974-n/0.0151891 !! بازی\n"
          ],
          "name": "stdout"
        }
      ]
    },
    {
      "cell_type": "code",
      "metadata": {
        "colab": {
          "base_uri": "https://localhost:8080/"
        },
        "id": "LXhGTDu4tKQu",
        "outputId": "0b43a5fc-840c-41c0-f583-bf8a58cc8e5c"
      },
      "source": [
        "! ./ukb_wsd --ppr_w2w --allranks  -K fn3.bin -D DICT_TEST.txt bazi3.txt "
      ],
      "execution_count": null,
      "outputs": [
        {
          "output_type": "stream",
          "text": [
            "!! -v 2.2 ./ukb_wsd --ppr_w2w --allranks -K fn3.bin -D DICT_TEST.txt bazi3.txt\n",
            "ctx_00 w6  12889-n/0.247829 13574-n/0.247384 12974-n/0.170076 10558-n/0.125076 10537-n/0.0650071 10547-n/0.0580538 12686-n/0.033906 13575-n/0.0276847 12426-n/0.024983 !! بازی\n"
          ],
          "name": "stdout"
        }
      ]
    },
    {
      "cell_type": "code",
      "metadata": {
        "colab": {
          "base_uri": "https://localhost:8080/"
        },
        "id": "hYN1kIy8tKB1",
        "outputId": "8de37138-8efc-4ff8-d303-84eee3a0d20c"
      },
      "source": [
        "! ./ukb_wsd --ppr_w2w --allranks  -K fn3.bin -D DICT_TEST.txt bazi4.txt "
      ],
      "execution_count": null,
      "outputs": [
        {
          "output_type": "stream",
          "text": [
            "!! -v 2.2 ./ukb_wsd --ppr_w2w --allranks -K fn3.bin -D DICT_TEST.txt bazi4.txt\n",
            "ctx_00 w1  10537-n/0.519639 10558-n/0.232626 13574-n/0.125768 12889-n/0.0680844 10547-n/0.0201178 12686-n/0.0192267 12426-n/0.00615642 13575-n/0.00499839 12974-n/0.00338384 !! بازی\n"
          ],
          "name": "stdout"
        }
      ]
    },
    {
      "cell_type": "code",
      "metadata": {
        "colab": {
          "base_uri": "https://localhost:8080/"
        },
        "id": "ak9yFE4ytJyg",
        "outputId": "530913c9-d3b1-47df-c0cf-fb6b9465598c"
      },
      "source": [
        "! ./ukb_wsd --ppr_w2w --allranks  -K fn3.bin -D DICT_TEST.txt bazi5.txt "
      ],
      "execution_count": null,
      "outputs": [
        {
          "output_type": "stream",
          "text": [
            "!! -v 2.2 ./ukb_wsd --ppr_w2w --allranks -K fn3.bin -D DICT_TEST.txt bazi5.txt\n",
            "ctx_00 w6  12889-n/0.4387 12686-n/0.304977 13574-n/0.117845 10537-n/0.100006 10547-n/0.0164592 12974-n/0.0120583 10558-n/0.0058614 13575-n/0.00283622 12426-n/0.00125686 !! بازی\n"
          ],
          "name": "stdout"
        }
      ]
    },
    {
      "cell_type": "code",
      "metadata": {
        "colab": {
          "base_uri": "https://localhost:8080/"
        },
        "id": "iLiUeW0GtJXp",
        "outputId": "bf825e51-ace2-4105-85d8-2473fe7305f5"
      },
      "source": [
        "! ./ukb_wsd --ppr_w2w --allranks  -K fn3.bin -D DICT_TEST.txt bazi6.txt "
      ],
      "execution_count": null,
      "outputs": [
        {
          "output_type": "stream",
          "text": [
            "!! -v 2.2 ./ukb_wsd --ppr_w2w --allranks -K fn3.bin -D DICT_TEST.txt bazi6.txt\n",
            "ctx_00 w1  12889-n/0.661571 12686-n/0.112207 13574-n/0.106502 10537-n/0.0485808 10547-n/0.0246287 12974-n/0.0196621 10558-n/0.0168309 13575-n/0.00703764 12426-n/0.0029798 !! بازی\n"
          ],
          "name": "stdout"
        }
      ]
    },
    {
      "cell_type": "code",
      "metadata": {
        "colab": {
          "base_uri": "https://localhost:8080/"
        },
        "id": "JMGYe1SKtJDs",
        "outputId": "6850b5f2-807e-46b0-968e-a9045cc7421a"
      },
      "source": [
        "! ./ukb_wsd --ppr_w2w --allranks  -K fn3.bin -D DICT_TEST.txt bazi7.txt "
      ],
      "execution_count": null,
      "outputs": [
        {
          "output_type": "stream",
          "text": [
            "!! -v 2.2 ./ukb_wsd --ppr_w2w --allranks -K fn3.bin -D DICT_TEST.txt bazi7.txt\n",
            "ctx_00 w6  13574-n/0.248299 10537-n/0.193042 12889-n/0.18939 10558-n/0.109685 13575-n/0.0820844 10547-n/0.0682378 12686-n/0.0502229 12426-n/0.0439722 12974-n/0.0150671 !! بازی\n"
          ],
          "name": "stdout"
        }
      ]
    },
    {
      "cell_type": "code",
      "metadata": {
        "colab": {
          "base_uri": "https://localhost:8080/"
        },
        "id": "RqG2VW4gtIl6",
        "outputId": "d54e53e9-0346-4a37-fcdc-3270d5ddc443"
      },
      "source": [
        "! ./ukb_wsd --ppr_w2w --allranks  -K fn3.bin -D DICT_TEST.txt bazi8.txt "
      ],
      "execution_count": null,
      "outputs": [
        {
          "output_type": "stream",
          "text": [
            "!! -v 2.2 ./ukb_wsd --ppr_w2w --allranks -K fn3.bin -D DICT_TEST.txt bazi8.txt\n",
            "ctx_00 w1  12889-n/0.513486 12686-n/0.250107 13574-n/0.121294 10537-n/0.0648875 10547-n/0.0185197 12974-n/0.017036 10558-n/0.0089073 13575-n/0.00369032 12426-n/0.00207246 !! بازی\n"
          ],
          "name": "stdout"
        }
      ]
    },
    {
      "cell_type": "code",
      "metadata": {
        "colab": {
          "base_uri": "https://localhost:8080/"
        },
        "id": "k8Kv242ktH5U",
        "outputId": "fb6f47a4-03f6-40a7-8202-1ce90f0a0cef"
      },
      "source": [
        "! ./ukb_wsd --ppr_w2w --allranks  -K fn3.bin -D DICT_TEST.txt bazi9.txt "
      ],
      "execution_count": null,
      "outputs": [
        {
          "output_type": "stream",
          "text": [
            "!! -v 2.2 ./ukb_wsd --ppr_w2w --allranks -K fn3.bin -D DICT_TEST.txt bazi9.txt\n",
            "ctx_00 w2  13574-n/0.254667 12889-n/0.213124 10537-n/0.211481 12686-n/0.18768 13575-n/0.0457366 10547-n/0.0385176 10558-n/0.0262133 12426-n/0.0144079 12974-n/0.00817234 !! بازی\n"
          ],
          "name": "stdout"
        }
      ]
    },
    {
      "cell_type": "markdown",
      "metadata": {
        "id": "7xGjHpfK9ywd"
      },
      "source": [
        "# فیلم"
      ]
    },
    {
      "cell_type": "code",
      "metadata": {
        "id": "JMYeHMyNdf9C"
      },
      "source": [
        "#num17\n",
        "film= []\n",
        "for i in wikitext:\n",
        "  if \" فیلم \" in i:\n",
        "    if(len(i)<350):\n",
        "         i=i.replace(\"\\u200c\",\"\")\n",
        "         film.append(i.rstrip(\"\\n\"))\n",
        "\n",
        "#film=film[:200]\n"
      ],
      "execution_count": null,
      "outputs": []
    },
    {
      "cell_type": "code",
      "metadata": {
        "id": "ZajyCyzJdg8P"
      },
      "source": [
        "film2=[]\n",
        "c=0\n",
        "sum=0\n",
        "for i in film:\n",
        "    sentence = Sentence(i)\n",
        "    stacked_embeddings.embed(sentence)\n",
        "    for token in sentence:\n",
        "        sum+=token.embedding\n",
        "        c+=1\n",
        "    sum=sum / c\n",
        "    film2.append(np.array(sum))"
      ],
      "execution_count": null,
      "outputs": []
    },
    {
      "cell_type": "code",
      "metadata": {
        "id": "Zxtnqv7o-XIo",
        "colab": {
          "base_uri": "https://localhost:8080/",
          "height": 264
        },
        "outputId": "24f01ad6-e0a7-4e8e-cb05-1895ad0f7cd1"
      },
      "source": [
        "film2=np.array(film2)\n",
        "kmeans = KMeans(n_clusters=5, random_state=0).fit(film2)\n",
        "y_kmeans = kmeans.predict(film2)\n",
        "labels=kmeans.labels_\n",
        "plt.scatter(film2[:, 0], film2[:, 1], c=y_kmeans, cmap='viridis')\n",
        "plt.show()"
      ],
      "execution_count": null,
      "outputs": [
        {
          "output_type": "display_data",
          "data": {
            "image/png": "[encoded data removed]",
            "text/plain": [
              "<Figure size 432x288 with 1 Axes>"
            ]
          },
          "metadata": {
            "tags": [],
            "needs_background": "light"
          }
        }
      ]
    },
    {
      "cell_type": "code",
      "metadata": {
        "id": "7ZyWmv1l-wup",
        "colab": {
          "base_uri": "https://localhost:8080/",
          "height": 406
        },
        "outputId": "eccb9b06-faf3-47a8-d561-7d562983c19a"
      },
      "source": [
        "df = pd.DataFrame(columns=[\"معنی1\",\"معنی2\",\"معنی3\",\"معنی4\",\"معنی5\"])\n",
        "for i in range(200):\n",
        "  if labels[i]==0:\n",
        "    df=df.append({\"معنی1\":film[i]}, ignore_index=True)\n",
        "  elif labels[i]==1:\n",
        "    df=df.append({\"معنی2\":film[i]}, ignore_index=True)\n",
        "  elif labels[i]==2:\n",
        "    df=df.append({\"معنی3\":film[i]}, ignore_index=True)\n",
        "  elif labels[i]==3:\n",
        "    df=df.append({\"معنی4\":film[i]}, ignore_index=True)\n",
        "  elif labels[i]==4:\n",
        "    df=df.append({\"معنی5\":film[i]}, ignore_index=True)\n",
        "\n",
        "df = df.apply(lambda x: pd.Series(x.dropna().values))\n",
        "df = df.fillna('')\n",
        "df"
      ],
      "execution_count": null,
      "outputs": [
        {
          "output_type": "execute_result",
          "data": {
            "text/html": [
              "<div>\n",
              "<style scoped>\n",
              "    .dataframe tbody tr th:only-of-type {\n",
              "        vertical-align: middle;\n",
              "    }\n",
              "\n",
              "    .dataframe tbody tr th {\n",
              "        vertical-align: top;\n",
              "    }\n",
              "\n",
              "    .dataframe thead th {\n",
              "        text-align: right;\n",
              "    }\n",
              "</style>\n",
              "<table border=\"1\" class=\"dataframe\">\n",
              "  <thead>\n",
              "    <tr style=\"text-align: right;\">\n",
              "      <th></th>\n",
              "      <th>معنی1</th>\n",
              "      <th>معنی2</th>\n",
              "      <th>معنی3</th>\n",
              "      <th>معنی4</th>\n",
              "      <th>معنی5</th>\n",
              "    </tr>\n",
              "  </thead>\n",
              "  <tbody>\n",
              "    <tr>\n",
              "      <th>0</th>\n",
              "      <td>=== فیلم و سینما ===</td>\n",
              "      <td>در ۱۸۹۴ او در ترکیب فیلم و صدا تحقیقاتی کرد که...</td>\n",
              "      <td>از دیگر فعالیتهای او در دهه ۹۰ را میتوان به اج...</td>\n",
              "      <td>میرزا ابراهیمخان صحافباشی نخستین سالن نمایش فی...</td>\n",
              "      <td>مدیران استودیوهای فیلم اهل ایالات متحده آمریکا</td>\n",
              "    </tr>\n",
              "    <tr>\n",
              "      <th>1</th>\n",
              "      <td>== فیلم مستند ==</td>\n",
              "      <td></td>\n",
              "      <td></td>\n",
              "      <td>نخستین سینمای مدرن ایرانی نیز گراند سینمای تهر...</td>\n",
              "      <td>با انقلاب ۱۳۵۷، شماری از سینماهای تهران در آتش...</td>\n",
              "    </tr>\n",
              "    <tr>\n",
              "      <th>2</th>\n",
              "      <td>«مسافرت فرهنگ پاپ» گردشی که در آن افراد از محل...</td>\n",
              "      <td></td>\n",
              "      <td></td>\n",
              "      <td></td>\n",
              "      <td>پس از سرنگونی طالبان، سینما به پیشرفتهایی نایل...</td>\n",
              "    </tr>\n",
              "    <tr>\n",
              "      <th>3</th>\n",
              "      <td>دوربین (Camera) : گرفتن عکس یا فیلم از مشتری ی...</td>\n",
              "      <td></td>\n",
              "      <td></td>\n",
              "      <td></td>\n",
              "      <td>این اتمها اغلب با اتمهای دیگر واکنشهایی را انج...</td>\n",
              "    </tr>\n",
              "    <tr>\n",
              "      <th>4</th>\n",
              "      <td>نمایشگاه انفرادی در استودیو فیلم گلستان (تهران...</td>\n",
              "      <td></td>\n",
              "      <td></td>\n",
              "      <td></td>\n",
              "      <td>علی شیرازی (خواننده سنتی) هشت قطعه از اشعار فر...</td>\n",
              "    </tr>\n",
              "    <tr>\n",
              "      <th>...</th>\n",
              "      <td>...</td>\n",
              "      <td>...</td>\n",
              "      <td>...</td>\n",
              "      <td>...</td>\n",
              "      <td>...</td>\n",
              "    </tr>\n",
              "    <tr>\n",
              "      <th>183</th>\n",
              "      <td>در سال ۱۹۶۲ فیلم «جادهٔ مارپیچ» به کارگرانی را...</td>\n",
              "      <td></td>\n",
              "      <td></td>\n",
              "      <td></td>\n",
              "      <td></td>\n",
              "    </tr>\n",
              "    <tr>\n",
              "      <th>184</th>\n",
              "      <td>در فیلم \"سکوت بره هاً به نام سورینام به عنوان ...</td>\n",
              "      <td></td>\n",
              "      <td></td>\n",
              "      <td></td>\n",
              "      <td></td>\n",
              "    </tr>\n",
              "    <tr>\n",
              "      <th>185</th>\n",
              "      <td>کارگردانان فیلم اهل فرانسه</td>\n",
              "      <td></td>\n",
              "      <td></td>\n",
              "      <td></td>\n",
              "      <td></td>\n",
              "    </tr>\n",
              "    <tr>\n",
              "      <th>186</th>\n",
              "      <td>موزه هنر اسلامی دوحه بزرگترین مرکز فرهنگ اسلام...</td>\n",
              "      <td></td>\n",
              "      <td></td>\n",
              "      <td></td>\n",
              "      <td></td>\n",
              "    </tr>\n",
              "    <tr>\n",
              "      <th>187</th>\n",
              "      <td>صنعت فیلمسازی هند بزرگترین صنعت سینمای دنیاست....</td>\n",
              "      <td></td>\n",
              "      <td></td>\n",
              "      <td></td>\n",
              "      <td></td>\n",
              "    </tr>\n",
              "  </tbody>\n",
              "</table>\n",
              "<p>188 rows × 5 columns</p>\n",
              "</div>"
            ],
            "text/plain": [
              "                                                 معنی1  ...                                              معنی5\n",
              "0                                 === فیلم و سینما ===  ...     مدیران استودیوهای فیلم اهل ایالات متحده آمریکا\n",
              "1                                     == فیلم مستند ==  ...  با انقلاب ۱۳۵۷، شماری از سینماهای تهران در آتش...\n",
              "2    «مسافرت فرهنگ پاپ» گردشی که در آن افراد از محل...  ...  پس از سرنگونی طالبان، سینما به پیشرفتهایی نایل...\n",
              "3    دوربین (Camera) : گرفتن عکس یا فیلم از مشتری ی...  ...  این اتمها اغلب با اتمهای دیگر واکنشهایی را انج...\n",
              "4    نمایشگاه انفرادی در استودیو فیلم گلستان (تهران...  ...  علی شیرازی (خواننده سنتی) هشت قطعه از اشعار فر...\n",
              "..                                                 ...  ...                                                ...\n",
              "183  در سال ۱۹۶۲ فیلم «جادهٔ مارپیچ» به کارگرانی را...  ...                                                   \n",
              "184  در فیلم \"سکوت بره هاً به نام سورینام به عنوان ...  ...                                                   \n",
              "185                         کارگردانان فیلم اهل فرانسه  ...                                                   \n",
              "186  موزه هنر اسلامی دوحه بزرگترین مرکز فرهنگ اسلام...  ...                                                   \n",
              "187  صنعت فیلمسازی هند بزرگترین صنعت سینمای دنیاست....  ...                                                   \n",
              "\n",
              "[188 rows x 5 columns]"
            ]
          },
          "metadata": {
            "tags": []
          },
          "execution_count": 288
        }
      ]
    },
    {
      "cell_type": "code",
      "metadata": {
        "colab": {
          "base_uri": "https://localhost:8080/"
        },
        "id": "WmLT1II4poub",
        "outputId": "85a42857-e844-488a-e0c5-a9f7f858cfb0"
      },
      "source": [
        "! ./ukb_wsd --ppr_w2w --allranks  -K fn3.bin -D DICT_TEST.txt film1.txt "
      ],
      "execution_count": null,
      "outputs": [
        {
          "output_type": "stream",
          "text": [
            "!! -v 2.2 ./ukb_wsd --ppr_w2w --allranks -K fn3.bin -D DICT_TEST.txt film1.txt\n",
            "ctx_00 w1  13094-n/0.757795 13501-n/0.235943 10353-n/0.0044784 13500-n/0.00139324 10149-n/0.000390043 !! فیلم\n"
          ],
          "name": "stdout"
        }
      ]
    },
    {
      "cell_type": "code",
      "metadata": {
        "colab": {
          "base_uri": "https://localhost:8080/"
        },
        "id": "jm_XtMzEppLq",
        "outputId": "8a1687eb-7fbd-43ee-e762-930dac16e7f0"
      },
      "source": [
        "! ./ukb_wsd --ppr_w2w --allranks  -K fn3.bin -D DICT_TEST.txt film2.txt "
      ],
      "execution_count": null,
      "outputs": [
        {
          "output_type": "stream",
          "text": [
            "!! -v 2.2 ./ukb_wsd --ppr_w2w --allranks -K fn3.bin -D DICT_TEST.txt film2.txt\n",
            "ctx_00 w3  13094-n/0.489347 13501-n/0.459474 10353-n/0.0242906 13500-n/0.0214455 10149-n/0.00544281 !! فیلم\n"
          ],
          "name": "stdout"
        }
      ]
    },
    {
      "cell_type": "code",
      "metadata": {
        "colab": {
          "base_uri": "https://localhost:8080/"
        },
        "id": "kfibWoZpppiS",
        "outputId": "7f4380a9-0dc6-48e3-84f9-95aeafe7d465"
      },
      "source": [
        "! ./ukb_wsd --ppr_w2w --allranks  -K fn3.bin -D DICT_TEST.txt film3.txt "
      ],
      "execution_count": null,
      "outputs": [
        {
          "output_type": "stream",
          "text": [
            "!! -v 2.2 ./ukb_wsd --ppr_w2w --allranks -K fn3.bin -D DICT_TEST.txt film3.txt\n",
            "ctx_00 w6  13094-n/0.706291 13501-n/0.195053 10353-n/0.0628244 13500-n/0.035037 10149-n/0.000794672 !! فیلم\n"
          ],
          "name": "stdout"
        }
      ]
    },
    {
      "cell_type": "code",
      "metadata": {
        "colab": {
          "base_uri": "https://localhost:8080/"
        },
        "id": "wMoGQJn7pp3C",
        "outputId": "07e27857-032c-4fab-b308-6cfa98482173"
      },
      "source": [
        "! ./ukb_wsd --ppr_w2w --allranks  -K fn3.bin -D DICT_TEST.txt film4.txt "
      ],
      "execution_count": null,
      "outputs": [
        {
          "output_type": "stream",
          "text": [
            "!! -v 2.2 ./ukb_wsd --ppr_w2w --allranks -K fn3.bin -D DICT_TEST.txt film4.txt\n",
            "ctx_00 w2  13094-n/0.627679 13501-n/0.35058 13500-n/0.013011 10353-n/0.00794837 10149-n/0.000782502 !! فیلم\n"
          ],
          "name": "stdout"
        }
      ]
    },
    {
      "cell_type": "code",
      "metadata": {
        "colab": {
          "base_uri": "https://localhost:8080/"
        },
        "id": "OXlGe8-cpqTH",
        "outputId": "0370b65b-16cc-4ed7-b7f6-7f5a65861598"
      },
      "source": [
        "! ./ukb_wsd --ppr_w2w --allranks  -K fn3.bin -D DICT_TEST.txt film5.txt "
      ],
      "execution_count": null,
      "outputs": [
        {
          "output_type": "stream",
          "text": [
            "!! -v 2.2 ./ukb_wsd --ppr_w2w --allranks -K fn3.bin -D DICT_TEST.txt film5.txt\n",
            "ctx_00 w1  13094-n/0.692729 13501-n/0.293768 10353-n/0.00982126 13500-n/0.00331958 10149-n/0.000362514 !! فیلم\n"
          ],
          "name": "stdout"
        }
      ]
    },
    {
      "cell_type": "markdown",
      "metadata": {
        "id": "geYUxZD5_IpR"
      },
      "source": [
        "# هوش"
      ]
    },
    {
      "cell_type": "code",
      "metadata": {
        "id": "XZXmoIFydsCm"
      },
      "source": [
        "#num18\n",
        "hosh= []\n",
        "for i in wikitext:\n",
        "  if \" هوش \" in i:\n",
        "    if(len(i)<350):\n",
        "         i=i.replace(\"\\u200c\",\"\")\n",
        "         hosh.append(i.rstrip(\"\\n\"))\n",
        "\n",
        "#hosh=hosh[:200]\n"
      ],
      "execution_count": null,
      "outputs": []
    },
    {
      "cell_type": "code",
      "metadata": {
        "id": "JZnVfT_mduIF"
      },
      "source": [
        "hosh2=[]\n",
        "c=0\n",
        "sum=0\n",
        "for i in hosh:\n",
        "    sentence = Sentence(i)\n",
        "    stacked_embeddings.embed(sentence)\n",
        "    for token in sentence:\n",
        "        sum+=token.embedding\n",
        "        c+=1\n",
        "    sum=sum / c\n",
        "    hosh2.append(np.array(sum))"
      ],
      "execution_count": null,
      "outputs": []
    },
    {
      "cell_type": "code",
      "metadata": {
        "id": "7FQWcAHT_piS",
        "colab": {
          "base_uri": "https://localhost:8080/",
          "height": 264
        },
        "outputId": "1646ec48-e996-4f99-bf08-691470042b1c"
      },
      "source": [
        "hosh2=np.array(hosh2)\n",
        "kmeans = KMeans(n_clusters=1, random_state=0).fit(hosh2)\n",
        "y_kmeans = kmeans.predict(hosh2)\n",
        "labels=kmeans.labels_\n",
        "plt.scatter(hosh2[:, 0], hosh2[:, 1], c=y_kmeans, cmap='viridis')\n",
        "plt.show()"
      ],
      "execution_count": null,
      "outputs": [
        {
          "output_type": "display_data",
          "data": {
            "image/png": "[encoded data removed]",
            "text/plain": [
              "<Figure size 432x288 with 1 Axes>"
            ]
          },
          "metadata": {
            "tags": [],
            "needs_background": "light"
          }
        }
      ]
    },
    {
      "cell_type": "code",
      "metadata": {
        "id": "NLMXvolt_167",
        "colab": {
          "base_uri": "https://localhost:8080/",
          "height": 406
        },
        "outputId": "ef9fc1cf-dda7-40ae-da11-8b87c8953880"
      },
      "source": [
        "df = pd.DataFrame(columns=[\"معنی1\"])\n",
        "for i in range(200):\n",
        "  if labels[i]==0:\n",
        "    df=df.append({\"معنی1\":hosh[i]}, ignore_index=True)\n",
        "\n",
        "df = df.apply(lambda x: pd.Series(x.dropna().values))\n",
        "df = df.fillna('')\n",
        "df"
      ],
      "execution_count": null,
      "outputs": [
        {
          "output_type": "execute_result",
          "data": {
            "text/html": [
              "<div>\n",
              "<style scoped>\n",
              "    .dataframe tbody tr th:only-of-type {\n",
              "        vertical-align: middle;\n",
              "    }\n",
              "\n",
              "    .dataframe tbody tr th {\n",
              "        vertical-align: top;\n",
              "    }\n",
              "\n",
              "    .dataframe thead th {\n",
              "        text-align: right;\n",
              "    }\n",
              "</style>\n",
              "<table border=\"1\" class=\"dataframe\">\n",
              "  <thead>\n",
              "    <tr style=\"text-align: right;\">\n",
              "      <th></th>\n",
              "      <th>معنی1</th>\n",
              "    </tr>\n",
              "  </thead>\n",
              "  <tbody>\n",
              "    <tr>\n",
              "      <th>0</th>\n",
              "      <td>ادیسون گفته بود که به خدا، چنانکه در الهیات مط...</td>\n",
              "    </tr>\n",
              "    <tr>\n",
              "      <th>1</th>\n",
              "      <td>وی در سال ۲۰۱۴ خواستار پایان دادن به جنگ داخلی...</td>\n",
              "    </tr>\n",
              "    <tr>\n",
              "      <th>2</th>\n",
              "      <td>در همین سالها ریچارد استالمن در آزمایشگاه هوش ...</td>\n",
              "    </tr>\n",
              "    <tr>\n",
              "      <th>3</th>\n",
              "      <td>از آن جمله فراهنجارها میتوان به بخت (شانس)، هو...</td>\n",
              "    </tr>\n",
              "    <tr>\n",
              "      <th>4</th>\n",
              "      <td>=== هوش مصنوعی و تکینگی فناوری ===</td>\n",
              "    </tr>\n",
              "    <tr>\n",
              "      <th>...</th>\n",
              "      <td>...</td>\n",
              "    </tr>\n",
              "    <tr>\n",
              "      <th>195</th>\n",
              "      <td>از متهمان آزمونهای رورشاخ، درک موضوعی و وکسلر-...</td>\n",
              "    </tr>\n",
              "    <tr>\n",
              "      <th>196</th>\n",
              "      <td>نظامالدین فقیه، هوش مصنوعی در پیش بینی ایست خط...</td>\n",
              "    </tr>\n",
              "    <tr>\n",
              "      <th>197</th>\n",
              "      <td>نرمافزار هوش مصنوعی IFS Illusions</td>\n",
              "    </tr>\n",
              "    <tr>\n",
              "      <th>198</th>\n",
              "      <td>| هوش مصنوعی || هالی جوئل آزمنت|| پسربچه نقش ا...</td>\n",
              "    </tr>\n",
              "    <tr>\n",
              "      <th>199</th>\n",
              "      <td>از نثر فارسی او تنها نمونهای که در دیوانهای چا...</td>\n",
              "    </tr>\n",
              "  </tbody>\n",
              "</table>\n",
              "<p>200 rows × 1 columns</p>\n",
              "</div>"
            ],
            "text/plain": [
              "                                                 معنی1\n",
              "0    ادیسون گفته بود که به خدا، چنانکه در الهیات مط...\n",
              "1    وی در سال ۲۰۱۴ خواستار پایان دادن به جنگ داخلی...\n",
              "2    در همین سالها ریچارد استالمن در آزمایشگاه هوش ...\n",
              "3    از آن جمله فراهنجارها میتوان به بخت (شانس)، هو...\n",
              "4                   === هوش مصنوعی و تکینگی فناوری ===\n",
              "..                                                 ...\n",
              "195  از متهمان آزمونهای رورشاخ، درک موضوعی و وکسلر-...\n",
              "196  نظامالدین فقیه، هوش مصنوعی در پیش بینی ایست خط...\n",
              "197                  نرمافزار هوش مصنوعی IFS Illusions\n",
              "198  | هوش مصنوعی || هالی جوئل آزمنت|| پسربچه نقش ا...\n",
              "199  از نثر فارسی او تنها نمونهای که در دیوانهای چا...\n",
              "\n",
              "[200 rows x 1 columns]"
            ]
          },
          "metadata": {
            "tags": []
          },
          "execution_count": 297
        }
      ]
    },
    {
      "cell_type": "code",
      "metadata": {
        "colab": {
          "base_uri": "https://localhost:8080/"
        },
        "id": "ebpusd2Cn5ZU",
        "outputId": "d7b9492a-15c9-4984-cc83-9da38d0286f0"
      },
      "source": [
        "! ./ukb_wsd --ppr_w2w --allranks  -K fn3.bin -D DICT_TEST.txt hosh.txt "
      ],
      "execution_count": null,
      "outputs": [
        {
          "output_type": "stream",
          "text": [
            "!! -v 2.2 ./ukb_wsd --ppr_w2w --allranks -K fn3.bin -D DICT_TEST.txt hosh.txt\n",
            "ctx_00 w1  11317-n/0 !! هوش\n"
          ],
          "name": "stdout"
        }
      ]
    },
    {
      "cell_type": "markdown",
      "metadata": {
        "id": "QGpKkbv6AIwE"
      },
      "source": [
        "# سال"
      ]
    },
    {
      "cell_type": "code",
      "metadata": {
        "id": "H5pfCRnXd5pa"
      },
      "source": [
        "#num19\n",
        "sal= []\n",
        "for i in wikitext:\n",
        "  if \" سال \" in i:\n",
        "    if(len(i)<350):\n",
        "         i=i.replace(\"\\u200c\",\"\")\n",
        "         sal.append(i.rstrip(\"\\n\"))\n",
        "\n",
        "#sal=sal[:200]\n"
      ],
      "execution_count": null,
      "outputs": []
    },
    {
      "cell_type": "code",
      "metadata": {
        "id": "sOmo3zJvd7hJ"
      },
      "source": [
        "sal2=[]\n",
        "c=0\n",
        "sum=0\n",
        "for i in sal:\n",
        "    sentence = Sentence(i)\n",
        "    stacked_embeddings.embed(sentence)\n",
        "    for token in sentence:\n",
        "        sum+=token.embedding\n",
        "        c+=1\n",
        "    sum=sum / c\n",
        "    sal2.append(np.array(sum))"
      ],
      "execution_count": null,
      "outputs": []
    },
    {
      "cell_type": "code",
      "metadata": {
        "id": "nWQugU3PAzRM",
        "colab": {
          "base_uri": "https://localhost:8080/",
          "height": 264
        },
        "outputId": "2783eb6c-f52b-46b2-d42a-312aa476bc97"
      },
      "source": [
        "sal2=np.array(sal2)\n",
        "kmeans = KMeans(n_clusters=9, random_state=0).fit(sal2)\n",
        "y_kmeans = kmeans.predict(sal2)\n",
        "labels=kmeans.labels_\n",
        "plt.scatter(sal2[:, 0], sal2[:, 1], c=y_kmeans, cmap='viridis')\n",
        "plt.show()"
      ],
      "execution_count": null,
      "outputs": [
        {
          "output_type": "display_data",
          "data": {
            "image/png": "[encoded data removed]",
            "text/plain": [
              "<Figure size 432x288 with 1 Axes>"
            ]
          },
          "metadata": {
            "tags": [],
            "needs_background": "light"
          }
        }
      ]
    },
    {
      "cell_type": "code",
      "metadata": {
        "id": "IsRr3uaKBAHk",
        "colab": {
          "base_uri": "https://localhost:8080/",
          "height": 623
        },
        "outputId": "5fec498f-1642-4f4f-ed9b-92dda29f0aa9"
      },
      "source": [
        "df = pd.DataFrame(columns=[\"معنی1\",\"معنی2\",\"معنی3\",\"معنی4\",\"معنی5\",\"معنی6\",\"معنی7\",\"معنی8\",\"معنی9\"])\n",
        "for i in range(200):\n",
        "  if labels[i]==0:\n",
        "    df=df.append({\"معنی1\":sal[i]}, ignore_index=True)\n",
        "  elif labels[i]==1:\n",
        "    df=df.append({\"معنی2\":sal[i]}, ignore_index=True)\n",
        "  elif labels[i]==2:\n",
        "    df=df.append({\"معنی3\":sal[i]}, ignore_index=True)\n",
        "  elif labels[i]==3:\n",
        "    df=df.append({\"معنی4\":sal[i]}, ignore_index=True)\n",
        "  elif labels[i]==4:\n",
        "    df=df.append({\"معنی5\":sal[i]}, ignore_index=True)\n",
        "  elif labels[i]==5:\n",
        "    df=df.append({\"معنی6\":sal[i]}, ignore_index=True)\n",
        "  elif labels[i]==6:\n",
        "    df=df.append({\"معنی7\":sal[i]}, ignore_index=True)\n",
        "  elif labels[i]==7:\n",
        "    df=df.append({\"معنی8\":sal[i]}, ignore_index=True)\n",
        "  elif labels[i]==8:\n",
        "    df=df.append({\"معنی9\":sal[i]}, ignore_index=True)\n",
        "\n",
        "df = df.apply(lambda x: pd.Series(x.dropna().values))\n",
        "df = df.fillna('')\n",
        "df"
      ],
      "execution_count": null,
      "outputs": [
        {
          "output_type": "execute_result",
          "data": {
            "text/html": [
              "<div>\n",
              "<style scoped>\n",
              "    .dataframe tbody tr th:only-of-type {\n",
              "        vertical-align: middle;\n",
              "    }\n",
              "\n",
              "    .dataframe tbody tr th {\n",
              "        vertical-align: top;\n",
              "    }\n",
              "\n",
              "    .dataframe thead th {\n",
              "        text-align: right;\n",
              "    }\n",
              "</style>\n",
              "<table border=\"1\" class=\"dataframe\">\n",
              "  <thead>\n",
              "    <tr style=\"text-align: right;\">\n",
              "      <th></th>\n",
              "      <th>معنی1</th>\n",
              "      <th>معنی2</th>\n",
              "      <th>معنی3</th>\n",
              "      <th>معنی4</th>\n",
              "      <th>معنی5</th>\n",
              "      <th>معنی6</th>\n",
              "      <th>معنی7</th>\n",
              "      <th>معنی8</th>\n",
              "      <th>معنی9</th>\n",
              "    </tr>\n",
              "  </thead>\n",
              "  <tbody>\n",
              "    <tr>\n",
              "      <th>0</th>\n",
              "      <td>سایر منابع مربوط به جشنواره روز آزادی نرمافزار...</td>\n",
              "      <td>=== یادوارهٔ هفتصدمین سال تصنیف گلستان و بوستا...</td>\n",
              "      <td>سالنامهها یا وقایعنامهها (به انگلیسی: Annals، ...</td>\n",
              "      <td>در سالهای ۱۹۹۰ و ۲۰۰۰ واژه ویکی هم به وبگاههای...</td>\n",
              "      <td>۱۹۰۹: ماهاتما گاندی: یکی از جدیدترین انتشارات ...</td>\n",
              "      <td>سعدی به احتمال زیاد در سال ۶۰۶ هجری قمری (براب...</td>\n",
              "      <td>این مجموعه در سال ۱۳۵۴ در فهرست آثار ملی ایران...</td>\n",
              "      <td>سعدی در حدود سال ۶۵۵ قمری به شیراز بازگشت و در...</td>\n",
              "      <td>کتاب گلستان یکی از نخستین کتابهای فارسی است که...</td>\n",
              "    </tr>\n",
              "    <tr>\n",
              "      <th>1</th>\n",
              "      <td>تاریخ مرگ سعدی را در منابع گوناگون، یکی از سال...</td>\n",
              "      <td>طول زمانیِ سال گریگوری -&gt; ۳۶۵٬۲۴۲۵ روز = (۳:۴۰...</td>\n",
              "      <td></td>\n",
              "      <td></td>\n",
              "      <td></td>\n",
              "      <td></td>\n",
              "      <td>در سال تولد آیزاک نیوتن، جنگهای داخلی انگلستان...</td>\n",
              "      <td></td>\n",
              "      <td>مرکز سعدیشناسی، از سال ۱۳۸۱ خورشیدی، روز ۱ ارد...</td>\n",
              "    </tr>\n",
              "    <tr>\n",
              "      <th>2</th>\n",
              "      <td>یکی از نخستین رمانهای فارسی، مجموعهٔ سهگانهای ...</td>\n",
              "      <td>دورهٔ عقبماندگی یکروزهٔ گاهشماری گریگوری -&gt; ۳۳...</td>\n",
              "      <td></td>\n",
              "      <td></td>\n",
              "      <td></td>\n",
              "      <td></td>\n",
              "      <td>در ۱۶۹۶ نیوتن رئیس ضرابخانهٔ سلطنتی و چند سال ...</td>\n",
              "      <td></td>\n",
              "      <td>سال ۱۳۱۶ خورشیدی مصادف با ۱۳۵۶ هجری قمری، هفتص...</td>\n",
              "    </tr>\n",
              "    <tr>\n",
              "      <th>3</th>\n",
              "      <td>محل دفن سعدی، خانقاهی بود که او در سالهای پایا...</td>\n",
              "      <td>شب سال نو</td>\n",
              "      <td></td>\n",
              "      <td></td>\n",
              "      <td></td>\n",
              "      <td></td>\n",
              "      <td>در کنار کارهای علمی، نیوتن از مسئولیتهای حکومت...</td>\n",
              "      <td></td>\n",
              "      <td>ابن بزاز عارف و نویسندهٔ سدهٔ هشتم و نویسندهٔ ...</td>\n",
              "    </tr>\n",
              "    <tr>\n",
              "      <th>4</th>\n",
              "      <td>در سال ۱۱۸۷ هجری قمری به دستور کریمخان زند، یک...</td>\n",
              "      <td>از آثار عماد میتوان به «یک شب در بهشت» مثنوی ح...</td>\n",
              "      <td></td>\n",
              "      <td></td>\n",
              "      <td></td>\n",
              "      <td></td>\n",
              "      <td>هر سال در گاهشماری گرگوری ۱۲ ماه دارد. نام ماه...</td>\n",
              "      <td></td>\n",
              "      <td>دیوان قصاید و غزلیات این دیوان را جامی در سال ...</td>\n",
              "    </tr>\n",
              "    <tr>\n",
              "      <th>...</th>\n",
              "      <td>...</td>\n",
              "      <td>...</td>\n",
              "      <td>...</td>\n",
              "      <td>...</td>\n",
              "      <td>...</td>\n",
              "      <td>...</td>\n",
              "      <td>...</td>\n",
              "      <td>...</td>\n",
              "      <td>...</td>\n",
              "    </tr>\n",
              "    <tr>\n",
              "      <th>141</th>\n",
              "      <td></td>\n",
              "      <td>اولین دانشگاه ساخته شده در استان مدرسه علوم عا...</td>\n",
              "      <td></td>\n",
              "      <td></td>\n",
              "      <td></td>\n",
              "      <td></td>\n",
              "      <td></td>\n",
              "      <td></td>\n",
              "      <td></td>\n",
              "    </tr>\n",
              "    <tr>\n",
              "      <th>142</th>\n",
              "      <td></td>\n",
              "      <td>استان مرکزی دارای ۷۸ مرکز آموزش عالی است که از...</td>\n",
              "      <td></td>\n",
              "      <td></td>\n",
              "      <td></td>\n",
              "      <td></td>\n",
              "      <td></td>\n",
              "      <td></td>\n",
              "      <td></td>\n",
              "    </tr>\n",
              "    <tr>\n",
              "      <th>143</th>\n",
              "      <td></td>\n",
              "      <td>تیم فوتسال شن سا: قهرمان نخستین دوره جام باشگا...</td>\n",
              "      <td></td>\n",
              "      <td></td>\n",
              "      <td></td>\n",
              "      <td></td>\n",
              "      <td></td>\n",
              "      <td></td>\n",
              "      <td></td>\n",
              "    </tr>\n",
              "    <tr>\n",
              "      <th>144</th>\n",
              "      <td></td>\n",
              "      <td>تیم فوتسال شهرداری ساوه: نماینده استان در لیگ ...</td>\n",
              "      <td></td>\n",
              "      <td></td>\n",
              "      <td></td>\n",
              "      <td></td>\n",
              "      <td></td>\n",
              "      <td></td>\n",
              "      <td></td>\n",
              "    </tr>\n",
              "    <tr>\n",
              "      <th>145</th>\n",
              "      <td></td>\n",
              "      <td>خُمِیْن یکی از شهرهای استان مرکزی است که در جن...</td>\n",
              "      <td></td>\n",
              "      <td></td>\n",
              "      <td></td>\n",
              "      <td></td>\n",
              "      <td></td>\n",
              "      <td></td>\n",
              "      <td></td>\n",
              "    </tr>\n",
              "  </tbody>\n",
              "</table>\n",
              "<p>146 rows × 9 columns</p>\n",
              "</div>"
            ],
            "text/plain": [
              "                                                 معنی1  ...                                              معنی9\n",
              "0    سایر منابع مربوط به جشنواره روز آزادی نرمافزار...  ...  کتاب گلستان یکی از نخستین کتابهای فارسی است که...\n",
              "1    تاریخ مرگ سعدی را در منابع گوناگون، یکی از سال...  ...  مرکز سعدیشناسی، از سال ۱۳۸۱ خورشیدی، روز ۱ ارد...\n",
              "2    یکی از نخستین رمانهای فارسی، مجموعهٔ سهگانهای ...  ...  سال ۱۳۱۶ خورشیدی مصادف با ۱۳۵۶ هجری قمری، هفتص...\n",
              "3    محل دفن سعدی، خانقاهی بود که او در سالهای پایا...  ...  ابن بزاز عارف و نویسندهٔ سدهٔ هشتم و نویسندهٔ ...\n",
              "4    در سال ۱۱۸۷ هجری قمری به دستور کریمخان زند، یک...  ...  دیوان قصاید و غزلیات این دیوان را جامی در سال ...\n",
              "..                                                 ...  ...                                                ...\n",
              "141                                                     ...                                                   \n",
              "142                                                     ...                                                   \n",
              "143                                                     ...                                                   \n",
              "144                                                     ...                                                   \n",
              "145                                                     ...                                                   \n",
              "\n",
              "[146 rows x 9 columns]"
            ]
          },
          "metadata": {
            "tags": []
          },
          "execution_count": 302
        }
      ]
    },
    {
      "cell_type": "code",
      "metadata": {
        "colab": {
          "base_uri": "https://localhost:8080/"
        },
        "id": "pDBnDFvenQy1",
        "outputId": "c8773860-5106-4295-ac63-e786b9b854b0"
      },
      "source": [
        "! ./ukb_wsd --ppr_w2w --allranks  -K fn3.bin -D DICT_TEST.txt sal1.txt "
      ],
      "execution_count": null,
      "outputs": [
        {
          "output_type": "stream",
          "text": [
            "!! -v 2.2 ./ukb_wsd --ppr_w2w --allranks -K fn3.bin -D DICT_TEST.txt sal1.txt\n",
            "ctx_00 w1  12651-n/0.555537 12654-n/0.274856 12652-n/0.0645026 12653-n/0.0494019 13238-n/0.0224183 28564-n/0.0117997 13471-n/0.0095572 12915-n/0.00655555 13473-n/0.00537178 !! سال\n"
          ],
          "name": "stdout"
        }
      ]
    },
    {
      "cell_type": "code",
      "metadata": {
        "colab": {
          "base_uri": "https://localhost:8080/"
        },
        "id": "EMZviOtznRbU",
        "outputId": "b5b1012f-eea2-4503-9c62-6970e0d53e51"
      },
      "source": [
        "! ./ukb_wsd --ppr_w2w --allranks  -K fn3.bin -D DICT_TEST.txt sal2.txt "
      ],
      "execution_count": null,
      "outputs": [
        {
          "output_type": "stream",
          "text": [
            "!! -v 2.2 ./ukb_wsd --ppr_w2w --allranks -K fn3.bin -D DICT_TEST.txt sal2.txt\n",
            "ctx_00 w1  13238-n/0.861784 12653-n/0.0311975 12654-n/0.0248706 12915-n/0.0214915 12651-n/0.0205007 28564-n/0.0127412 12652-n/0.0108124 13471-n/0.00939588 13473-n/0.00720609 !! سال\n"
          ],
          "name": "stdout"
        }
      ]
    },
    {
      "cell_type": "code",
      "metadata": {
        "colab": {
          "base_uri": "https://localhost:8080/"
        },
        "id": "Eq0UWT-8nR27",
        "outputId": "a6bf0e64-43d2-424d-c20b-d264a4596195"
      },
      "source": [
        "! ./ukb_wsd --ppr_w2w --allranks  -K fn3.bin -D DICT_TEST.txt sal3.txt "
      ],
      "execution_count": null,
      "outputs": [
        {
          "output_type": "stream",
          "text": [
            "!! -v 2.2 ./ukb_wsd --ppr_w2w --allranks -K fn3.bin -D DICT_TEST.txt sal3.txt\n",
            "ctx_00 w2  12651-n/0.336876 12653-n/0.233479 12915-n/0.150839 12654-n/0.141016 12652-n/0.0836104 28564-n/0.0303889 13471-n/0.0114804 13238-n/0.0103433 13473-n/0.0019667 !! سال\n"
          ],
          "name": "stdout"
        }
      ]
    },
    {
      "cell_type": "code",
      "metadata": {
        "colab": {
          "base_uri": "https://localhost:8080/"
        },
        "id": "I27l6P9ZnSKY",
        "outputId": "8acbd612-0853-4a43-9cc3-d375437217b3"
      },
      "source": [
        "! ./ukb_wsd --ppr_w2w --allranks  -K fn3.bin -D DICT_TEST.txt sal4.txt "
      ],
      "execution_count": null,
      "outputs": [
        {
          "output_type": "stream",
          "text": [
            "!! -v 2.2 ./ukb_wsd --ppr_w2w --allranks -K fn3.bin -D DICT_TEST.txt sal4.txt\n",
            "ctx_00 w6  13238-n/0.233822 12653-n/0.203995 12915-n/0.120798 12651-n/0.116268 12654-n/0.0884825 28564-n/0.0759225 13471-n/0.0656413 12652-n/0.0484152 13473-n/0.0466558 !! سال\n"
          ],
          "name": "stdout"
        }
      ]
    },
    {
      "cell_type": "code",
      "metadata": {
        "colab": {
          "base_uri": "https://localhost:8080/"
        },
        "id": "JVk1Vq51nSlD",
        "outputId": "aed0b493-ac0d-4d5d-c981-d59d930e0e2e"
      },
      "source": [
        "! ./ukb_wsd --ppr_w2w --allranks  -K fn3.bin -D DICT_TEST.txt sal5.txt "
      ],
      "execution_count": null,
      "outputs": [
        {
          "output_type": "stream",
          "text": [
            "!! -v 2.2 ./ukb_wsd --ppr_w2w --allranks -K fn3.bin -D DICT_TEST.txt sal5.txt\n",
            "ctx_00 w6  12651-n/0.212466 13238-n/0.170251 12653-n/0.14887 12915-n/0.121553 13471-n/0.0994716 12654-n/0.0795258 28564-n/0.0749168 13473-n/0.0467278 12652-n/0.0462192 !! سال\n"
          ],
          "name": "stdout"
        }
      ]
    },
    {
      "cell_type": "code",
      "metadata": {
        "colab": {
          "base_uri": "https://localhost:8080/"
        },
        "id": "vQqWE121nS-z",
        "outputId": "80fb478b-fe0e-4dac-8160-8915b6f66845"
      },
      "source": [
        "! ./ukb_wsd --ppr_w2w --allranks  -K fn3.bin -D DICT_TEST.txt sal6.txt "
      ],
      "execution_count": null,
      "outputs": [
        {
          "output_type": "stream",
          "text": [
            "!! -v 2.2 ./ukb_wsd --ppr_w2w --allranks -K fn3.bin -D DICT_TEST.txt sal6.txt\n",
            "ctx_00 w2  12651-n/0.558678 12654-n/0.27648 12652-n/0.0665231 12653-n/0.0504914 13238-n/0.013387 13471-n/0.0123772 28564-n/0.0111537 12915-n/0.00577793 13473-n/0.00513189 !! سال\n"
          ],
          "name": "stdout"
        }
      ]
    },
    {
      "cell_type": "code",
      "metadata": {
        "colab": {
          "base_uri": "https://localhost:8080/"
        },
        "id": "AwFATaMqnTYQ",
        "outputId": "7441d37c-1585-4833-a4f7-424c82497dd4"
      },
      "source": [
        "! ./ukb_wsd --ppr_w2w --allranks  -K fn3.bin -D DICT_TEST.txt sal7.txt "
      ],
      "execution_count": null,
      "outputs": [
        {
          "output_type": "stream",
          "text": [
            "!! -v 2.2 ./ukb_wsd --ppr_w2w --allranks -K fn3.bin -D DICT_TEST.txt sal7.txt\n",
            "ctx_00 w1  12653-n/0.244119 12651-n/0.144155 12915-n/0.134976 28564-n/0.130723 13471-n/0.119052 12654-n/0.102251 13473-n/0.0599999 12652-n/0.0461548 13238-n/0.0185686 !! سال\n"
          ],
          "name": "stdout"
        }
      ]
    },
    {
      "cell_type": "code",
      "metadata": {
        "colab": {
          "base_uri": "https://localhost:8080/"
        },
        "id": "-KVJ4q8-nUMe",
        "outputId": "d4835c00-0974-4588-f5d7-9356fa66ab72"
      },
      "source": [
        "! ./ukb_wsd --ppr_w2w --allranks  -K fn3.bin -D DICT_TEST.txt sal8.txt "
      ],
      "execution_count": null,
      "outputs": [
        {
          "output_type": "stream",
          "text": [
            "!! -v 2.2 ./ukb_wsd --ppr_w2w --allranks -K fn3.bin -D DICT_TEST.txt sal8.txt\n",
            "ctx_00 w2  12652-n/0.23311 12651-n/0.20475 12654-n/0.186627 12653-n/0.140937 28564-n/0.102783 13473-n/0.049639 13471-n/0.0342391 12915-n/0.0266195 13238-n/0.0212961 !! سال\n"
          ],
          "name": "stdout"
        }
      ]
    },
    {
      "cell_type": "code",
      "metadata": {
        "colab": {
          "base_uri": "https://localhost:8080/"
        },
        "id": "sY27Or3_nTt1",
        "outputId": "d6a0fc28-dbfe-456c-bd9c-98ccaa8343ef"
      },
      "source": [
        "! ./ukb_wsd --ppr_w2w --allranks  -K fn3.bin -D DICT_TEST.txt sal9.txt "
      ],
      "execution_count": null,
      "outputs": [
        {
          "output_type": "stream",
          "text": [
            "!! -v 2.2 ./ukb_wsd --ppr_w2w --allranks -K fn3.bin -D DICT_TEST.txt sal9.txt\n",
            "ctx_00 w1  12915-n/0.222406 12653-n/0.165198 12651-n/0.14572 13238-n/0.140048 13471-n/0.0936413 12654-n/0.0734527 12652-n/0.0649534 28564-n/0.0620864 13473-n/0.0324942 !! سال\n"
          ],
          "name": "stdout"
        }
      ]
    },
    {
      "cell_type": "markdown",
      "metadata": {
        "id": "prdU_G9WBK25"
      },
      "source": [
        "# زمین"
      ]
    },
    {
      "cell_type": "code",
      "metadata": {
        "id": "3NyB-G-SeEUP"
      },
      "source": [
        "zamin= []\n",
        "for i in wikitext:\n",
        "  if \" زمین \" in i:\n",
        "    if(len(i)<350):\n",
        "         i=i.replace(\"\\u200c\",\"\")\n",
        "         zamin.append(i.rstrip(\"\\n\"))\n",
        "\n",
        "#zamin=zamin[:200]\n"
      ],
      "execution_count": null,
      "outputs": []
    },
    {
      "cell_type": "code",
      "metadata": {
        "id": "8_7OeK6beL3c"
      },
      "source": [
        "zamin2=[]\n",
        "c=0\n",
        "sum=0\n",
        "for i in zamin:\n",
        "    sentence = Sentence(i)\n",
        "    stacked_embeddings.embed(sentence)\n",
        "    for token in sentence:\n",
        "        sum+=token.embedding\n",
        "        c+=1\n",
        "    sum=sum / c\n",
        "    zamin2.append(np.array(sum))"
      ],
      "execution_count": null,
      "outputs": []
    },
    {
      "cell_type": "code",
      "metadata": {
        "id": "RO2tABK0hCI8",
        "colab": {
          "base_uri": "https://localhost:8080/",
          "height": 264
        },
        "outputId": "fd0e6b18-0a59-47fa-ad10-a58c3cb8e73c"
      },
      "source": [
        "zamin2=np.array(zamin2)\n",
        "kmeans = KMeans(n_clusters=9, random_state=0).fit(zamin2)\n",
        "y_kmeans = kmeans.predict(zamin2)\n",
        "labels=kmeans.labels_\n",
        "plt.scatter(zamin2[:, 0], zamin2[:, 1], c=y_kmeans, cmap='viridis')\n",
        "plt.show()"
      ],
      "execution_count": null,
      "outputs": [
        {
          "output_type": "display_data",
          "data": {
            "image/png": "[encoded data removed]",
            "text/plain": [
              "<Figure size 432x288 with 1 Axes>"
            ]
          },
          "metadata": {
            "tags": [],
            "needs_background": "light"
          }
        }
      ]
    },
    {
      "cell_type": "code",
      "metadata": {
        "id": "3d0NCxVvBlaj",
        "colab": {
          "base_uri": "https://localhost:8080/",
          "height": 590
        },
        "outputId": "c4863006-3971-47d3-ad84-b70c5172af22"
      },
      "source": [
        "df = pd.DataFrame(columns=[\"معنی1\",\"معنی2\",\"معنی3\",\"معنی4\",\"معنی5\",\"معنی6\",\"معنی7\",\"معنی8\",\"معنی9\"])\n",
        "for i in range(200):\n",
        "  if labels[i]==0:\n",
        "    df=df.append({\"معنی1\":zamin[i]}, ignore_index=True)\n",
        "  elif labels[i]==1:\n",
        "    df=df.append({\"معنی2\":zamin[i]}, ignore_index=True)\n",
        "  elif labels[i]==2:\n",
        "    df=df.append({\"معنی3\":zamin[i]}, ignore_index=True)\n",
        "  elif labels[i]==3:\n",
        "    df=df.append({\"معنی4\":zamin[i]}, ignore_index=True)\n",
        "  elif labels[i]==4:\n",
        "    df=df.append({\"معنی5\":zamin[i]}, ignore_index=True)\n",
        "  elif labels[i]==5:\n",
        "    df=df.append({\"معنی6\":zamin[i]}, ignore_index=True)\n",
        "  elif labels[i]==6:\n",
        "    df=df.append({\"معنی7\":zamin[i]}, ignore_index=True)\n",
        "  elif labels[i]==7:\n",
        "    df=df.append({\"معنی8\":zamin[i]}, ignore_index=True)\n",
        "  elif labels[i]==8:\n",
        "    df=df.append({\"معنی9\":zamin[i]}, ignore_index=True)\n",
        "\n",
        "df = df.apply(lambda x: pd.Series(x.dropna().values))\n",
        "df = df.fillna('')\n",
        "df"
      ],
      "execution_count": null,
      "outputs": [
        {
          "output_type": "execute_result",
          "data": {
            "text/html": [
              "<div>\n",
              "<style scoped>\n",
              "    .dataframe tbody tr th:only-of-type {\n",
              "        vertical-align: middle;\n",
              "    }\n",
              "\n",
              "    .dataframe tbody tr th {\n",
              "        vertical-align: top;\n",
              "    }\n",
              "\n",
              "    .dataframe thead th {\n",
              "        text-align: right;\n",
              "    }\n",
              "</style>\n",
              "<table border=\"1\" class=\"dataframe\">\n",
              "  <thead>\n",
              "    <tr style=\"text-align: right;\">\n",
              "      <th></th>\n",
              "      <th>معنی1</th>\n",
              "      <th>معنی2</th>\n",
              "      <th>معنی3</th>\n",
              "      <th>معنی4</th>\n",
              "      <th>معنی5</th>\n",
              "      <th>معنی6</th>\n",
              "      <th>معنی7</th>\n",
              "      <th>معنی8</th>\n",
              "      <th>معنی9</th>\n",
              "    </tr>\n",
              "  </thead>\n",
              "  <tbody>\n",
              "    <tr>\n",
              "      <th>0</th>\n",
              "      <td>=== زمین لرزه ===</td>\n",
              "      <td>سنتاگزوپری برندهٔ جوایز ادبی معتبر فرانسه و هم...</td>\n",
              "      <td>با توجه به معنای واژه، «اخترشناسی» به «مطالعهٔ...</td>\n",
              "      <td>قرار داشتن زمین در کهکشان راهشیری، به عنوان مج...</td>\n",
              "      <td>ستارهشناسان بعدی، حرکات اجرام آسمانی را برمبنا...</td>\n",
              "      <td>البته امروزه روشهای مختلف دیگری که خیلی دقیقتر...</td>\n",
              "      <td>از زمانی که خورشید وارد مرحلهٔ رشته اصلی شده ت...</td>\n",
              "      <td>غیر از کهکشان ما، کهکشانهای دیگری نیز وجود دار...</td>\n",
              "      <td>در سطح جمعیتهای وابسته به هم و زیستگاههای ایشا...</td>\n",
              "    </tr>\n",
              "    <tr>\n",
              "      <th>1</th>\n",
              "      <td>مجموعه ورزشی کارگران (شامل بخشهای: استخر، زمین...</td>\n",
              "      <td></td>\n",
              "      <td></td>\n",
              "      <td>منبع اصلی ما برای به دست آوردن اطلاعات دربارهٔ...</td>\n",
              "      <td></td>\n",
              "      <td></td>\n",
              "      <td>دورهٔ چهارم از سال ۱۳۵۷ تا ۱۳۶۵ که سالهای نخست...</td>\n",
              "      <td></td>\n",
              "      <td>به دلیل اینکه مردم تهران هنگام حملهٔ دشمن زیر ...</td>\n",
              "    </tr>\n",
              "    <tr>\n",
              "      <th>2</th>\n",
              "      <td>=== پیدایش عناصر بر روی زمین ===</td>\n",
              "      <td></td>\n",
              "      <td></td>\n",
              "      <td>برای مشاهده منابع پرانرژی از اخترشناسی انرژی ب...</td>\n",
              "      <td></td>\n",
              "      <td></td>\n",
              "      <td>فوتبال ورزش نخست تهران است و شهرآورد تهران میا...</td>\n",
              "      <td></td>\n",
              "      <td>کوهستان هندوکش در شمال شرق افغانستان منطقهای ف...</td>\n",
              "    </tr>\n",
              "    <tr>\n",
              "      <th>3</th>\n",
              "      <td>=== فراوانی بر روی زمین ===</td>\n",
              "      <td></td>\n",
              "      <td></td>\n",
              "      <td>یکی از قدیمیترین زمینههای تحقیقاتی در علم اختر...</td>\n",
              "      <td></td>\n",
              "      <td></td>\n",
              "      <td>رودکی با وجود تقدم نسبت به شاعران بزرگ ایران ز...</td>\n",
              "      <td></td>\n",
              "      <td>در نهاوند به دلیل آهکی بودن زمین، آب حاصل از ب...</td>\n",
              "    </tr>\n",
              "    <tr>\n",
              "      <th>4</th>\n",
              "      <td>=== درون زمین ===</td>\n",
              "      <td></td>\n",
              "      <td></td>\n",
              "      <td>اندازهگیری دقیق موقعیت مکانی سیارات به درک ما ...</td>\n",
              "      <td></td>\n",
              "      <td></td>\n",
              "      <td>در سال ۱۹۹۸ زلزلهای در این منطقه جان ۶ هزار نف...</td>\n",
              "      <td></td>\n",
              "      <td>تعداد شهرکهای صنعتی در استان مرکزی به ۳۵ شهرک ...</td>\n",
              "    </tr>\n",
              "    <tr>\n",
              "      <th>...</th>\n",
              "      <td>...</td>\n",
              "      <td>...</td>\n",
              "      <td>...</td>\n",
              "      <td>...</td>\n",
              "      <td>...</td>\n",
              "      <td>...</td>\n",
              "      <td>...</td>\n",
              "      <td>...</td>\n",
              "      <td>...</td>\n",
              "    </tr>\n",
              "    <tr>\n",
              "      <th>156</th>\n",
              "      <td>در آخرین بازی دور اول مقدماتی، تیم ملی ایران د...</td>\n",
              "      <td></td>\n",
              "      <td></td>\n",
              "      <td></td>\n",
              "      <td></td>\n",
              "      <td></td>\n",
              "      <td></td>\n",
              "      <td></td>\n",
              "      <td></td>\n",
              "    </tr>\n",
              "    <tr>\n",
              "      <th>157</th>\n",
              "      <td>== نقشههایی برای دور زمین گشتن ==</td>\n",
              "      <td></td>\n",
              "      <td></td>\n",
              "      <td></td>\n",
              "      <td></td>\n",
              "      <td></td>\n",
              "      <td></td>\n",
              "      <td></td>\n",
              "      <td></td>\n",
              "    </tr>\n",
              "    <tr>\n",
              "      <th>158</th>\n",
              "      <td>=== گشتن به دور زمین ===</td>\n",
              "      <td></td>\n",
              "      <td></td>\n",
              "      <td></td>\n",
              "      <td></td>\n",
              "      <td></td>\n",
              "      <td></td>\n",
              "      <td></td>\n",
              "      <td></td>\n",
              "    </tr>\n",
              "    <tr>\n",
              "      <th>159</th>\n",
              "      <td>در ۶ سپتامبر ۱۵۲۲ میلادی - سه سال بعد از ترک ا...</td>\n",
              "      <td></td>\n",
              "      <td></td>\n",
              "      <td></td>\n",
              "      <td></td>\n",
              "      <td></td>\n",
              "      <td></td>\n",
              "      <td></td>\n",
              "      <td></td>\n",
              "    </tr>\n",
              "    <tr>\n",
              "      <th>160</th>\n",
              "      <td>مأموریت ماژلان در تاریخ پویشهای جغرافیایی نقطه...</td>\n",
              "      <td></td>\n",
              "      <td></td>\n",
              "      <td></td>\n",
              "      <td></td>\n",
              "      <td></td>\n",
              "      <td></td>\n",
              "      <td></td>\n",
              "      <td></td>\n",
              "    </tr>\n",
              "  </tbody>\n",
              "</table>\n",
              "<p>161 rows × 9 columns</p>\n",
              "</div>"
            ],
            "text/plain": [
              "                                                 معنی1  ...                                              معنی9\n",
              "0                                    === زمین لرزه ===  ...  در سطح جمعیتهای وابسته به هم و زیستگاههای ایشا...\n",
              "1    مجموعه ورزشی کارگران (شامل بخشهای: استخر، زمین...  ...  به دلیل اینکه مردم تهران هنگام حملهٔ دشمن زیر ...\n",
              "2                     === پیدایش عناصر بر روی زمین ===  ...  کوهستان هندوکش در شمال شرق افغانستان منطقهای ف...\n",
              "3                          === فراوانی بر روی زمین ===  ...  در نهاوند به دلیل آهکی بودن زمین، آب حاصل از ب...\n",
              "4                                    === درون زمین ===  ...  تعداد شهرکهای صنعتی در استان مرکزی به ۳۵ شهرک ...\n",
              "..                                                 ...  ...                                                ...\n",
              "156  در آخرین بازی دور اول مقدماتی، تیم ملی ایران د...  ...                                                   \n",
              "157                  == نقشههایی برای دور زمین گشتن ==  ...                                                   \n",
              "158                           === گشتن به دور زمین ===  ...                                                   \n",
              "159  در ۶ سپتامبر ۱۵۲۲ میلادی - سه سال بعد از ترک ا...  ...                                                   \n",
              "160  مأموریت ماژلان در تاریخ پویشهای جغرافیایی نقطه...  ...                                                   \n",
              "\n",
              "[161 rows x 9 columns]"
            ]
          },
          "metadata": {
            "tags": []
          },
          "execution_count": 315
        }
      ]
    },
    {
      "cell_type": "markdown",
      "metadata": {
        "id": "vxEvfhB8j24r"
      },
      "source": [
        ""
      ]
    },
    {
      "cell_type": "code",
      "metadata": {
        "colab": {
          "base_uri": "https://localhost:8080/"
        },
        "id": "7ABK90fRjifo",
        "outputId": "a16122a5-4d2c-4790-db14-2cdd9c73c765"
      },
      "source": [
        "! ./ukb_wsd --ppr_w2w --allranks  -K fn3.bin -D DICT_TEST.txt zamin1.txt "
      ],
      "execution_count": null,
      "outputs": [
        {
          "output_type": "stream",
          "text": [
            "!! -v 2.2 ./ukb_wsd --ppr_w2w --allranks -K fn3.bin -D DICT_TEST.txt zamin1.txt\n",
            "ctx_00 w1  13274-n/0.529673 12161-n/0.186503 13300-n/0.099686 13297-n/0.0903346 13299-n/0.0461304 11911-n/0.0178812 13273-n/0.01206 12567-n/0.00902293 10355-n/0.00870871 !! زمین\n"
          ],
          "name": "stdout"
        }
      ]
    },
    {
      "cell_type": "code",
      "metadata": {
        "colab": {
          "base_uri": "https://localhost:8080/"
        },
        "id": "WJL9k_90jpT3",
        "outputId": "aa36a3c9-aa14-42d7-bfe1-e962950b4f7a"
      },
      "source": [
        "! ./ukb_wsd --ppr_w2w --allranks  -K fn3.bin -D DICT_TEST.txt zamin2.txt "
      ],
      "execution_count": null,
      "outputs": [
        {
          "output_type": "stream",
          "text": [
            "!! -v 2.2 ./ukb_wsd --ppr_w2w --allranks -K fn3.bin -D DICT_TEST.txt zamin2.txt\n",
            "ctx_00 w6  13274-n/0.26621 12161-n/0.195553 13299-n/0.181314 13297-n/0.149525 13300-n/0.097247 11911-n/0.0430601 13273-n/0.0259832 12567-n/0.0212214 10355-n/0.0198867 !! زمین\n"
          ],
          "name": "stdout"
        }
      ]
    },
    {
      "cell_type": "code",
      "metadata": {
        "colab": {
          "base_uri": "https://localhost:8080/"
        },
        "id": "BWOigduvjpt6",
        "outputId": "aaf35a6f-d84f-4865-a009-ff71b8e5c9e0"
      },
      "source": [
        "! ./ukb_wsd --ppr_w2w --allranks  -K fn3.bin -D DICT_TEST.txt zamin3.txt "
      ],
      "execution_count": null,
      "outputs": [
        {
          "output_type": "stream",
          "text": [
            "!! -v 2.2 ./ukb_wsd --ppr_w2w --allranks -K fn3.bin -D DICT_TEST.txt zamin3.txt\n",
            "ctx_00 w1  13297-n/0.721795 13299-n/0.11178 11911-n/0.0761108 10355-n/0.0244162 12161-n/0.0234512 13300-n/0.0188968 13274-n/0.0115326 13273-n/0.00731221 12567-n/0.00470548 !! زمین\n"
          ],
          "name": "stdout"
        }
      ]
    },
    {
      "cell_type": "code",
      "metadata": {
        "colab": {
          "base_uri": "https://localhost:8080/"
        },
        "id": "DHKt3ENVjqOG",
        "outputId": "d4d646ca-71ae-481a-a5e2-417f658c5862"
      },
      "source": [
        "! ./ukb_wsd --ppr_w2w --allranks  -K fn3.bin -D DICT_TEST.txt zamin4.txt "
      ],
      "execution_count": null,
      "outputs": [
        {
          "output_type": "stream",
          "text": [
            "!! -v 2.2 ./ukb_wsd --ppr_w2w --allranks -K fn3.bin -D DICT_TEST.txt zamin4.txt\n",
            "ctx_00 w6  12567-n/0.805718 13297-n/0.0606801 13300-n/0.0543558 13299-n/0.0321081 12161-n/0.0129894 13274-n/0.0117965 11911-n/0.0103589 10355-n/0.00662401 13273-n/0.00536919 !! زمین\n"
          ],
          "name": "stdout"
        }
      ]
    },
    {
      "cell_type": "code",
      "metadata": {
        "colab": {
          "base_uri": "https://localhost:8080/"
        },
        "id": "D2LSHM-ejquF",
        "outputId": "8d1b387e-6024-46e9-b1a0-d24138c1d506"
      },
      "source": [
        "! ./ukb_wsd --ppr_w2w --allranks  -K fn3.bin -D DICT_TEST.txt zamin5.txt "
      ],
      "execution_count": null,
      "outputs": [
        {
          "output_type": "stream",
          "text": [
            "!! -v 2.2 ./ukb_wsd --ppr_w2w --allranks -K fn3.bin -D DICT_TEST.txt zamin5.txt\n",
            "ctx_00 w2  13297-n/0.390927 13299-n/0.173146 12161-n/0.10229 13274-n/0.101231 13300-n/0.0934783 11911-n/0.0563912 10355-n/0.0496989 12567-n/0.0194709 13273-n/0.0133667 !! زمین\n"
          ],
          "name": "stdout"
        }
      ]
    },
    {
      "cell_type": "code",
      "metadata": {
        "colab": {
          "base_uri": "https://localhost:8080/"
        },
        "id": "9k3F7xjkjri6",
        "outputId": "2458ec04-d5f9-4177-852f-8d4a79a89c82"
      },
      "source": [
        "! ./ukb_wsd --ppr_w2w --allranks  -K fn3.bin -D DICT_TEST.txt zamin6.txt "
      ],
      "execution_count": null,
      "outputs": [
        {
          "output_type": "stream",
          "text": [
            "!! -v 2.2 ./ukb_wsd --ppr_w2w --allranks -K fn3.bin -D DICT_TEST.txt zamin6.txt\n",
            "ctx_00 w1  13297-n/0.902161 13299-n/0.049565 11911-n/0.0109642 13300-n/0.00908785 12567-n/0.00845854 10355-n/0.00784372 12161-n/0.0074639 13274-n/0.00323829 13273-n/0.0012173 !! زمین\n"
          ],
          "name": "stdout"
        }
      ]
    },
    {
      "cell_type": "code",
      "metadata": {
        "colab": {
          "base_uri": "https://localhost:8080/"
        },
        "id": "yBhmi6tEjr7x",
        "outputId": "fbae78e1-f4f4-4ff9-a2a8-db4d9fa153e5"
      },
      "source": [
        "! ./ukb_wsd --ppr_w2w --allranks  -K fn3.bin -D DICT_TEST.txt zamin7.txt "
      ],
      "execution_count": null,
      "outputs": [
        {
          "output_type": "stream",
          "text": [
            "!! -v 2.2 ./ukb_wsd --ppr_w2w --allranks -K fn3.bin -D DICT_TEST.txt zamin7.txt\n",
            "ctx_00 w1  13297-n/0.406787 13274-n/0.276321 12161-n/0.0982057 13300-n/0.0962744 13299-n/0.0816204 11911-n/0.0182925 10355-n/0.0109281 13273-n/0.00645991 12567-n/0.00511075 !! زمین\n"
          ],
          "name": "stdout"
        }
      ]
    },
    {
      "cell_type": "code",
      "metadata": {
        "colab": {
          "base_uri": "https://localhost:8080/"
        },
        "id": "yCDOEcbRjsZf",
        "outputId": "b562504a-9d17-4b62-fc74-01ea1d5d998d"
      },
      "source": [
        "! ./ukb_wsd --ppr_w2w --allranks  -K fn3.bin -D DICT_TEST.txt zamin8.txt "
      ],
      "execution_count": null,
      "outputs": [
        {
          "output_type": "stream",
          "text": [
            "!! -v 2.2 ./ukb_wsd --ppr_w2w --allranks -K fn3.bin -D DICT_TEST.txt zamin8.txt\n",
            "ctx_00 w1  12161-n/0.859195 13297-n/0.0736391 13299-n/0.0203847 13274-n/0.0185671 13300-n/0.0106686 11911-n/0.00549091 13273-n/0.00532375 10355-n/0.00434741 12567-n/0.00238391 !! زمین\n"
          ],
          "name": "stdout"
        }
      ]
    },
    {
      "cell_type": "code",
      "metadata": {
        "colab": {
          "base_uri": "https://localhost:8080/"
        },
        "id": "SU1kl67mjsy0",
        "outputId": "f52014b9-9391-4c0d-aeef-9ed3e2bea8c4"
      },
      "source": [
        "! ./ukb_wsd --ppr_w2w --allranks  -K fn3.bin -D DICT_TEST.txt zamin9.txt "
      ],
      "execution_count": null,
      "outputs": [
        {
          "output_type": "stream",
          "text": [
            "!! -v 2.2 ./ukb_wsd --ppr_w2w --allranks -K fn3.bin -D DICT_TEST.txt zamin9.txt\n",
            "ctx_00 w6  12161-n/0.454999 13297-n/0.12715 13299-n/0.11508 13300-n/0.0827611 13273-n/0.0814121 13274-n/0.0780347 11911-n/0.0246975 10355-n/0.0220424 12567-n/0.0138228 !! زمین\n"
          ],
          "name": "stdout"
        }
      ]
    },
    {
      "cell_type": "markdown",
      "metadata": {
        "id": "6RLoZ8JxpyS-"
      },
      "source": [
        "### **Final resault**"
      ]
    },
    {
      "cell_type": "code",
      "metadata": {
        "id": "5cpea_ucqKVZ"
      },
      "source": [
        "import pandas as pd"
      ],
      "execution_count": null,
      "outputs": []
    },
    {
      "cell_type": "code",
      "metadata": {
        "id": "NLyYrkvOpxe3"
      },
      "source": [
        "final=pd.read_excel('/content/mydrive/My Drive/nlpproject/final.xlsx')\n"
      ],
      "execution_count": null,
      "outputs": []
    },
    {
      "cell_type": "code",
      "metadata": {
        "id": "Fekf2zvNq9X5"
      },
      "source": [
        "final = final.fillna('')\n",
        "final=final.set_index('word')\n"
      ],
      "execution_count": null,
      "outputs": []
    },
    {
      "cell_type": "code",
      "metadata": {
        "colab": {
          "base_uri": "https://localhost:8080/",
          "height": 677
        },
        "id": "i5vUY3hpqCfO",
        "outputId": "57e1e061-4178-43d0-84d2-1bd907573935"
      },
      "source": [
        "\n",
        "final"
      ],
      "execution_count": null,
      "outputs": [
        {
          "output_type": "execute_result",
          "data": {
            "text/html": [
              "<div>\n",
              "<style scoped>\n",
              "    .dataframe tbody tr th:only-of-type {\n",
              "        vertical-align: middle;\n",
              "    }\n",
              "\n",
              "    .dataframe tbody tr th {\n",
              "        vertical-align: top;\n",
              "    }\n",
              "\n",
              "    .dataframe thead th {\n",
              "        text-align: right;\n",
              "    }\n",
              "</style>\n",
              "<table border=\"1\" class=\"dataframe\">\n",
              "  <thead>\n",
              "    <tr style=\"text-align: right;\">\n",
              "      <th></th>\n",
              "      <th>معنی1</th>\n",
              "      <th>معنی2</th>\n",
              "      <th>معنی3</th>\n",
              "      <th>معنی4</th>\n",
              "      <th>معنی5</th>\n",
              "      <th>معنی6</th>\n",
              "      <th>معنی7</th>\n",
              "      <th>معنی8</th>\n",
              "      <th>معنی9</th>\n",
              "      <th>معنی انتخابی</th>\n",
              "      <th>code</th>\n",
              "    </tr>\n",
              "    <tr>\n",
              "      <th>word</th>\n",
              "      <th></th>\n",
              "      <th></th>\n",
              "      <th></th>\n",
              "      <th></th>\n",
              "      <th></th>\n",
              "      <th></th>\n",
              "      <th></th>\n",
              "      <th></th>\n",
              "      <th></th>\n",
              "      <th></th>\n",
              "      <th></th>\n",
              "    </tr>\n",
              "  </thead>\n",
              "  <tbody>\n",
              "    <tr>\n",
              "      <th>کارشناس</th>\n",
              "      <td>0.0120</td>\n",
              "      <td>0.986</td>\n",
              "      <td></td>\n",
              "      <td></td>\n",
              "      <td></td>\n",
              "      <td></td>\n",
              "      <td></td>\n",
              "      <td></td>\n",
              "      <td></td>\n",
              "      <td>معنی 2</td>\n",
              "      <td>13328</td>\n",
              "    </tr>\n",
              "    <tr>\n",
              "      <th>بازار</th>\n",
              "      <td>0.0740</td>\n",
              "      <td>0.291</td>\n",
              "      <td>0.158</td>\n",
              "      <td>0.259</td>\n",
              "      <td>0.0899</td>\n",
              "      <td>0.049</td>\n",
              "      <td>0.0455</td>\n",
              "      <td>0.025</td>\n",
              "      <td></td>\n",
              "      <td>معنی2</td>\n",
              "      <td>10713</td>\n",
              "    </tr>\n",
              "    <tr>\n",
              "      <th>چهره</th>\n",
              "      <td>0.1090</td>\n",
              "      <td>0.215</td>\n",
              "      <td>0.0504</td>\n",
              "      <td>0.634</td>\n",
              "      <td>0.157</td>\n",
              "      <td>0.28</td>\n",
              "      <td></td>\n",
              "      <td></td>\n",
              "      <td></td>\n",
              "      <td>معنی4</td>\n",
              "      <td>12016</td>\n",
              "    </tr>\n",
              "    <tr>\n",
              "      <th>اخبار</th>\n",
              "      <td>0.5460</td>\n",
              "      <td>0.452</td>\n",
              "      <td></td>\n",
              "      <td></td>\n",
              "      <td></td>\n",
              "      <td></td>\n",
              "      <td></td>\n",
              "      <td></td>\n",
              "      <td></td>\n",
              "      <td>معنی1</td>\n",
              "      <td>11465</td>\n",
              "    </tr>\n",
              "    <tr>\n",
              "      <th>مسابقه</th>\n",
              "      <td>0.0460</td>\n",
              "      <td>0.826</td>\n",
              "      <td>0.09</td>\n",
              "      <td>0.003</td>\n",
              "      <td></td>\n",
              "      <td></td>\n",
              "      <td></td>\n",
              "      <td></td>\n",
              "      <td></td>\n",
              "      <td>معنی2</td>\n",
              "      <td>10538</td>\n",
              "    </tr>\n",
              "    <tr>\n",
              "      <th>حوزه</th>\n",
              "      <td>0.0060</td>\n",
              "      <td>0.07</td>\n",
              "      <td>0.04</td>\n",
              "      <td>0.864</td>\n",
              "      <td></td>\n",
              "      <td></td>\n",
              "      <td></td>\n",
              "      <td></td>\n",
              "      <td></td>\n",
              "      <td>معنی4</td>\n",
              "      <td>14259</td>\n",
              "    </tr>\n",
              "    <tr>\n",
              "      <th>ماشین</th>\n",
              "      <td>0.7500</td>\n",
              "      <td>0.228</td>\n",
              "      <td>0.016</td>\n",
              "      <td></td>\n",
              "      <td></td>\n",
              "      <td></td>\n",
              "      <td></td>\n",
              "      <td></td>\n",
              "      <td></td>\n",
              "      <td>معنی1</td>\n",
              "      <td>10885</td>\n",
              "    </tr>\n",
              "    <tr>\n",
              "      <th>چشم</th>\n",
              "      <td>0.9920</td>\n",
              "      <td>0.013</td>\n",
              "      <td>0.059</td>\n",
              "      <td></td>\n",
              "      <td></td>\n",
              "      <td></td>\n",
              "      <td></td>\n",
              "      <td></td>\n",
              "      <td></td>\n",
              "      <td>معنی1</td>\n",
              "      <td>10314</td>\n",
              "    </tr>\n",
              "    <tr>\n",
              "      <th>فضا</th>\n",
              "      <td>0.0040</td>\n",
              "      <td>0.012</td>\n",
              "      <td>0.0302</td>\n",
              "      <td>0.458</td>\n",
              "      <td>0.421</td>\n",
              "      <td>0.052</td>\n",
              "      <td>0.023</td>\n",
              "      <td></td>\n",
              "      <td></td>\n",
              "      <td>معنی4</td>\n",
              "      <td>14953</td>\n",
              "    </tr>\n",
              "    <tr>\n",
              "      <th>موسسه</th>\n",
              "      <td>0.9900</td>\n",
              "      <td>0.005</td>\n",
              "      <td>0.01</td>\n",
              "      <td></td>\n",
              "      <td></td>\n",
              "      <td></td>\n",
              "      <td></td>\n",
              "      <td></td>\n",
              "      <td></td>\n",
              "      <td>معنی1</td>\n",
              "      <td>12975</td>\n",
              "    </tr>\n",
              "    <tr>\n",
              "      <th>نمایشگاه</th>\n",
              "      <td>0.6240</td>\n",
              "      <td>0.14</td>\n",
              "      <td>0.237</td>\n",
              "      <td></td>\n",
              "      <td></td>\n",
              "      <td></td>\n",
              "      <td></td>\n",
              "      <td></td>\n",
              "      <td></td>\n",
              "      <td>معنی1</td>\n",
              "      <td>10391</td>\n",
              "    </tr>\n",
              "    <tr>\n",
              "      <th>نقاشی</th>\n",
              "      <td>0.0580</td>\n",
              "      <td>0.253</td>\n",
              "      <td>0.619</td>\n",
              "      <td>0.066</td>\n",
              "      <td></td>\n",
              "      <td></td>\n",
              "      <td></td>\n",
              "      <td></td>\n",
              "      <td></td>\n",
              "      <td>معنی3</td>\n",
              "      <td>14547</td>\n",
              "    </tr>\n",
              "    <tr>\n",
              "      <th>دروازه</th>\n",
              "      <td>1.0000</td>\n",
              "      <td></td>\n",
              "      <td></td>\n",
              "      <td></td>\n",
              "      <td></td>\n",
              "      <td></td>\n",
              "      <td></td>\n",
              "      <td></td>\n",
              "      <td></td>\n",
              "      <td>معنی1</td>\n",
              "      <td>15007</td>\n",
              "    </tr>\n",
              "    <tr>\n",
              "      <th>حرکت</th>\n",
              "      <td>0.2760</td>\n",
              "      <td>0.26</td>\n",
              "      <td>0.693</td>\n",
              "      <td></td>\n",
              "      <td></td>\n",
              "      <td></td>\n",
              "      <td></td>\n",
              "      <td></td>\n",
              "      <td></td>\n",
              "      <td>معنی3</td>\n",
              "      <td>15937</td>\n",
              "    </tr>\n",
              "    <tr>\n",
              "      <th>داور</th>\n",
              "      <td>0.4120</td>\n",
              "      <td>0.586</td>\n",
              "      <td></td>\n",
              "      <td></td>\n",
              "      <td></td>\n",
              "      <td></td>\n",
              "      <td></td>\n",
              "      <td></td>\n",
              "      <td></td>\n",
              "      <td>معنی2</td>\n",
              "      <td>27722</td>\n",
              "    </tr>\n",
              "    <tr>\n",
              "      <th>بازی</th>\n",
              "      <td>0.0670</td>\n",
              "      <td>0.013</td>\n",
              "      <td>0.342</td>\n",
              "      <td>0.002</td>\n",
              "      <td>0.051</td>\n",
              "      <td>0.3911</td>\n",
              "      <td>0.05</td>\n",
              "      <td>0.07</td>\n",
              "      <td>0.0139</td>\n",
              "      <td>معنی6</td>\n",
              "      <td>12889</td>\n",
              "    </tr>\n",
              "    <tr>\n",
              "      <th>فیلم</th>\n",
              "      <td>0.0003</td>\n",
              "      <td>0.0004</td>\n",
              "      <td>0.751</td>\n",
              "      <td>0.0014</td>\n",
              "      <td>0.239</td>\n",
              "      <td></td>\n",
              "      <td></td>\n",
              "      <td></td>\n",
              "      <td></td>\n",
              "      <td>معنی3</td>\n",
              "      <td>13094</td>\n",
              "    </tr>\n",
              "    <tr>\n",
              "      <th>هوش</th>\n",
              "      <td>1.0000</td>\n",
              "      <td></td>\n",
              "      <td></td>\n",
              "      <td></td>\n",
              "      <td></td>\n",
              "      <td></td>\n",
              "      <td></td>\n",
              "      <td></td>\n",
              "      <td></td>\n",
              "      <td>معنی1</td>\n",
              "      <td>11317</td>\n",
              "    </tr>\n",
              "    <tr>\n",
              "      <th>سال</th>\n",
              "      <td>0.0620</td>\n",
              "      <td>0.053</td>\n",
              "      <td>0.07</td>\n",
              "      <td>0.042</td>\n",
              "      <td>0.046</td>\n",
              "      <td>0.638</td>\n",
              "      <td>0.059</td>\n",
              "      <td>0.001</td>\n",
              "      <td>0.03</td>\n",
              "      <td>معنی6</td>\n",
              "      <td>13238</td>\n",
              "    </tr>\n",
              "    <tr>\n",
              "      <th>زمین</th>\n",
              "      <td>0.0110</td>\n",
              "      <td>0.017</td>\n",
              "      <td>0.183</td>\n",
              "      <td>0.0098</td>\n",
              "      <td>0.0075</td>\n",
              "      <td>0.293</td>\n",
              "      <td>0.351</td>\n",
              "      <td>0.068</td>\n",
              "      <td>0.085</td>\n",
              "      <td>معنی7</td>\n",
              "      <td>13297</td>\n",
              "    </tr>\n",
              "  </tbody>\n",
              "</table>\n",
              "</div>"
            ],
            "text/plain": [
              "           معنی1   معنی2   معنی3   معنی4  ...  معنی8   معنی9 معنی انتخابی   code\n",
              "word                                      ...                                   \n",
              "کارشناس   0.0120   0.986                  ...                      معنی 2  13328\n",
              "بازار     0.0740   0.291   0.158   0.259  ...  0.025                معنی2  10713\n",
              "چهره      0.1090   0.215  0.0504   0.634  ...                       معنی4  12016\n",
              "اخبار     0.5460   0.452                  ...                       معنی1  11465\n",
              "مسابقه    0.0460   0.826    0.09   0.003  ...                       معنی2  10538\n",
              "حوزه      0.0060    0.07    0.04   0.864  ...                       معنی4  14259\n",
              "ماشین     0.7500   0.228   0.016          ...                       معنی1  10885\n",
              "چشم       0.9920   0.013   0.059          ...                       معنی1  10314\n",
              "فضا       0.0040   0.012  0.0302   0.458  ...                       معنی4  14953\n",
              "موسسه     0.9900   0.005    0.01          ...                       معنی1  12975\n",
              "نمایشگاه  0.6240    0.14   0.237          ...                       معنی1  10391\n",
              "نقاشی     0.0580   0.253   0.619   0.066  ...                       معنی3  14547\n",
              "دروازه    1.0000                          ...                       معنی1  15007\n",
              "حرکت      0.2760    0.26   0.693          ...                       معنی3  15937\n",
              "داور      0.4120   0.586                  ...                       معنی2  27722\n",
              "بازی      0.0670   0.013   0.342   0.002  ...   0.07  0.0139        معنی6  12889\n",
              "فیلم      0.0003  0.0004   0.751  0.0014  ...                       معنی3  13094\n",
              "هوش       1.0000                          ...                       معنی1  11317\n",
              "سال       0.0620   0.053    0.07   0.042  ...  0.001    0.03        معنی6  13238\n",
              "زمین      0.0110   0.017   0.183  0.0098  ...  0.068   0.085        معنی7  13297\n",
              "\n",
              "[20 rows x 11 columns]"
            ]
          },
          "metadata": {
            "tags": []
          },
          "execution_count": 158
        }
      ]
    },
    {
      "cell_type": "markdown",
      "metadata": {
        "id": "7Ol6UBUfHlt1"
      },
      "source": [
        "### **Test**"
      ]
    },
    {
      "cell_type": "code",
      "metadata": {
        "id": "xddLlxseLVhi"
      },
      "source": [
        "da=open('/content/mydrive/My Drive/nlpproject/TestSet.txt',\"r\")\n",
        "dataset=da.read()\n",
        "test=dataset.split(\"!!!\")\n"
      ],
      "execution_count": null,
      "outputs": []
    },
    {
      "cell_type": "code",
      "metadata": {
        "id": "8MHtDMlPyV3B"
      },
      "source": [
        "word=['کارشناس', 'بازار', 'چهره', 'اخبار', 'مسابقه', 'حوزه', 'ماشین', 'چشم',\n",
        "       'فضا', 'موسسه', 'نمایشگاه', 'نقاشی', 'دروازه', 'داور', 'بازی',\n",
        "       'فیلم', 'هوش', 'سال', 'زمین']"
      ],
      "execution_count": null,
      "outputs": []
    },
    {
      "cell_type": "code",
      "metadata": {
        "id": "2HOQ8-uxL_MP"
      },
      "source": [
        "sum=0\n",
        "num=0\n",
        "dic2={'کارشناس':0, 'بازار':0, 'چهره':0, 'اخبار':0, 'مسابقه':0, 'حوزه':0, 'ماشین':0, 'چشم':0, 'فضا':0, 'موسسه':0, 'نمایشگاه':0, 'نقاشی':0, 'دروازه':0, 'داور':0, 'بازی':0,'فیلم':0, 'هوش':0, 'سال':0, 'زمین':0}\n",
        "dic={'کارشناس':0, 'بازار':0, 'چهره':0, 'اخبار':0, 'مسابقه':0, 'حوزه':0, 'ماشین':0, 'چشم':0, 'فضا':0, 'موسسه':0, 'نمایشگاه':0, 'نقاشی':0, 'دروازه':0, 'داور':0, 'بازی':0,'فیلم':0, 'هوش':0, 'سال':0, 'زمین':0}\n",
        "for i in test:\n",
        "  s=i.split('**')\n",
        "  \n",
        "  if s[0] in word:\n",
        "    b=s[0]\n",
        "    dic[s[0]]+=1\n",
        "    a=int(final['code'][b])\n",
        "    n=int(s[3])\n",
        "    if a==n:\n",
        "      dic2[s[0]]+=1\n",
        "    "
      ],
      "execution_count": null,
      "outputs": []
    },
    {
      "cell_type": "code",
      "metadata": {
        "colab": {
          "base_uri": "https://localhost:8080/"
        },
        "id": "pcjE4SoRsTq-",
        "outputId": "ae3725a8-7a14-43ce-a3ba-0c7050794ba3"
      },
      "source": [
        "precision=sum/num\n",
        "precision"
      ],
      "execution_count": null,
      "outputs": [
        {
          "output_type": "execute_result",
          "data": {
            "text/plain": [
              "0.5370370370370371"
            ]
          },
          "metadata": {
            "tags": []
          },
          "execution_count": 222
        }
      ]
    },
    {
      "cell_type": "code",
      "metadata": {
        "id": "cdGjKECQ_TCU"
      },
      "source": [
        "pre=pd.read_excel('/content/mydrive/My Drive/nlpproject/pre.xlsx')"
      ],
      "execution_count": null,
      "outputs": []
    },
    {
      "cell_type": "code",
      "metadata": {
        "colab": {
          "base_uri": "https://localhost:8080/",
          "height": 647
        },
        "id": "ZgqvjJef_YTe",
        "outputId": "609db186-044e-4ad9-f0ad-b0a010cf23fe"
      },
      "source": [
        "pre"
      ],
      "execution_count": null,
      "outputs": [
        {
          "output_type": "execute_result",
          "data": {
            "text/html": [
              "<div>\n",
              "<style scoped>\n",
              "    .dataframe tbody tr th:only-of-type {\n",
              "        vertical-align: middle;\n",
              "    }\n",
              "\n",
              "    .dataframe tbody tr th {\n",
              "        vertical-align: top;\n",
              "    }\n",
              "\n",
              "    .dataframe thead th {\n",
              "        text-align: right;\n",
              "    }\n",
              "</style>\n",
              "<table border=\"1\" class=\"dataframe\">\n",
              "  <thead>\n",
              "    <tr style=\"text-align: right;\">\n",
              "      <th></th>\n",
              "      <th>word</th>\n",
              "      <th>دقت</th>\n",
              "    </tr>\n",
              "  </thead>\n",
              "  <tbody>\n",
              "    <tr>\n",
              "      <th>0</th>\n",
              "      <td>کارشناس</td>\n",
              "      <td>100</td>\n",
              "    </tr>\n",
              "    <tr>\n",
              "      <th>1</th>\n",
              "      <td>بازار</td>\n",
              "      <td>0</td>\n",
              "    </tr>\n",
              "    <tr>\n",
              "      <th>2</th>\n",
              "      <td>چهره</td>\n",
              "      <td>0</td>\n",
              "    </tr>\n",
              "    <tr>\n",
              "      <th>3</th>\n",
              "      <td>اخبار</td>\n",
              "      <td>100</td>\n",
              "    </tr>\n",
              "    <tr>\n",
              "      <th>4</th>\n",
              "      <td>مسابقه</td>\n",
              "      <td>90</td>\n",
              "    </tr>\n",
              "    <tr>\n",
              "      <th>5</th>\n",
              "      <td>حوزه</td>\n",
              "      <td>100</td>\n",
              "    </tr>\n",
              "    <tr>\n",
              "      <th>6</th>\n",
              "      <td>ماشین</td>\n",
              "      <td>100</td>\n",
              "    </tr>\n",
              "    <tr>\n",
              "      <th>7</th>\n",
              "      <td>چشم</td>\n",
              "      <td>100</td>\n",
              "    </tr>\n",
              "    <tr>\n",
              "      <th>8</th>\n",
              "      <td>فضا</td>\n",
              "      <td>0</td>\n",
              "    </tr>\n",
              "    <tr>\n",
              "      <th>9</th>\n",
              "      <td>موسسه</td>\n",
              "      <td>0</td>\n",
              "    </tr>\n",
              "    <tr>\n",
              "      <th>10</th>\n",
              "      <td>نمایشگاه</td>\n",
              "      <td>100</td>\n",
              "    </tr>\n",
              "    <tr>\n",
              "      <th>11</th>\n",
              "      <td>نقاشی</td>\n",
              "      <td>5</td>\n",
              "    </tr>\n",
              "    <tr>\n",
              "      <th>12</th>\n",
              "      <td>دروازه</td>\n",
              "      <td>100</td>\n",
              "    </tr>\n",
              "    <tr>\n",
              "      <th>13</th>\n",
              "      <td>حرکت</td>\n",
              "      <td>0</td>\n",
              "    </tr>\n",
              "    <tr>\n",
              "      <th>14</th>\n",
              "      <td>داور</td>\n",
              "      <td>100</td>\n",
              "    </tr>\n",
              "    <tr>\n",
              "      <th>15</th>\n",
              "      <td>بازی</td>\n",
              "      <td>84</td>\n",
              "    </tr>\n",
              "    <tr>\n",
              "      <th>16</th>\n",
              "      <td>فیلم</td>\n",
              "      <td>100</td>\n",
              "    </tr>\n",
              "    <tr>\n",
              "      <th>17</th>\n",
              "      <td>هوش</td>\n",
              "      <td>100</td>\n",
              "    </tr>\n",
              "    <tr>\n",
              "      <th>18</th>\n",
              "      <td>سال</td>\n",
              "      <td>0</td>\n",
              "    </tr>\n",
              "    <tr>\n",
              "      <th>19</th>\n",
              "      <td>زمین</td>\n",
              "      <td>93</td>\n",
              "    </tr>\n",
              "  </tbody>\n",
              "</table>\n",
              "</div>"
            ],
            "text/plain": [
              "        word  دقت\n",
              "0    کارشناس  100\n",
              "1      بازار    0\n",
              "2       چهره    0\n",
              "3      اخبار  100\n",
              "4     مسابقه   90\n",
              "5       حوزه  100\n",
              "6      ماشین  100\n",
              "7        چشم  100\n",
              "8        فضا    0\n",
              "9      موسسه    0\n",
              "10  نمایشگاه  100\n",
              "11     نقاشی    5\n",
              "12    دروازه  100\n",
              "13      حرکت    0\n",
              "14      داور  100\n",
              "15      بازی   84\n",
              "16      فیلم  100\n",
              "17       هوش  100\n",
              "18       سال    0\n",
              "19      زمین   93"
            ]
          },
          "metadata": {
            "tags": []
          },
          "execution_count": 240
        }
      ]
    }
  ]
}